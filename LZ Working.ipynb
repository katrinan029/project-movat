{
 "cells": [
  {
   "cell_type": "code",
   "execution_count": 11,
   "metadata": {},
   "outputs": [],
   "source": [
    "import pandas as pd\n",
    "import csv"
   ]
  },
  {
   "cell_type": "code",
   "execution_count": 12,
   "metadata": {},
   "outputs": [],
   "source": [
    "csvpath_california = \"./2020 County Health Rankings California Data - v1_0.csv\""
   ]
  },
  {
   "cell_type": "code",
   "execution_count": 21,
   "metadata": {},
   "outputs": [
    {
     "data": {
      "text/html": [
       "<div>\n",
       "<style scoped>\n",
       "    .dataframe tbody tr th:only-of-type {\n",
       "        vertical-align: middle;\n",
       "    }\n",
       "\n",
       "    .dataframe tbody tr th {\n",
       "        vertical-align: top;\n",
       "    }\n",
       "\n",
       "    .dataframe thead th {\n",
       "        text-align: right;\n",
       "    }\n",
       "</style>\n",
       "<table border=\"1\" class=\"dataframe\">\n",
       "  <thead>\n",
       "    <tr style=\"text-align: right;\">\n",
       "      <th></th>\n",
       "      <th>FIPS</th>\n",
       "      <th>% Adults with Obesity</th>\n",
       "      <th>% Physically Inactive</th>\n",
       "      <th>% With Access to Exercise Opportunities</th>\n",
       "      <th>Primary Care Physicians Rate</th>\n",
       "      <th>High School Graduation Rate</th>\n",
       "      <th>% Unemployed</th>\n",
       "    </tr>\n",
       "  </thead>\n",
       "  <tbody>\n",
       "    <tr>\n",
       "      <th>0</th>\n",
       "      <td>6000</td>\n",
       "      <td>24</td>\n",
       "      <td>18</td>\n",
       "      <td>93</td>\n",
       "      <td>79</td>\n",
       "      <td>83.0</td>\n",
       "      <td>4.2</td>\n",
       "    </tr>\n",
       "    <tr>\n",
       "      <th>1</th>\n",
       "      <td>6001</td>\n",
       "      <td>19</td>\n",
       "      <td>15</td>\n",
       "      <td>100</td>\n",
       "      <td>110</td>\n",
       "      <td>87.0</td>\n",
       "      <td>3.0</td>\n",
       "    </tr>\n",
       "    <tr>\n",
       "      <th>2</th>\n",
       "      <td>6003</td>\n",
       "      <td>23</td>\n",
       "      <td>21</td>\n",
       "      <td>100</td>\n",
       "      <td>0</td>\n",
       "      <td>NaN</td>\n",
       "      <td>4.6</td>\n",
       "    </tr>\n",
       "    <tr>\n",
       "      <th>3</th>\n",
       "      <td>6005</td>\n",
       "      <td>30</td>\n",
       "      <td>25</td>\n",
       "      <td>76</td>\n",
       "      <td>67</td>\n",
       "      <td>88.0</td>\n",
       "      <td>4.0</td>\n",
       "    </tr>\n",
       "    <tr>\n",
       "      <th>4</th>\n",
       "      <td>6007</td>\n",
       "      <td>27</td>\n",
       "      <td>22</td>\n",
       "      <td>84</td>\n",
       "      <td>61</td>\n",
       "      <td>85.0</td>\n",
       "      <td>5.0</td>\n",
       "    </tr>\n",
       "  </tbody>\n",
       "</table>\n",
       "</div>"
      ],
      "text/plain": [
       "   FIPS  % Adults with Obesity  % Physically Inactive  \\\n",
       "0  6000                     24                     18   \n",
       "1  6001                     19                     15   \n",
       "2  6003                     23                     21   \n",
       "3  6005                     30                     25   \n",
       "4  6007                     27                     22   \n",
       "\n",
       "   % With Access to Exercise Opportunities  Primary Care Physicians Rate  \\\n",
       "0                                       93                            79   \n",
       "1                                      100                           110   \n",
       "2                                      100                             0   \n",
       "3                                       76                            67   \n",
       "4                                       84                            61   \n",
       "\n",
       "   High School Graduation Rate  % Unemployed  \n",
       "0                         83.0           4.2  \n",
       "1                         87.0           3.0  \n",
       "2                          NaN           4.6  \n",
       "3                         88.0           4.0  \n",
       "4                         85.0           5.0  "
      ]
     },
     "execution_count": 21,
     "metadata": {},
     "output_type": "execute_result"
    }
   ],
   "source": [
    "california_df = pd.read_csv(csvpath_california)\n",
    "ca_health_df = california_df[[\"FIPS\",\"% Adults with Obesity\",\"% Physically Inactive\",\"% With Access to Exercise Opportunities\",\"Primary Care Physicians Rate\",\"High School Graduation Rate\",\"% Unemployed\"]]\n",
    "ca_health_df.head()"
   ]
  },
  {
   "cell_type": "code",
   "execution_count": 8,
   "metadata": {},
   "outputs": [
    {
     "data": {
      "text/plain": [
       "FIPS                                        object\n",
       "% Adults with Obesity                        int64\n",
       "% Physically Inactive                        int64\n",
       "% With Access to Exercise Opportunities      int64\n",
       "Primary Care Physicians Rate                 int64\n",
       "High School Graduation Rate                float64\n",
       "% Unemployed                               float64\n",
       "dtype: object"
      ]
     },
     "execution_count": 8,
     "metadata": {},
     "output_type": "execute_result"
    }
   ],
   "source": [
    "ca_health_df.astype({'FIPS': 'str'}).dtypes"
   ]
  },
  {
   "cell_type": "code",
   "execution_count": 19,
   "metadata": {},
   "outputs": [
    {
     "data": {
      "text/plain": [
       "0     06000\n",
       "1     06001\n",
       "2     06003\n",
       "3     06005\n",
       "4     06007\n",
       "5     06009\n",
       "6     06011\n",
       "7     06013\n",
       "8     06015\n",
       "9     06017\n",
       "10    06019\n",
       "11    06021\n",
       "12    06023\n",
       "13    06025\n",
       "14    06027\n",
       "15    06029\n",
       "16    06031\n",
       "17    06033\n",
       "18    06035\n",
       "19    06037\n",
       "20    06039\n",
       "21    06041\n",
       "22    06043\n",
       "23    06045\n",
       "24    06047\n",
       "25    06049\n",
       "26    06051\n",
       "27    06053\n",
       "28    06055\n",
       "29    06057\n",
       "30    06059\n",
       "31    06061\n",
       "32    06063\n",
       "33    06065\n",
       "34    06067\n",
       "35    06069\n",
       "36    06071\n",
       "37    06073\n",
       "38    06075\n",
       "39    06077\n",
       "40    06079\n",
       "41    06081\n",
       "42    06083\n",
       "43    06085\n",
       "44    06087\n",
       "45    06089\n",
       "46    06091\n",
       "47    06093\n",
       "48    06095\n",
       "49    06097\n",
       "50    06099\n",
       "51    06101\n",
       "52    06103\n",
       "53    06105\n",
       "54    06107\n",
       "55    06109\n",
       "56    06111\n",
       "57    06113\n",
       "58    06115\n",
       "Name: FIPS, dtype: object"
      ]
     },
     "execution_count": 19,
     "metadata": {},
     "output_type": "execute_result"
    }
   ],
   "source": [
    "# Add 0 to the front of State/County code\n",
    "# Used apply function along with format. Apply passes a function and applies it to every value in the series. \n",
    "# {:0>5}'.format | padding and aligning strings. :0 refers to the character we want to use to pad, in this case 0. \n",
    "# > tells it to align to the right. The 5 is the length of the returned character/digit. \n",
    "# In this case since the FIPS is only 4 digits this will apply one 0 to the front, making it a total of 5 digits\n",
    "# https://www.w3resource.com/python/python-format.php\n",
    "# https://www.geeksforgeeks.org/python-pandas-apply/\n",
    "\n",
    "ca_health_df['FIPS'].apply('{:0>5}'.format)"
   ]
  },
  {
   "cell_type": "code",
   "execution_count": null,
   "metadata": {},
   "outputs": [],
   "source": []
  }
 ],
 "metadata": {
  "kernelspec": {
   "display_name": "Python [conda env:PythonData] *",
   "language": "python",
   "name": "conda-env-PythonData-py"
  },
  "language_info": {
   "codemirror_mode": {
    "name": "ipython",
    "version": 3
   },
   "file_extension": ".py",
   "mimetype": "text/x-python",
   "name": "python",
   "nbconvert_exporter": "python",
   "pygments_lexer": "ipython3",
   "version": "3.6.10"
  }
 },
 "nbformat": 4,
 "nbformat_minor": 4
}
