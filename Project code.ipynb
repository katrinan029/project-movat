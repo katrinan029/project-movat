{
 "cells": [
  {
   "cell_type": "markdown",
   "metadata": {},
   "source": [
    "# Obesity Rate Correlation Analysis\n",
    "\n",
    "* The analysis will encompass data from the states of California, Ohio, and South Carolina.\n",
    "* The objective is to find if there is correlation between obesity rate and the following measurements: \n",
    "    * Median household income\n",
    "    * % With access to exercise opportunities\n",
    "    * % of physically inactive\n",
    "    * Primary care physicians rate\n",
    "    * High School Unemployment rate\n",
    "    * Unemployed rate\n",
    "    "
   ]
  },
  {
   "cell_type": "code",
   "execution_count": 1,
   "metadata": {},
   "outputs": [],
   "source": [
    "import requests\n",
    "import pandas as pd\n",
    "import csv\n",
    "import matplotlib.pyplot as plt\n",
    "import numpy as np\n",
    "import time\n",
    "from scipy.stats import linregress\n",
    "from pprint import pprint\n",
    "from api_key import g_key \n",
    "import json\n",
    "import gmaps\n"
   ]
  },
  {
   "cell_type": "code",
   "execution_count": 2,
   "metadata": {},
   "outputs": [],
   "source": [
    "# Countyhealthrankings data for California, Ohio and South Carolina\n",
    "# source https://www.countyhealthrankings.org/\n",
    "\n",
    "csvpath_california = \"./2020 County Health Rankings California Data - v1_0.csv\"\n",
    "csvpath_ohio = \"./2020 County Health Rankings Ohio Data - v1_0.csv\"\n",
    "csvpath_south_carolina = \"./2020 County Health Rankings South Carolina Data - v1_0.csv\""
   ]
  },
  {
   "cell_type": "code",
   "execution_count": 3,
   "metadata": {},
   "outputs": [
    {
     "name": "stdout",
     "output_type": "stream",
     "text": [
      "https://api.census.gov/data/2018/acs/acs5?get=NAME,B19013_001E&for=county:*&in=state:*\n"
     ]
    }
   ],
   "source": [
    "# Census URL to collect median household income for 2018 for every state and county\n",
    "\n",
    "url = \"https://api.census.gov/data/2018/acs/acs5?get=NAME,B19013_001E&for=county:*&in=state:*\"\n",
    "print(url)"
   ]
  },
  {
   "cell_type": "markdown",
   "metadata": {},
   "source": [
    "## Data Cleaning\n",
    "* Cleaning Data from the US Census and countyhealthrankings for the following states:\n",
    "    * California \n",
    "    * Texas\n",
    "    * Florida"
   ]
  },
  {
   "cell_type": "code",
   "execution_count": 4,
   "metadata": {},
   "outputs": [
    {
     "data": {
      "text/html": [
       "<div>\n",
       "<style scoped>\n",
       "    .dataframe tbody tr th:only-of-type {\n",
       "        vertical-align: middle;\n",
       "    }\n",
       "\n",
       "    .dataframe tbody tr th {\n",
       "        vertical-align: top;\n",
       "    }\n",
       "\n",
       "    .dataframe thead th {\n",
       "        text-align: right;\n",
       "    }\n",
       "</style>\n",
       "<table border=\"1\" class=\"dataframe\">\n",
       "  <thead>\n",
       "    <tr style=\"text-align: right;\">\n",
       "      <th></th>\n",
       "      <th>0</th>\n",
       "      <th>1</th>\n",
       "      <th>2</th>\n",
       "      <th>3</th>\n",
       "    </tr>\n",
       "  </thead>\n",
       "  <tbody>\n",
       "    <tr>\n",
       "      <th>1</th>\n",
       "      <td>Washington County, Mississippi</td>\n",
       "      <td>30834</td>\n",
       "      <td>28</td>\n",
       "      <td>151</td>\n",
       "    </tr>\n",
       "    <tr>\n",
       "      <th>2</th>\n",
       "      <td>Perry County, Mississippi</td>\n",
       "      <td>39007</td>\n",
       "      <td>28</td>\n",
       "      <td>111</td>\n",
       "    </tr>\n",
       "    <tr>\n",
       "      <th>3</th>\n",
       "      <td>Choctaw County, Mississippi</td>\n",
       "      <td>37203</td>\n",
       "      <td>28</td>\n",
       "      <td>019</td>\n",
       "    </tr>\n",
       "    <tr>\n",
       "      <th>4</th>\n",
       "      <td>Itawamba County, Mississippi</td>\n",
       "      <td>40510</td>\n",
       "      <td>28</td>\n",
       "      <td>057</td>\n",
       "    </tr>\n",
       "    <tr>\n",
       "      <th>5</th>\n",
       "      <td>Carroll County, Mississippi</td>\n",
       "      <td>43060</td>\n",
       "      <td>28</td>\n",
       "      <td>015</td>\n",
       "    </tr>\n",
       "  </tbody>\n",
       "</table>\n",
       "</div>"
      ],
      "text/plain": [
       "                                0      1   2    3\n",
       "1  Washington County, Mississippi  30834  28  151\n",
       "2       Perry County, Mississippi  39007  28  111\n",
       "3     Choctaw County, Mississippi  37203  28  019\n",
       "4    Itawamba County, Mississippi  40510  28  057\n",
       "5     Carroll County, Mississippi  43060  28  015"
      ]
     },
     "execution_count": 4,
     "metadata": {},
     "output_type": "execute_result"
    }
   ],
   "source": [
    "# Converting census request into a DataFrame\n",
    "\n",
    "census_data = requests.get(url).json()\n",
    "df = pd.DataFrame(census_data).drop([0,])\n",
    "df.head()"
   ]
  },
  {
   "cell_type": "code",
   "execution_count": 5,
   "metadata": {},
   "outputs": [
    {
     "data": {
      "text/html": [
       "<div>\n",
       "<style scoped>\n",
       "    .dataframe tbody tr th:only-of-type {\n",
       "        vertical-align: middle;\n",
       "    }\n",
       "\n",
       "    .dataframe tbody tr th {\n",
       "        vertical-align: top;\n",
       "    }\n",
       "\n",
       "    .dataframe thead th {\n",
       "        text-align: right;\n",
       "    }\n",
       "</style>\n",
       "<table border=\"1\" class=\"dataframe\">\n",
       "  <thead>\n",
       "    <tr style=\"text-align: right;\">\n",
       "      <th></th>\n",
       "      <th>County and State</th>\n",
       "      <th>Median Income</th>\n",
       "      <th>State Code</th>\n",
       "      <th>County Code</th>\n",
       "    </tr>\n",
       "  </thead>\n",
       "  <tbody>\n",
       "    <tr>\n",
       "      <th>1</th>\n",
       "      <td>Washington County, Mississippi</td>\n",
       "      <td>30834</td>\n",
       "      <td>28</td>\n",
       "      <td>151</td>\n",
       "    </tr>\n",
       "    <tr>\n",
       "      <th>2</th>\n",
       "      <td>Perry County, Mississippi</td>\n",
       "      <td>39007</td>\n",
       "      <td>28</td>\n",
       "      <td>111</td>\n",
       "    </tr>\n",
       "    <tr>\n",
       "      <th>3</th>\n",
       "      <td>Choctaw County, Mississippi</td>\n",
       "      <td>37203</td>\n",
       "      <td>28</td>\n",
       "      <td>019</td>\n",
       "    </tr>\n",
       "    <tr>\n",
       "      <th>4</th>\n",
       "      <td>Itawamba County, Mississippi</td>\n",
       "      <td>40510</td>\n",
       "      <td>28</td>\n",
       "      <td>057</td>\n",
       "    </tr>\n",
       "    <tr>\n",
       "      <th>5</th>\n",
       "      <td>Carroll County, Mississippi</td>\n",
       "      <td>43060</td>\n",
       "      <td>28</td>\n",
       "      <td>015</td>\n",
       "    </tr>\n",
       "  </tbody>\n",
       "</table>\n",
       "</div>"
      ],
      "text/plain": [
       "                 County and State Median Income State Code County Code\n",
       "1  Washington County, Mississippi         30834         28         151\n",
       "2       Perry County, Mississippi         39007         28         111\n",
       "3     Choctaw County, Mississippi         37203         28         019\n",
       "4    Itawamba County, Mississippi         40510         28         057\n",
       "5     Carroll County, Mississippi         43060         28         015"
      ]
     },
     "execution_count": 5,
     "metadata": {},
     "output_type": "execute_result"
    }
   ],
   "source": [
    "# Renaming column headers from US Census data\n",
    "\n",
    "new_df = df.rename(columns = {0:\"County and State\",\n",
    "                             1:\"Median Income\",\n",
    "                             2:\"State Code\",\n",
    "                             3: \"County Code\"})\n",
    "new_df.head()"
   ]
  },
  {
   "cell_type": "code",
   "execution_count": 6,
   "metadata": {},
   "outputs": [
    {
     "data": {
      "text/html": [
       "<div>\n",
       "<style scoped>\n",
       "    .dataframe tbody tr th:only-of-type {\n",
       "        vertical-align: middle;\n",
       "    }\n",
       "\n",
       "    .dataframe tbody tr th {\n",
       "        vertical-align: top;\n",
       "    }\n",
       "\n",
       "    .dataframe thead th {\n",
       "        text-align: right;\n",
       "    }\n",
       "</style>\n",
       "<table border=\"1\" class=\"dataframe\">\n",
       "  <thead>\n",
       "    <tr style=\"text-align: right;\">\n",
       "      <th></th>\n",
       "      <th>County and State</th>\n",
       "      <th>Median Income</th>\n",
       "      <th>State Code</th>\n",
       "      <th>County Code</th>\n",
       "      <th>FIPS</th>\n",
       "    </tr>\n",
       "  </thead>\n",
       "  <tbody>\n",
       "    <tr>\n",
       "      <th>1</th>\n",
       "      <td>Washington County, Mississippi</td>\n",
       "      <td>30834</td>\n",
       "      <td>28</td>\n",
       "      <td>151</td>\n",
       "      <td>28151</td>\n",
       "    </tr>\n",
       "    <tr>\n",
       "      <th>2</th>\n",
       "      <td>Perry County, Mississippi</td>\n",
       "      <td>39007</td>\n",
       "      <td>28</td>\n",
       "      <td>111</td>\n",
       "      <td>28111</td>\n",
       "    </tr>\n",
       "    <tr>\n",
       "      <th>3</th>\n",
       "      <td>Choctaw County, Mississippi</td>\n",
       "      <td>37203</td>\n",
       "      <td>28</td>\n",
       "      <td>019</td>\n",
       "      <td>28019</td>\n",
       "    </tr>\n",
       "    <tr>\n",
       "      <th>4</th>\n",
       "      <td>Itawamba County, Mississippi</td>\n",
       "      <td>40510</td>\n",
       "      <td>28</td>\n",
       "      <td>057</td>\n",
       "      <td>28057</td>\n",
       "    </tr>\n",
       "    <tr>\n",
       "      <th>5</th>\n",
       "      <td>Carroll County, Mississippi</td>\n",
       "      <td>43060</td>\n",
       "      <td>28</td>\n",
       "      <td>015</td>\n",
       "      <td>28015</td>\n",
       "    </tr>\n",
       "  </tbody>\n",
       "</table>\n",
       "</div>"
      ],
      "text/plain": [
       "                 County and State Median Income State Code County Code   FIPS\n",
       "1  Washington County, Mississippi         30834         28         151  28151\n",
       "2       Perry County, Mississippi         39007         28         111  28111\n",
       "3     Choctaw County, Mississippi         37203         28         019  28019\n",
       "4    Itawamba County, Mississippi         40510         28         057  28057\n",
       "5     Carroll County, Mississippi         43060         28         015  28015"
      ]
     },
     "execution_count": 6,
     "metadata": {},
     "output_type": "execute_result"
    }
   ],
   "source": [
    "# Combining State and County Code in order to merge the DataFrame with the Countyhealthrankings\n",
    "# DataFrame\n",
    "\n",
    "new_df[\"FIPS\"] = new_df[\"State Code\"].astype(str) + new_df[\"County Code\"].astype(str)\n",
    "new_df.head()"
   ]
  },
  {
   "cell_type": "code",
   "execution_count": 7,
   "metadata": {},
   "outputs": [
    {
     "data": {
      "text/html": [
       "<div>\n",
       "<style scoped>\n",
       "    .dataframe tbody tr th:only-of-type {\n",
       "        vertical-align: middle;\n",
       "    }\n",
       "\n",
       "    .dataframe tbody tr th {\n",
       "        vertical-align: top;\n",
       "    }\n",
       "\n",
       "    .dataframe thead th {\n",
       "        text-align: right;\n",
       "    }\n",
       "</style>\n",
       "<table border=\"1\" class=\"dataframe\">\n",
       "  <thead>\n",
       "    <tr style=\"text-align: right;\">\n",
       "      <th></th>\n",
       "      <th>County and State</th>\n",
       "      <th>Median Income</th>\n",
       "      <th>State Code</th>\n",
       "      <th>County Code</th>\n",
       "      <th>FIPS</th>\n",
       "      <th>County</th>\n",
       "      <th>State</th>\n",
       "    </tr>\n",
       "  </thead>\n",
       "  <tbody>\n",
       "    <tr>\n",
       "      <th>1</th>\n",
       "      <td>Washington County, Mississippi</td>\n",
       "      <td>30834</td>\n",
       "      <td>28</td>\n",
       "      <td>151</td>\n",
       "      <td>28151</td>\n",
       "      <td>Washington County</td>\n",
       "      <td>Mississippi</td>\n",
       "    </tr>\n",
       "    <tr>\n",
       "      <th>2</th>\n",
       "      <td>Perry County, Mississippi</td>\n",
       "      <td>39007</td>\n",
       "      <td>28</td>\n",
       "      <td>111</td>\n",
       "      <td>28111</td>\n",
       "      <td>Perry County</td>\n",
       "      <td>Mississippi</td>\n",
       "    </tr>\n",
       "    <tr>\n",
       "      <th>3</th>\n",
       "      <td>Choctaw County, Mississippi</td>\n",
       "      <td>37203</td>\n",
       "      <td>28</td>\n",
       "      <td>019</td>\n",
       "      <td>28019</td>\n",
       "      <td>Choctaw County</td>\n",
       "      <td>Mississippi</td>\n",
       "    </tr>\n",
       "    <tr>\n",
       "      <th>4</th>\n",
       "      <td>Itawamba County, Mississippi</td>\n",
       "      <td>40510</td>\n",
       "      <td>28</td>\n",
       "      <td>057</td>\n",
       "      <td>28057</td>\n",
       "      <td>Itawamba County</td>\n",
       "      <td>Mississippi</td>\n",
       "    </tr>\n",
       "    <tr>\n",
       "      <th>5</th>\n",
       "      <td>Carroll County, Mississippi</td>\n",
       "      <td>43060</td>\n",
       "      <td>28</td>\n",
       "      <td>015</td>\n",
       "      <td>28015</td>\n",
       "      <td>Carroll County</td>\n",
       "      <td>Mississippi</td>\n",
       "    </tr>\n",
       "  </tbody>\n",
       "</table>\n",
       "</div>"
      ],
      "text/plain": [
       "                 County and State Median Income State Code County Code   FIPS  \\\n",
       "1  Washington County, Mississippi         30834         28         151  28151   \n",
       "2       Perry County, Mississippi         39007         28         111  28111   \n",
       "3     Choctaw County, Mississippi         37203         28         019  28019   \n",
       "4    Itawamba County, Mississippi         40510         28         057  28057   \n",
       "5     Carroll County, Mississippi         43060         28         015  28015   \n",
       "\n",
       "              County         State  \n",
       "1  Washington County   Mississippi  \n",
       "2       Perry County   Mississippi  \n",
       "3     Choctaw County   Mississippi  \n",
       "4    Itawamba County   Mississippi  \n",
       "5     Carroll County   Mississippi  "
      ]
     },
     "execution_count": 7,
     "metadata": {},
     "output_type": "execute_result"
    }
   ],
   "source": [
    "# Splitting the County and State column and creating two new columns for \"County\" and \"State\"\n",
    "# to filter by California, Ohio and South Carolina\n",
    "\n",
    "split_county_state = new_df[\"County and State\"].str.split(\",\", n = 0, expand = True) \n",
    "new_df[\"County\"]= split_county_state[0]\n",
    "new_df[\"State\"] = split_county_state[1]\n",
    "new_df.head()"
   ]
  },
  {
   "cell_type": "code",
   "execution_count": 8,
   "metadata": {},
   "outputs": [
    {
     "data": {
      "text/html": [
       "<div>\n",
       "<style scoped>\n",
       "    .dataframe tbody tr th:only-of-type {\n",
       "        vertical-align: middle;\n",
       "    }\n",
       "\n",
       "    .dataframe tbody tr th {\n",
       "        vertical-align: top;\n",
       "    }\n",
       "\n",
       "    .dataframe thead th {\n",
       "        text-align: right;\n",
       "    }\n",
       "</style>\n",
       "<table border=\"1\" class=\"dataframe\">\n",
       "  <thead>\n",
       "    <tr style=\"text-align: right;\">\n",
       "      <th></th>\n",
       "      <th>County and State</th>\n",
       "      <th>Median Income</th>\n",
       "      <th>FIPS</th>\n",
       "      <th>State</th>\n",
       "      <th>County</th>\n",
       "    </tr>\n",
       "  </thead>\n",
       "  <tbody>\n",
       "    <tr>\n",
       "      <th>1864</th>\n",
       "      <td>Alameda County, California</td>\n",
       "      <td>92574</td>\n",
       "      <td>06001</td>\n",
       "      <td>California</td>\n",
       "      <td>Alameda County</td>\n",
       "    </tr>\n",
       "    <tr>\n",
       "      <th>1872</th>\n",
       "      <td>Alpine County, California</td>\n",
       "      <td>64688</td>\n",
       "      <td>06003</td>\n",
       "      <td>California</td>\n",
       "      <td>Alpine County</td>\n",
       "    </tr>\n",
       "    <tr>\n",
       "      <th>1893</th>\n",
       "      <td>Amador County, California</td>\n",
       "      <td>61198</td>\n",
       "      <td>06005</td>\n",
       "      <td>California</td>\n",
       "      <td>Amador County</td>\n",
       "    </tr>\n",
       "    <tr>\n",
       "      <th>1884</th>\n",
       "      <td>Butte County, California</td>\n",
       "      <td>48443</td>\n",
       "      <td>06007</td>\n",
       "      <td>California</td>\n",
       "      <td>Butte County</td>\n",
       "    </tr>\n",
       "    <tr>\n",
       "      <th>1888</th>\n",
       "      <td>Calaveras County, California</td>\n",
       "      <td>58151</td>\n",
       "      <td>06009</td>\n",
       "      <td>California</td>\n",
       "      <td>Calaveras County</td>\n",
       "    </tr>\n",
       "  </tbody>\n",
       "</table>\n",
       "</div>"
      ],
      "text/plain": [
       "                  County and State Median Income   FIPS        State  \\\n",
       "1864    Alameda County, California         92574  06001   California   \n",
       "1872     Alpine County, California         64688  06003   California   \n",
       "1893     Amador County, California         61198  06005   California   \n",
       "1884      Butte County, California         48443  06007   California   \n",
       "1888  Calaveras County, California         58151  06009   California   \n",
       "\n",
       "                County  \n",
       "1864    Alameda County  \n",
       "1872     Alpine County  \n",
       "1893     Amador County  \n",
       "1884      Butte County  \n",
       "1888  Calaveras County  "
      ]
     },
     "execution_count": 8,
     "metadata": {},
     "output_type": "execute_result"
    }
   ],
   "source": [
    "# Filtering data for the states of California, Ohio and South Carolina\n",
    "# Selecting only needed columns for \"County and State\",\"Median Income\",\"State and County Code\", and \"State\"\n",
    "selected_states = []\n",
    "clean_data = new_df[[\"County and State\",\"Median Income\",\"FIPS\",\"State\",\"County\"]].sort_values(by=['FIPS'])\n",
    "states = [\" California\",\" Ohio\",\" South Carolina\"]\n",
    "selected_states = clean_data.loc[(clean_data[\"State\"]==\" California\") | (clean_data[\"State\"]==\" Ohio\") | (clean_data[\"State\"]==\" South Carolina\") ]\n",
    "selected_states.head()"
   ]
  },
  {
   "cell_type": "code",
   "execution_count": null,
   "metadata": {},
   "outputs": [],
   "source": []
  },
  {
   "cell_type": "code",
   "execution_count": 9,
   "metadata": {},
   "outputs": [
    {
     "data": {
      "text/plain": [
       "County and State    object\n",
       "Median Income        int64\n",
       "FIPS                 int64\n",
       "State               object\n",
       "County              object\n",
       "dtype: object"
      ]
     },
     "execution_count": 9,
     "metadata": {},
     "output_type": "execute_result"
    }
   ],
   "source": [
    "# create a copy of the selected_states DataFrame in order to cast the FIPS and Median Income columns as integer\n",
    "\n",
    "selected_states_copy = selected_states.copy()\n",
    "selected_states_copy[\"FIPS\"] = selected_states[\"FIPS\"].astype(int)\n",
    "selected_states_copy[\"Median Income\"] = selected_states[\"Median Income\"].astype(int)\n",
    "selected_states_copy.dtypes"
   ]
  },
  {
   "cell_type": "code",
   "execution_count": 10,
   "metadata": {},
   "outputs": [],
   "source": [
    "# Read all csv files for California, Ohio and South Carolina.\n",
    "# Extract only columns needed for analysis\n",
    "\n",
    "california_df = pd.read_csv(csvpath_california)\n",
    "ohio_df = pd.read_csv(csvpath_ohio)\n",
    "south_carolina_df = pd.read_csv(csvpath_south_carolina)\n",
    "\n",
    "ca_health_df = california_df[[\"FIPS\",\"% Adults with Obesity\",\"% Physically Inactive\",\"% With Access to Exercise Opportunities\",\"Primary Care Physicians Rate\",\"High School Graduation Rate\",\"% Unemployed\"]]\n",
    "ohio_health_df = ohio_df[[\"FIPS\",\"% Adults with Obesity\",\"% Physically Inactive\",\"% With Access to Exercise Opportunities\",\"Primary Care Physicians Rate\",\"High School Graduation Rate\",\"% Unemployed\"]]\n",
    "south_carolina_health_df = south_carolina_df[[\"FIPS\",\"% Adults with Obesity\",\"% Physically Inactive\",\"% With Access to Exercise Opportunities\",\"Primary Care Physicians Rate\",\"High School Graduation Rate\",\"% Unemployed\"]]\n"
   ]
  },
  {
   "cell_type": "code",
   "execution_count": 11,
   "metadata": {},
   "outputs": [
    {
     "data": {
      "text/html": [
       "<div>\n",
       "<style scoped>\n",
       "    .dataframe tbody tr th:only-of-type {\n",
       "        vertical-align: middle;\n",
       "    }\n",
       "\n",
       "    .dataframe tbody tr th {\n",
       "        vertical-align: top;\n",
       "    }\n",
       "\n",
       "    .dataframe thead th {\n",
       "        text-align: right;\n",
       "    }\n",
       "</style>\n",
       "<table border=\"1\" class=\"dataframe\">\n",
       "  <thead>\n",
       "    <tr style=\"text-align: right;\">\n",
       "      <th></th>\n",
       "      <th>FIPS</th>\n",
       "      <th>% Adults with Obesity</th>\n",
       "      <th>% Physically Inactive</th>\n",
       "      <th>% With Access to Exercise Opportunities</th>\n",
       "      <th>Primary Care Physicians Rate</th>\n",
       "      <th>High School Graduation Rate</th>\n",
       "      <th>% Unemployed</th>\n",
       "    </tr>\n",
       "  </thead>\n",
       "  <tbody>\n",
       "    <tr>\n",
       "      <th>0</th>\n",
       "      <td>6000</td>\n",
       "      <td>24</td>\n",
       "      <td>18</td>\n",
       "      <td>93</td>\n",
       "      <td>79</td>\n",
       "      <td>83.0</td>\n",
       "      <td>4.2</td>\n",
       "    </tr>\n",
       "    <tr>\n",
       "      <th>1</th>\n",
       "      <td>6001</td>\n",
       "      <td>19</td>\n",
       "      <td>15</td>\n",
       "      <td>100</td>\n",
       "      <td>110</td>\n",
       "      <td>87.0</td>\n",
       "      <td>3.0</td>\n",
       "    </tr>\n",
       "    <tr>\n",
       "      <th>2</th>\n",
       "      <td>6003</td>\n",
       "      <td>23</td>\n",
       "      <td>21</td>\n",
       "      <td>100</td>\n",
       "      <td>0</td>\n",
       "      <td>NaN</td>\n",
       "      <td>4.6</td>\n",
       "    </tr>\n",
       "    <tr>\n",
       "      <th>3</th>\n",
       "      <td>6005</td>\n",
       "      <td>30</td>\n",
       "      <td>25</td>\n",
       "      <td>76</td>\n",
       "      <td>67</td>\n",
       "      <td>88.0</td>\n",
       "      <td>4.0</td>\n",
       "    </tr>\n",
       "    <tr>\n",
       "      <th>4</th>\n",
       "      <td>6007</td>\n",
       "      <td>27</td>\n",
       "      <td>22</td>\n",
       "      <td>84</td>\n",
       "      <td>61</td>\n",
       "      <td>85.0</td>\n",
       "      <td>5.0</td>\n",
       "    </tr>\n",
       "  </tbody>\n",
       "</table>\n",
       "</div>"
      ],
      "text/plain": [
       "   FIPS  % Adults with Obesity  % Physically Inactive  \\\n",
       "0  6000                     24                     18   \n",
       "1  6001                     19                     15   \n",
       "2  6003                     23                     21   \n",
       "3  6005                     30                     25   \n",
       "4  6007                     27                     22   \n",
       "\n",
       "   % With Access to Exercise Opportunities  Primary Care Physicians Rate  \\\n",
       "0                                       93                            79   \n",
       "1                                      100                           110   \n",
       "2                                      100                             0   \n",
       "3                                       76                            67   \n",
       "4                                       84                            61   \n",
       "\n",
       "   High School Graduation Rate  % Unemployed  \n",
       "0                         83.0           4.2  \n",
       "1                         87.0           3.0  \n",
       "2                          NaN           4.6  \n",
       "3                         88.0           4.0  \n",
       "4                         85.0           5.0  "
      ]
     },
     "execution_count": 11,
     "metadata": {},
     "output_type": "execute_result"
    }
   ],
   "source": [
    "# Concatenating all health data from countyhealth rankings for the three states into one DataFrame\n",
    "\n",
    "all_states = [ca_health_df,ohio_health_df,south_carolina_health_df]\n",
    "state_health_df = pd.concat(all_states)\n",
    "state_health_df.head()"
   ]
  },
  {
   "cell_type": "code",
   "execution_count": 12,
   "metadata": {},
   "outputs": [
    {
     "data": {
      "text/plain": [
       "FIPS                                        object\n",
       "% Adults with Obesity                        int64\n",
       "% Physically Inactive                        int64\n",
       "% With Access to Exercise Opportunities      int64\n",
       "Primary Care Physicians Rate                 int64\n",
       "High School Graduation Rate                float64\n",
       "% Unemployed                               float64\n",
       "dtype: object"
      ]
     },
     "execution_count": 12,
     "metadata": {},
     "output_type": "execute_result"
    }
   ],
   "source": [
    "state_health_df.astype({'FIPS': 'str'}).dtypes"
   ]
  },
  {
   "cell_type": "code",
   "execution_count": 13,
   "metadata": {},
   "outputs": [],
   "source": [
    "# Add 0 to the front of State/County code\n",
    "# Used apply function along with format. Apply passes a function and applies it to every value in the series. \n",
    "# {:0>5}'.format | padding and aligning strings. :0 refers to the character we want to use to pad, in this case 0. \n",
    "# > tells it to align to the right. The 5 is the length of the returned character/digit. \n",
    "# In this case since the FIPS is only 4 digits this will apply one 0 to the front, making it a total of 5 digits\n",
    "# https://www.w3resource.com/python/python-format.php\n",
    "# https://www.geeksforgeeks.org/python-pandas-apply/\n",
    "\n",
    "format_FIPS = state_health_df['FIPS'].apply('{:0>5}'.format)"
   ]
  },
  {
   "cell_type": "code",
   "execution_count": 14,
   "metadata": {},
   "outputs": [],
   "source": [
    "# Converting the formated FIPS to a DataFrame\n",
    "\n",
    "FIPS_df = pd.DataFrame(format_FIPS)"
   ]
  },
  {
   "cell_type": "code",
   "execution_count": 15,
   "metadata": {},
   "outputs": [
    {
     "data": {
      "text/html": [
       "<div>\n",
       "<style scoped>\n",
       "    .dataframe tbody tr th:only-of-type {\n",
       "        vertical-align: middle;\n",
       "    }\n",
       "\n",
       "    .dataframe tbody tr th {\n",
       "        vertical-align: top;\n",
       "    }\n",
       "\n",
       "    .dataframe thead th {\n",
       "        text-align: right;\n",
       "    }\n",
       "</style>\n",
       "<table border=\"1\" class=\"dataframe\">\n",
       "  <thead>\n",
       "    <tr style=\"text-align: right;\">\n",
       "      <th></th>\n",
       "      <th>FIPS</th>\n",
       "      <th>% Adults with Obesity</th>\n",
       "      <th>% Physically Inactive</th>\n",
       "      <th>% With Access to Exercise Opportunities</th>\n",
       "      <th>Primary Care Physicians Rate</th>\n",
       "      <th>High School Graduation Rate</th>\n",
       "      <th>% Unemployed</th>\n",
       "    </tr>\n",
       "  </thead>\n",
       "  <tbody>\n",
       "    <tr>\n",
       "      <th>0</th>\n",
       "      <td>06000</td>\n",
       "      <td>24</td>\n",
       "      <td>18</td>\n",
       "      <td>93</td>\n",
       "      <td>79</td>\n",
       "      <td>83.0</td>\n",
       "      <td>4.2</td>\n",
       "    </tr>\n",
       "    <tr>\n",
       "      <th>1</th>\n",
       "      <td>06001</td>\n",
       "      <td>19</td>\n",
       "      <td>15</td>\n",
       "      <td>100</td>\n",
       "      <td>110</td>\n",
       "      <td>87.0</td>\n",
       "      <td>3.0</td>\n",
       "    </tr>\n",
       "    <tr>\n",
       "      <th>2</th>\n",
       "      <td>06003</td>\n",
       "      <td>23</td>\n",
       "      <td>21</td>\n",
       "      <td>100</td>\n",
       "      <td>0</td>\n",
       "      <td>NaN</td>\n",
       "      <td>4.6</td>\n",
       "    </tr>\n",
       "    <tr>\n",
       "      <th>3</th>\n",
       "      <td>06005</td>\n",
       "      <td>30</td>\n",
       "      <td>25</td>\n",
       "      <td>76</td>\n",
       "      <td>67</td>\n",
       "      <td>88.0</td>\n",
       "      <td>4.0</td>\n",
       "    </tr>\n",
       "    <tr>\n",
       "      <th>4</th>\n",
       "      <td>06007</td>\n",
       "      <td>27</td>\n",
       "      <td>22</td>\n",
       "      <td>84</td>\n",
       "      <td>61</td>\n",
       "      <td>85.0</td>\n",
       "      <td>5.0</td>\n",
       "    </tr>\n",
       "  </tbody>\n",
       "</table>\n",
       "</div>"
      ],
      "text/plain": [
       "    FIPS  % Adults with Obesity  % Physically Inactive  \\\n",
       "0  06000                     24                     18   \n",
       "1  06001                     19                     15   \n",
       "2  06003                     23                     21   \n",
       "3  06005                     30                     25   \n",
       "4  06007                     27                     22   \n",
       "\n",
       "   % With Access to Exercise Opportunities  Primary Care Physicians Rate  \\\n",
       "0                                       93                            79   \n",
       "1                                      100                           110   \n",
       "2                                      100                             0   \n",
       "3                                       76                            67   \n",
       "4                                       84                            61   \n",
       "\n",
       "   High School Graduation Rate  % Unemployed  \n",
       "0                         83.0           4.2  \n",
       "1                         87.0           3.0  \n",
       "2                          NaN           4.6  \n",
       "3                         88.0           4.0  \n",
       "4                         85.0           5.0  "
      ]
     },
     "execution_count": 15,
     "metadata": {},
     "output_type": "execute_result"
    }
   ],
   "source": [
    "# Replacing the formatted FIPS column to the DataFrame\n",
    "\n",
    "state_health_df[\"FIPS\"] = FIPS_df\n",
    "state_health_df.head()"
   ]
  },
  {
   "cell_type": "code",
   "execution_count": 16,
   "metadata": {},
   "outputs": [
    {
     "data": {
      "text/plain": [
       "FIPS                                         int64\n",
       "% Adults with Obesity                        int64\n",
       "% Physically Inactive                        int64\n",
       "% With Access to Exercise Opportunities      int64\n",
       "Primary Care Physicians Rate                 int64\n",
       "High School Graduation Rate                float64\n",
       "% Unemployed                               float64\n",
       "dtype: object"
      ]
     },
     "execution_count": 16,
     "metadata": {},
     "output_type": "execute_result"
    }
   ],
   "source": [
    "# state_health_df.dtypes\n",
    "state_health_df_copy = state_health_df.copy()\n",
    "state_health_df_copy[\"FIPS\"] = state_health_df[\"FIPS\"].astype(int)\n",
    "state_health_df_copy.dtypes\n"
   ]
  },
  {
   "cell_type": "code",
   "execution_count": 17,
   "metadata": {},
   "outputs": [
    {
     "data": {
      "text/html": [
       "<div>\n",
       "<style scoped>\n",
       "    .dataframe tbody tr th:only-of-type {\n",
       "        vertical-align: middle;\n",
       "    }\n",
       "\n",
       "    .dataframe tbody tr th {\n",
       "        vertical-align: top;\n",
       "    }\n",
       "\n",
       "    .dataframe thead th {\n",
       "        text-align: right;\n",
       "    }\n",
       "</style>\n",
       "<table border=\"1\" class=\"dataframe\">\n",
       "  <thead>\n",
       "    <tr style=\"text-align: right;\">\n",
       "      <th></th>\n",
       "      <th>FIPS</th>\n",
       "      <th>% Adults with Obesity</th>\n",
       "      <th>% Physically Inactive</th>\n",
       "      <th>% With Access to Exercise Opportunities</th>\n",
       "      <th>Primary Care Physicians Rate</th>\n",
       "      <th>High School Graduation Rate</th>\n",
       "      <th>% Unemployed</th>\n",
       "      <th>Median Income</th>\n",
       "    </tr>\n",
       "  </thead>\n",
       "  <tbody>\n",
       "    <tr>\n",
       "      <th>count</th>\n",
       "      <td>191.000000</td>\n",
       "      <td>191.000000</td>\n",
       "      <td>191.000000</td>\n",
       "      <td>191.000000</td>\n",
       "      <td>191.000000</td>\n",
       "      <td>191.000000</td>\n",
       "      <td>191.000000</td>\n",
       "      <td>191.000000</td>\n",
       "    </tr>\n",
       "    <tr>\n",
       "      <th>mean</th>\n",
       "      <td>30666.078534</td>\n",
       "      <td>32.811518</td>\n",
       "      <td>26.926702</td>\n",
       "      <td>69.240838</td>\n",
       "      <td>56.167539</td>\n",
       "      <td>87.528796</td>\n",
       "      <td>4.746597</td>\n",
       "      <td>54548.549738</td>\n",
       "    </tr>\n",
       "    <tr>\n",
       "      <th>std</th>\n",
       "      <td>16265.576067</td>\n",
       "      <td>5.757930</td>\n",
       "      <td>6.119414</td>\n",
       "      <td>20.396713</td>\n",
       "      <td>28.555269</td>\n",
       "      <td>7.983401</td>\n",
       "      <td>1.747623</td>\n",
       "      <td>15388.416031</td>\n",
       "    </tr>\n",
       "    <tr>\n",
       "      <th>min</th>\n",
       "      <td>6001.000000</td>\n",
       "      <td>17.000000</td>\n",
       "      <td>11.000000</td>\n",
       "      <td>5.000000</td>\n",
       "      <td>7.000000</td>\n",
       "      <td>36.000000</td>\n",
       "      <td>2.200000</td>\n",
       "      <td>24560.000000</td>\n",
       "    </tr>\n",
       "    <tr>\n",
       "      <th>25%</th>\n",
       "      <td>6098.000000</td>\n",
       "      <td>29.000000</td>\n",
       "      <td>23.000000</td>\n",
       "      <td>55.000000</td>\n",
       "      <td>36.500000</td>\n",
       "      <td>85.000000</td>\n",
       "      <td>3.600000</td>\n",
       "      <td>44986.000000</td>\n",
       "    </tr>\n",
       "    <tr>\n",
       "      <th>50%</th>\n",
       "      <td>39077.000000</td>\n",
       "      <td>33.000000</td>\n",
       "      <td>28.000000</td>\n",
       "      <td>71.000000</td>\n",
       "      <td>49.000000</td>\n",
       "      <td>88.000000</td>\n",
       "      <td>4.400000</td>\n",
       "      <td>51559.000000</td>\n",
       "    </tr>\n",
       "    <tr>\n",
       "      <th>75%</th>\n",
       "      <td>39172.000000</td>\n",
       "      <td>37.000000</td>\n",
       "      <td>31.000000</td>\n",
       "      <td>84.500000</td>\n",
       "      <td>72.500000</td>\n",
       "      <td>92.500000</td>\n",
       "      <td>5.500000</td>\n",
       "      <td>60629.500000</td>\n",
       "    </tr>\n",
       "    <tr>\n",
       "      <th>max</th>\n",
       "      <td>45091.000000</td>\n",
       "      <td>44.000000</td>\n",
       "      <td>41.000000</td>\n",
       "      <td>100.000000</td>\n",
       "      <td>154.000000</td>\n",
       "      <td>100.000000</td>\n",
       "      <td>18.100000</td>\n",
       "      <td>116178.000000</td>\n",
       "    </tr>\n",
       "  </tbody>\n",
       "</table>\n",
       "</div>"
      ],
      "text/plain": [
       "               FIPS  % Adults with Obesity  % Physically Inactive  \\\n",
       "count    191.000000             191.000000             191.000000   \n",
       "mean   30666.078534              32.811518              26.926702   \n",
       "std    16265.576067               5.757930               6.119414   \n",
       "min     6001.000000              17.000000              11.000000   \n",
       "25%     6098.000000              29.000000              23.000000   \n",
       "50%    39077.000000              33.000000              28.000000   \n",
       "75%    39172.000000              37.000000              31.000000   \n",
       "max    45091.000000              44.000000              41.000000   \n",
       "\n",
       "       % With Access to Exercise Opportunities  Primary Care Physicians Rate  \\\n",
       "count                               191.000000                    191.000000   \n",
       "mean                                 69.240838                     56.167539   \n",
       "std                                  20.396713                     28.555269   \n",
       "min                                   5.000000                      7.000000   \n",
       "25%                                  55.000000                     36.500000   \n",
       "50%                                  71.000000                     49.000000   \n",
       "75%                                  84.500000                     72.500000   \n",
       "max                                 100.000000                    154.000000   \n",
       "\n",
       "       High School Graduation Rate  % Unemployed  Median Income  \n",
       "count                   191.000000    191.000000     191.000000  \n",
       "mean                     87.528796      4.746597   54548.549738  \n",
       "std                       7.983401      1.747623   15388.416031  \n",
       "min                      36.000000      2.200000   24560.000000  \n",
       "25%                      85.000000      3.600000   44986.000000  \n",
       "50%                      88.000000      4.400000   51559.000000  \n",
       "75%                      92.500000      5.500000   60629.500000  \n",
       "max                     100.000000     18.100000  116178.000000  "
      ]
     },
     "execution_count": 17,
     "metadata": {},
     "output_type": "execute_result"
    }
   ],
   "source": [
    "# Merge data from the US census and countyhealthrankings into one DataFrame and drop NA\n",
    "\n",
    "merged_df = pd.merge(state_health_df_copy,selected_states_copy,on=\"FIPS\",how=\"left\")\n",
    "merged_df.dropna().describe()"
   ]
  },
  {
   "cell_type": "markdown",
   "metadata": {},
   "source": [
    "# Correlation and Regression Analysis"
   ]
  },
  {
   "cell_type": "markdown",
   "metadata": {},
   "source": [
    "## State of Ohio"
   ]
  },
  {
   "cell_type": "markdown",
   "metadata": {},
   "source": [
    "#### Obesity vs. % Physically Inactive"
   ]
  },
  {
   "cell_type": "code",
   "execution_count": 18,
   "metadata": {},
   "outputs": [
    {
     "data": {
      "image/png": "[encoded data removed]",
      "text/plain": [
       "<Figure size 432x288 with 1 Axes>"
      ]
     },
     "metadata": {
      "needs_background": "light"
     },
     "output_type": "display_data"
    },
    {
     "name": "stdout",
     "output_type": "stream",
     "text": [
      "The r-squared value is: 0.5885488413368728\n"
     ]
    }
   ],
   "source": [
    "ohio_analysis = merged_df.loc[merged_df[\"State\"] == \" Ohio\" ]\n",
    "ohio_obesity_rate = ohio_analysis[\"% Adults with Obesity\"]\n",
    "ohio_physical = ohio_analysis[\"% Physically Inactive\"]\n",
    "\n",
    "(slope, intercept, rvalue, pvalue, stderr) = linregress(ohio_obesity_rate, ohio_physical)\n",
    "regress_values = ohio_obesity_rate * slope + intercept\n",
    "line_eq = \"y = \" + str(round(slope,2)) + \"x + \" + str(round(intercept,2))\n",
    "plt.scatter(ohio_obesity_rate,ohio_physical,color=\"c\",edgecolors=\"black\")\n",
    "plt.plot(ohio_obesity_rate,regress_values,\"r-\")\n",
    "plt.annotate(line_eq,(30,20),fontsize=15,color=\"red\")\n",
    "plt.xlabel(\"Obesity Rate\")\n",
    "plt.ylabel(\"% Physically Inactive\")\n",
    "plt.title(\"Obesity vs. % Physically Inactive\")\n",
    "plt.show()\n",
    "\n",
    "(print(f\"The r-squared value is: {rvalue}\"))"
   ]
  },
  {
   "cell_type": "markdown",
   "metadata": {},
   "source": [
    "#### Obesity vs. % With Access to Exercise Opportunities"
   ]
  },
  {
   "cell_type": "code",
   "execution_count": 19,
   "metadata": {},
   "outputs": [
    {
     "data": {
      "image/png": "[encoded data removed]",
      "text/plain": [
       "<Figure size 432x288 with 1 Axes>"
      ]
     },
     "metadata": {
      "needs_background": "light"
     },
     "output_type": "display_data"
    },
    {
     "name": "stdout",
     "output_type": "stream",
     "text": [
      "The r-squared value is: -0.3300541775387202\n"
     ]
    }
   ],
   "source": [
    "ohio_analysis = merged_df.loc[merged_df[\"State\"] == \" Ohio\" ]\n",
    "ohio_obesity_rate = ohio_analysis[\"% Adults with Obesity\"]\n",
    "ohio_exercise = ohio_analysis[\"% With Access to Exercise Opportunities\"]\n",
    "\n",
    "(slope, intercept, rvalue, pvalue, stderr) = linregress(ohio_obesity_rate, ohio_exercise)\n",
    "regress_values = ohio_obesity_rate * slope + intercept\n",
    "line_eq = \"y = \" + str(round(slope,2)) + \"x + \" + str(round(intercept,2))\n",
    "plt.scatter(ohio_obesity_rate,ohio_exercise,color=\"c\",edgecolors=\"black\")\n",
    "plt.plot(ohio_obesity_rate,regress_values,\"r-\")\n",
    "plt.annotate(line_eq,(30,20),fontsize=15,color=\"red\")\n",
    "plt.xlabel(\"Obesity Rate\")\n",
    "plt.ylabel(\"% With Access to Exercise Opportunities\")\n",
    "plt.title(\"Obesity vs. % With Access to Exercise Opportunities\")\n",
    "plt.show()\n",
    "\n",
    "(print(f\"The r-squared value is: {rvalue}\"))"
   ]
  },
  {
   "cell_type": "markdown",
   "metadata": {},
   "source": [
    "#### Obesity vs. Primary Care Physicians Rate"
   ]
  },
  {
   "cell_type": "code",
   "execution_count": 20,
   "metadata": {},
   "outputs": [
    {
     "data": {
      "image/png": "[encoded data removed]",
      "text/plain": [
       "<Figure size 432x288 with 1 Axes>"
      ]
     },
     "metadata": {
      "needs_background": "light"
     },
     "output_type": "display_data"
    },
    {
     "name": "stdout",
     "output_type": "stream",
     "text": [
      "The r-squared value is: -0.38667593029688896\n"
     ]
    }
   ],
   "source": [
    "ohio_analysis = merged_df.loc[merged_df[\"State\"] == \" Ohio\" ]\n",
    "ohio_obesity_rate = ohio_analysis[\"% Adults with Obesity\"]\n",
    "ohio_physician = ohio_analysis[\"Primary Care Physicians Rate\"]\n",
    "\n",
    "(slope, intercept, rvalue, pvalue, stderr) = linregress(ohio_obesity_rate, ohio_physician)\n",
    "regress_values = ohio_obesity_rate * slope + intercept\n",
    "line_eq = \"y = \" + str(round(slope,2)) + \"x + \" + str(round(intercept,2))\n",
    "plt.scatter(ohio_obesity_rate,ohio_physician,color=\"c\",edgecolors=\"black\")\n",
    "plt.plot(ohio_obesity_rate,regress_values,\"r-\")\n",
    "plt.annotate(line_eq,(30,20),fontsize=15,color=\"red\")\n",
    "plt.xlabel(\"Obesity Rate\")\n",
    "plt.ylabel(\"Primary Care Physicians Rate\")\n",
    "plt.title(\"Obesity vs. Primary Care Physicians Rate\")\n",
    "plt.show()\n",
    "\n",
    "(print(f\"The r-squared value is: {rvalue}\"))\n"
   ]
  },
  {
   "cell_type": "markdown",
   "metadata": {},
   "source": [
    "#### Obesity vs. High School Graduation Rate"
   ]
  },
  {
   "cell_type": "code",
   "execution_count": 21,
   "metadata": {},
   "outputs": [
    {
     "data": {
      "image/png": "[encoded data removed]",
      "text/plain": [
       "<Figure size 432x288 with 1 Axes>"
      ]
     },
     "metadata": {
      "needs_background": "light"
     },
     "output_type": "display_data"
    },
    {
     "name": "stdout",
     "output_type": "stream",
     "text": [
      "The r-squared value is: 0.04068527727508829\n"
     ]
    }
   ],
   "source": [
    "ohio_analysis = merged_df.loc[merged_df[\"State\"] == \" Ohio\" ]\n",
    "ohio_obesity_rate = ohio_analysis[\"% Adults with Obesity\"]\n",
    "ohio_graduation = ohio_analysis[\"High School Graduation Rate\"]\n",
    "\n",
    "(slope, intercept, rvalue, pvalue, stderr) = linregress(ohio_obesity_rate, ohio_graduation)\n",
    "regress_values = ohio_obesity_rate * slope + intercept\n",
    "line_eq = \"y = \" + str(round(slope,2)) + \"x + \" + str(round(intercept,2))\n",
    "plt.scatter(ohio_obesity_rate,ohio_graduation,color=\"c\",edgecolors=\"black\")\n",
    "plt.plot(ohio_obesity_rate,regress_values,\"r-\")\n",
    "plt.annotate(line_eq,(26,86),fontsize=15,color=\"red\")\n",
    "plt.xlabel(\"Obesity Rate\")\n",
    "plt.ylabel(\"High School Graduation Rate\")\n",
    "plt.title(\"Obesity vs. High School Graduation Rate\")\n",
    "plt.show()\n",
    "\n",
    "(print(f\"The r-squared value is: {rvalue}\"))"
   ]
  },
  {
   "cell_type": "markdown",
   "metadata": {},
   "source": [
    "#### Obesity rate vs. % Unemployed"
   ]
  },
  {
   "cell_type": "code",
   "execution_count": 22,
   "metadata": {},
   "outputs": [
    {
     "data": {
      "image/png": "[encoded data removed]",
      "text/plain": [
       "<Figure size 432x288 with 1 Axes>"
      ]
     },
     "metadata": {
      "needs_background": "light"
     },
     "output_type": "display_data"
    },
    {
     "name": "stdout",
     "output_type": "stream",
     "text": [
      "The r-squared value is: 0.3041473291712161\n"
     ]
    }
   ],
   "source": [
    "ohio_analysis = merged_df.loc[merged_df[\"State\"] == \" Ohio\" ]\n",
    "ohio_obesity_rate = ohio_analysis[\"% Adults with Obesity\"]\n",
    "ohio_unemployed = ohio_analysis[\"% Unemployed\"]\n",
    "\n",
    "(slope, intercept, rvalue, pvalue, stderr) = linregress(ohio_obesity_rate, ohio_unemployed)\n",
    "regress_values = ohio_obesity_rate * slope + intercept\n",
    "line_eq = \"y = \" + str(round(slope,2)) + \"x + \" + str(round(intercept,2))\n",
    "plt.scatter(ohio_obesity_rate,ohio_unemployed,color=\"c\",edgecolors=\"black\")\n",
    "plt.plot(ohio_obesity_rate,regress_values,\"r-\")\n",
    "plt.annotate(line_eq,(26,3),fontsize=15,color=\"red\")\n",
    "plt.xlabel(\"Obesity Rate\")\n",
    "plt.ylabel(\"% Unemployed\")\n",
    "plt.title(\"Obesity vs. % Unemployed\")\n",
    "plt.show()\n",
    "\n",
    "(print(f\"The r-squared value is: {rvalue}\"))"
   ]
  },
  {
   "cell_type": "code",
   "execution_count": 23,
   "metadata": {},
   "outputs": [
    {
     "data": {
      "text/plain": [
       "FIPS                                         int64\n",
       "% Adults with Obesity                        int64\n",
       "% Physically Inactive                        int64\n",
       "% With Access to Exercise Opportunities      int64\n",
       "Primary Care Physicians Rate                 int64\n",
       "High School Graduation Rate                float64\n",
       "% Unemployed                               float64\n",
       "County and State                            object\n",
       "Median Income                              float64\n",
       "State                                       object\n",
       "County                                      object\n",
       "dtype: object"
      ]
     },
     "execution_count": 23,
     "metadata": {},
     "output_type": "execute_result"
    }
   ],
   "source": [
    "ohio_analysis.dtypes"
   ]
  },
  {
   "cell_type": "code",
   "execution_count": 24,
   "metadata": {},
   "outputs": [
    {
     "data": {
      "image/png": "[encoded data removed]",
      "text/plain": [
       "<Figure size 432x288 with 1 Axes>"
      ]
     },
     "metadata": {
      "needs_background": "light"
     },
     "output_type": "display_data"
    },
    {
     "name": "stdout",
     "output_type": "stream",
     "text": [
      "The r-squared value is: -0.48606554045367734\n"
     ]
    }
   ],
   "source": [
    "ohio_analysis = merged_df.loc[merged_df[\"State\"] == \" Ohio\" ]\n",
    "ohio_obesity_rate = ohio_analysis[\"% Adults with Obesity\"]\n",
    "ohio_median_income = ohio_analysis[\"Median Income\"]\n",
    "\n",
    "(slope, intercept, rvalue, pvalue, stderr) = linregress(ohio_obesity_rate, ohio_median_income)\n",
    "regress_values = ohio_obesity_rate * slope + intercept\n",
    "line_eq = \"y = \" + str(round(slope,2)) + \"x + \" + str(round(intercept,2))\n",
    "plt.scatter(ohio_obesity_rate,ohio_median_income,color=\"c\",edgecolors=\"black\")\n",
    "plt.plot(ohio_obesity_rate,regress_values,\"r-\")\n",
    "plt.annotate(line_eq,(26,90000),fontsize=15,color=\"red\")\n",
    "plt.xlabel(\"Obesity Rate\")\n",
    "plt.ylabel(\"Median Income\")\n",
    "plt.title(\"Obesity vs. Median Income in Ohio\")\n",
    "plt.show()\n",
    "\n",
    "(print(f\"The r-squared value is: {rvalue}\"))"
   ]
  },
  {
   "cell_type": "markdown",
   "metadata": {},
   "source": [
    "### Heatmap for Obesity Rate"
   ]
  },
  {
   "cell_type": "code",
   "execution_count": 25,
   "metadata": {},
   "outputs": [],
   "source": [
    "geocode = pd.read_csv(\"./Geocodes_USA_with_Counties.csv\")"
   ]
  },
  {
   "cell_type": "code",
   "execution_count": 26,
   "metadata": {},
   "outputs": [],
   "source": [
    "lat_lng = pd.DataFrame(geocode)"
   ]
  },
  {
   "cell_type": "code",
   "execution_count": 27,
   "metadata": {},
   "outputs": [],
   "source": [
    "selected_counties = lat_lng.loc[(lat_lng[\"state\"]==\"OH\") | (lat_lng[\"state\"]==\"CA\") | (lat_lng[\"state\"]==\"SC\")]\n",
    "counties_df = selected_counties.iloc[:,[2,3,4,5,10]]"
   ]
  },
  {
   "cell_type": "code",
   "execution_count": 28,
   "metadata": {},
   "outputs": [
    {
     "data": {
      "text/html": [
       "<div>\n",
       "<style scoped>\n",
       "    .dataframe tbody tr th:only-of-type {\n",
       "        vertical-align: middle;\n",
       "    }\n",
       "\n",
       "    .dataframe tbody tr th {\n",
       "        vertical-align: top;\n",
       "    }\n",
       "\n",
       "    .dataframe thead th {\n",
       "        text-align: right;\n",
       "    }\n",
       "</style>\n",
       "<table border=\"1\" class=\"dataframe\">\n",
       "  <thead>\n",
       "    <tr style=\"text-align: right;\">\n",
       "      <th></th>\n",
       "      <th>county</th>\n",
       "      <th>state</th>\n",
       "      <th>latitude</th>\n",
       "      <th>longitude</th>\n",
       "      <th>estimated_population</th>\n",
       "    </tr>\n",
       "  </thead>\n",
       "  <tbody>\n",
       "    <tr>\n",
       "      <th>0</th>\n",
       "      <td>Abbeville</td>\n",
       "      <td>SC</td>\n",
       "      <td>34.37</td>\n",
       "      <td>-82.34</td>\n",
       "      <td>10139</td>\n",
       "    </tr>\n",
       "    <tr>\n",
       "      <th>1</th>\n",
       "      <td>Adams</td>\n",
       "      <td>OH</td>\n",
       "      <td>38.94</td>\n",
       "      <td>-83.35</td>\n",
       "      <td>6569</td>\n",
       "    </tr>\n",
       "    <tr>\n",
       "      <th>2</th>\n",
       "      <td>Aiken</td>\n",
       "      <td>SC</td>\n",
       "      <td>33.84</td>\n",
       "      <td>-81.30</td>\n",
       "      <td>30359</td>\n",
       "    </tr>\n",
       "    <tr>\n",
       "      <th>3</th>\n",
       "      <td>Alameda</td>\n",
       "      <td>CA</td>\n",
       "      <td>37.90</td>\n",
       "      <td>-121.75</td>\n",
       "      <td>57184</td>\n",
       "    </tr>\n",
       "    <tr>\n",
       "      <th>4</th>\n",
       "      <td>Allen</td>\n",
       "      <td>OH</td>\n",
       "      <td>40.89</td>\n",
       "      <td>-83.88</td>\n",
       "      <td>18096</td>\n",
       "    </tr>\n",
       "  </tbody>\n",
       "</table>\n",
       "</div>"
      ],
      "text/plain": [
       "      county state  latitude  longitude  estimated_population\n",
       "0  Abbeville    SC     34.37     -82.34                 10139\n",
       "1      Adams    OH     38.94     -83.35                  6569\n",
       "2      Aiken    SC     33.84     -81.30                 30359\n",
       "3    Alameda    CA     37.90    -121.75                 57184\n",
       "4      Allen    OH     40.89     -83.88                 18096"
      ]
     },
     "execution_count": 28,
     "metadata": {},
     "output_type": "execute_result"
    }
   ],
   "source": [
    "group_counties = counties_df.groupby(\"county\").max().reset_index().dropna()\n",
    "group_counties.head()"
   ]
  },
  {
   "cell_type": "code",
   "execution_count": 29,
   "metadata": {},
   "outputs": [
    {
     "data": {
      "text/plain": [
       "0               NaN\n",
       "1           Alameda\n",
       "2            Alpine\n",
       "3            Amador\n",
       "4             Butte\n",
       "           ...     \n",
       "190     Spartanburg\n",
       "191          Sumter\n",
       "192           Union\n",
       "193    Williamsburg\n",
       "194            York\n",
       "Name: County, Length: 195, dtype: object"
      ]
     },
     "execution_count": 29,
     "metadata": {},
     "output_type": "execute_result"
    }
   ],
   "source": [
    "merged_df_copy = merged_df.copy()\n",
    "selected_states_series = merged_df_copy[\"County\"]\n",
    "strip_county = selected_states_series.str.rstrip('County')\n",
    "strip_space = strip_county.str.rstrip(' ')\n",
    "strip_space"
   ]
  },
  {
   "cell_type": "code",
   "execution_count": 30,
   "metadata": {},
   "outputs": [
    {
     "data": {
      "text/html": [
       "<div>\n",
       "<style scoped>\n",
       "    .dataframe tbody tr th:only-of-type {\n",
       "        vertical-align: middle;\n",
       "    }\n",
       "\n",
       "    .dataframe tbody tr th {\n",
       "        vertical-align: top;\n",
       "    }\n",
       "\n",
       "    .dataframe thead th {\n",
       "        text-align: right;\n",
       "    }\n",
       "</style>\n",
       "<table border=\"1\" class=\"dataframe\">\n",
       "  <thead>\n",
       "    <tr style=\"text-align: right;\">\n",
       "      <th></th>\n",
       "      <th>FIPS</th>\n",
       "      <th>% Adults with Obesity</th>\n",
       "      <th>% Physically Inactive</th>\n",
       "      <th>% With Access to Exercise Opportunities</th>\n",
       "      <th>Primary Care Physicians Rate</th>\n",
       "      <th>High School Graduation Rate</th>\n",
       "      <th>% Unemployed</th>\n",
       "      <th>County and State</th>\n",
       "      <th>Median Income</th>\n",
       "      <th>State</th>\n",
       "      <th>County</th>\n",
       "    </tr>\n",
       "  </thead>\n",
       "  <tbody>\n",
       "    <tr>\n",
       "      <th>1</th>\n",
       "      <td>6001</td>\n",
       "      <td>19</td>\n",
       "      <td>15</td>\n",
       "      <td>100</td>\n",
       "      <td>110</td>\n",
       "      <td>87.0</td>\n",
       "      <td>3.0</td>\n",
       "      <td>Alameda County, California</td>\n",
       "      <td>92574.0</td>\n",
       "      <td>California</td>\n",
       "      <td>Alameda</td>\n",
       "    </tr>\n",
       "    <tr>\n",
       "      <th>3</th>\n",
       "      <td>6005</td>\n",
       "      <td>30</td>\n",
       "      <td>25</td>\n",
       "      <td>76</td>\n",
       "      <td>67</td>\n",
       "      <td>88.0</td>\n",
       "      <td>4.0</td>\n",
       "      <td>Amador County, California</td>\n",
       "      <td>61198.0</td>\n",
       "      <td>California</td>\n",
       "      <td>Amador</td>\n",
       "    </tr>\n",
       "    <tr>\n",
       "      <th>4</th>\n",
       "      <td>6007</td>\n",
       "      <td>27</td>\n",
       "      <td>22</td>\n",
       "      <td>84</td>\n",
       "      <td>61</td>\n",
       "      <td>85.0</td>\n",
       "      <td>5.0</td>\n",
       "      <td>Butte County, California</td>\n",
       "      <td>48443.0</td>\n",
       "      <td>California</td>\n",
       "      <td>Butte</td>\n",
       "    </tr>\n",
       "    <tr>\n",
       "      <th>5</th>\n",
       "      <td>6009</td>\n",
       "      <td>31</td>\n",
       "      <td>31</td>\n",
       "      <td>60</td>\n",
       "      <td>44</td>\n",
       "      <td>90.0</td>\n",
       "      <td>4.0</td>\n",
       "      <td>Calaveras County, California</td>\n",
       "      <td>58151.0</td>\n",
       "      <td>California</td>\n",
       "      <td>Calaveras</td>\n",
       "    </tr>\n",
       "    <tr>\n",
       "      <th>6</th>\n",
       "      <td>6011</td>\n",
       "      <td>41</td>\n",
       "      <td>28</td>\n",
       "      <td>75</td>\n",
       "      <td>32</td>\n",
       "      <td>89.0</td>\n",
       "      <td>12.9</td>\n",
       "      <td>Colusa County, California</td>\n",
       "      <td>56704.0</td>\n",
       "      <td>California</td>\n",
       "      <td>Colusa</td>\n",
       "    </tr>\n",
       "  </tbody>\n",
       "</table>\n",
       "</div>"
      ],
      "text/plain": [
       "   FIPS  % Adults with Obesity  % Physically Inactive  \\\n",
       "1  6001                     19                     15   \n",
       "3  6005                     30                     25   \n",
       "4  6007                     27                     22   \n",
       "5  6009                     31                     31   \n",
       "6  6011                     41                     28   \n",
       "\n",
       "   % With Access to Exercise Opportunities  Primary Care Physicians Rate  \\\n",
       "1                                      100                           110   \n",
       "3                                       76                            67   \n",
       "4                                       84                            61   \n",
       "5                                       60                            44   \n",
       "6                                       75                            32   \n",
       "\n",
       "   High School Graduation Rate  % Unemployed              County and State  \\\n",
       "1                         87.0           3.0    Alameda County, California   \n",
       "3                         88.0           4.0     Amador County, California   \n",
       "4                         85.0           5.0      Butte County, California   \n",
       "5                         90.0           4.0  Calaveras County, California   \n",
       "6                         89.0          12.9     Colusa County, California   \n",
       "\n",
       "   Median Income        State     County  \n",
       "1        92574.0   California    Alameda  \n",
       "3        61198.0   California     Amador  \n",
       "4        48443.0   California      Butte  \n",
       "5        58151.0   California  Calaveras  \n",
       "6        56704.0   California     Colusa  "
      ]
     },
     "execution_count": 30,
     "metadata": {},
     "output_type": "execute_result"
    }
   ],
   "source": [
    "merged_df_copy[\"County\"] = strip_space\n",
    "merged_df_copy.dropna().head()"
   ]
  },
  {
   "cell_type": "code",
   "execution_count": 31,
   "metadata": {},
   "outputs": [
    {
     "data": {
      "text/plain": [
       "195"
      ]
     },
     "execution_count": 31,
     "metadata": {},
     "output_type": "execute_result"
    }
   ],
   "source": [
    "len(merged_df_copy)"
   ]
  },
  {
   "cell_type": "code",
   "execution_count": 32,
   "metadata": {},
   "outputs": [
    {
     "data": {
      "text/html": [
       "<div>\n",
       "<style scoped>\n",
       "    .dataframe tbody tr th:only-of-type {\n",
       "        vertical-align: middle;\n",
       "    }\n",
       "\n",
       "    .dataframe tbody tr th {\n",
       "        vertical-align: top;\n",
       "    }\n",
       "\n",
       "    .dataframe thead th {\n",
       "        text-align: right;\n",
       "    }\n",
       "</style>\n",
       "<table border=\"1\" class=\"dataframe\">\n",
       "  <thead>\n",
       "    <tr style=\"text-align: right;\">\n",
       "      <th></th>\n",
       "      <th>County</th>\n",
       "      <th>state</th>\n",
       "      <th>latitude</th>\n",
       "      <th>longitude</th>\n",
       "      <th>estimated_population</th>\n",
       "    </tr>\n",
       "  </thead>\n",
       "  <tbody>\n",
       "    <tr>\n",
       "      <th>0</th>\n",
       "      <td>Abbeville</td>\n",
       "      <td>SC</td>\n",
       "      <td>34.37</td>\n",
       "      <td>-82.34</td>\n",
       "      <td>10139</td>\n",
       "    </tr>\n",
       "    <tr>\n",
       "      <th>1</th>\n",
       "      <td>Adams</td>\n",
       "      <td>OH</td>\n",
       "      <td>38.94</td>\n",
       "      <td>-83.35</td>\n",
       "      <td>6569</td>\n",
       "    </tr>\n",
       "    <tr>\n",
       "      <th>2</th>\n",
       "      <td>Aiken</td>\n",
       "      <td>SC</td>\n",
       "      <td>33.84</td>\n",
       "      <td>-81.30</td>\n",
       "      <td>30359</td>\n",
       "    </tr>\n",
       "    <tr>\n",
       "      <th>3</th>\n",
       "      <td>Alameda</td>\n",
       "      <td>CA</td>\n",
       "      <td>37.90</td>\n",
       "      <td>-121.75</td>\n",
       "      <td>57184</td>\n",
       "    </tr>\n",
       "    <tr>\n",
       "      <th>4</th>\n",
       "      <td>Allen</td>\n",
       "      <td>OH</td>\n",
       "      <td>40.89</td>\n",
       "      <td>-83.88</td>\n",
       "      <td>18096</td>\n",
       "    </tr>\n",
       "  </tbody>\n",
       "</table>\n",
       "</div>"
      ],
      "text/plain": [
       "      County state  latitude  longitude  estimated_population\n",
       "0  Abbeville    SC     34.37     -82.34                 10139\n",
       "1      Adams    OH     38.94     -83.35                  6569\n",
       "2      Aiken    SC     33.84     -81.30                 30359\n",
       "3    Alameda    CA     37.90    -121.75                 57184\n",
       "4      Allen    OH     40.89     -83.88                 18096"
      ]
     },
     "execution_count": 32,
     "metadata": {},
     "output_type": "execute_result"
    }
   ],
   "source": [
    "group_counties_rename = group_counties.rename(columns = {\"county\":\"County\"})\n",
    "group_counties_rename.head()"
   ]
  },
  {
   "cell_type": "code",
   "execution_count": 33,
   "metadata": {},
   "outputs": [
    {
     "data": {
      "text/plain": [
       "County                   object\n",
       "state                    object\n",
       "latitude                float64\n",
       "longitude               float64\n",
       "estimated_population      int64\n",
       "dtype: object"
      ]
     },
     "execution_count": 33,
     "metadata": {},
     "output_type": "execute_result"
    }
   ],
   "source": [
    "group_counties_rename_copy = group_counties_rename.copy()\n",
    "group_counties_rename_copy[\"County\"] = group_counties_rename[\"County\"].astype(str)\n",
    "# group_counties_rename_copy[\"Median Income\"] = group_counties_rename[\"Median Income\"].astype(int)\n",
    "group_counties_rename_copy.dtypes"
   ]
  },
  {
   "cell_type": "code",
   "execution_count": 34,
   "metadata": {},
   "outputs": [
    {
     "data": {
      "text/plain": [
       "FIPS                                         int64\n",
       "% Adults with Obesity                        int64\n",
       "% Physically Inactive                        int64\n",
       "% With Access to Exercise Opportunities      int64\n",
       "Primary Care Physicians Rate                 int64\n",
       "High School Graduation Rate                float64\n",
       "% Unemployed                               float64\n",
       "County and State                            object\n",
       "Median Income                              float64\n",
       "State                                       object\n",
       "County                                      object\n",
       "dtype: object"
      ]
     },
     "execution_count": 34,
     "metadata": {},
     "output_type": "execute_result"
    }
   ],
   "source": [
    "merged_df_str = merged_df.copy()\n",
    "merged_df_str[\"County\"] = merged_df_str[\"County\"].astype(str)\n",
    "# group_counties_rename_copy[\"Median Income\"] = group_counties_rename[\"Median Income\"].astype(int)\n",
    "merged_df_str.dtypes"
   ]
  },
  {
   "cell_type": "code",
   "execution_count": 35,
   "metadata": {},
   "outputs": [
    {
     "data": {
      "text/html": [
       "<div>\n",
       "<style scoped>\n",
       "    .dataframe tbody tr th:only-of-type {\n",
       "        vertical-align: middle;\n",
       "    }\n",
       "\n",
       "    .dataframe tbody tr th {\n",
       "        vertical-align: top;\n",
       "    }\n",
       "\n",
       "    .dataframe thead th {\n",
       "        text-align: right;\n",
       "    }\n",
       "</style>\n",
       "<table border=\"1\" class=\"dataframe\">\n",
       "  <thead>\n",
       "    <tr style=\"text-align: right;\">\n",
       "      <th></th>\n",
       "      <th>FIPS</th>\n",
       "      <th>% Adults with Obesity</th>\n",
       "      <th>% Physically Inactive</th>\n",
       "      <th>% With Access to Exercise Opportunities</th>\n",
       "      <th>Primary Care Physicians Rate</th>\n",
       "      <th>High School Graduation Rate</th>\n",
       "      <th>% Unemployed</th>\n",
       "      <th>County and State</th>\n",
       "      <th>Median Income</th>\n",
       "      <th>State</th>\n",
       "      <th>County</th>\n",
       "      <th>state</th>\n",
       "      <th>latitude</th>\n",
       "      <th>longitude</th>\n",
       "      <th>estimated_population</th>\n",
       "    </tr>\n",
       "  </thead>\n",
       "  <tbody>\n",
       "    <tr>\n",
       "      <th>1</th>\n",
       "      <td>6001</td>\n",
       "      <td>19</td>\n",
       "      <td>15</td>\n",
       "      <td>100</td>\n",
       "      <td>110</td>\n",
       "      <td>87.0</td>\n",
       "      <td>3.0</td>\n",
       "      <td>Alameda County, California</td>\n",
       "      <td>92574.0</td>\n",
       "      <td>California</td>\n",
       "      <td>Alameda</td>\n",
       "      <td>CA</td>\n",
       "      <td>37.90</td>\n",
       "      <td>-121.75</td>\n",
       "      <td>57184.0</td>\n",
       "    </tr>\n",
       "    <tr>\n",
       "      <th>3</th>\n",
       "      <td>6005</td>\n",
       "      <td>30</td>\n",
       "      <td>25</td>\n",
       "      <td>76</td>\n",
       "      <td>67</td>\n",
       "      <td>88.0</td>\n",
       "      <td>4.0</td>\n",
       "      <td>Amador County, California</td>\n",
       "      <td>61198.0</td>\n",
       "      <td>California</td>\n",
       "      <td>Amador</td>\n",
       "      <td>CA</td>\n",
       "      <td>38.69</td>\n",
       "      <td>-120.05</td>\n",
       "      <td>6104.0</td>\n",
       "    </tr>\n",
       "    <tr>\n",
       "      <th>4</th>\n",
       "      <td>6007</td>\n",
       "      <td>27</td>\n",
       "      <td>22</td>\n",
       "      <td>84</td>\n",
       "      <td>61</td>\n",
       "      <td>85.0</td>\n",
       "      <td>5.0</td>\n",
       "      <td>Butte County, California</td>\n",
       "      <td>48443.0</td>\n",
       "      <td>California</td>\n",
       "      <td>Butte</td>\n",
       "      <td>CA</td>\n",
       "      <td>39.98</td>\n",
       "      <td>-121.16</td>\n",
       "      <td>23889.0</td>\n",
       "    </tr>\n",
       "    <tr>\n",
       "      <th>5</th>\n",
       "      <td>6009</td>\n",
       "      <td>31</td>\n",
       "      <td>31</td>\n",
       "      <td>60</td>\n",
       "      <td>44</td>\n",
       "      <td>90.0</td>\n",
       "      <td>4.0</td>\n",
       "      <td>Calaveras County, California</td>\n",
       "      <td>58151.0</td>\n",
       "      <td>California</td>\n",
       "      <td>Calaveras</td>\n",
       "      <td>CA</td>\n",
       "      <td>38.42</td>\n",
       "      <td>-120.20</td>\n",
       "      <td>10080.0</td>\n",
       "    </tr>\n",
       "    <tr>\n",
       "      <th>6</th>\n",
       "      <td>6011</td>\n",
       "      <td>41</td>\n",
       "      <td>28</td>\n",
       "      <td>75</td>\n",
       "      <td>32</td>\n",
       "      <td>89.0</td>\n",
       "      <td>12.9</td>\n",
       "      <td>Colusa County, California</td>\n",
       "      <td>56704.0</td>\n",
       "      <td>California</td>\n",
       "      <td>Colusa</td>\n",
       "      <td>CA</td>\n",
       "      <td>39.31</td>\n",
       "      <td>-121.90</td>\n",
       "      <td>6178.0</td>\n",
       "    </tr>\n",
       "  </tbody>\n",
       "</table>\n",
       "</div>"
      ],
      "text/plain": [
       "   FIPS  % Adults with Obesity  % Physically Inactive  \\\n",
       "1  6001                     19                     15   \n",
       "3  6005                     30                     25   \n",
       "4  6007                     27                     22   \n",
       "5  6009                     31                     31   \n",
       "6  6011                     41                     28   \n",
       "\n",
       "   % With Access to Exercise Opportunities  Primary Care Physicians Rate  \\\n",
       "1                                      100                           110   \n",
       "3                                       76                            67   \n",
       "4                                       84                            61   \n",
       "5                                       60                            44   \n",
       "6                                       75                            32   \n",
       "\n",
       "   High School Graduation Rate  % Unemployed              County and State  \\\n",
       "1                         87.0           3.0    Alameda County, California   \n",
       "3                         88.0           4.0     Amador County, California   \n",
       "4                         85.0           5.0      Butte County, California   \n",
       "5                         90.0           4.0  Calaveras County, California   \n",
       "6                         89.0          12.9     Colusa County, California   \n",
       "\n",
       "   Median Income        State     County state  latitude  longitude  \\\n",
       "1        92574.0   California    Alameda    CA     37.90    -121.75   \n",
       "3        61198.0   California     Amador    CA     38.69    -120.05   \n",
       "4        48443.0   California      Butte    CA     39.98    -121.16   \n",
       "5        58151.0   California  Calaveras    CA     38.42    -120.20   \n",
       "6        56704.0   California     Colusa    CA     39.31    -121.90   \n",
       "\n",
       "   estimated_population  \n",
       "1               57184.0  \n",
       "3                6104.0  \n",
       "4               23889.0  \n",
       "5               10080.0  \n",
       "6                6178.0  "
      ]
     },
     "execution_count": 35,
     "metadata": {},
     "output_type": "execute_result"
    }
   ],
   "source": [
    "geo_code_merge = pd.merge(merged_df_copy,group_counties_rename,on=[\"County\"],how=\"left\")\n",
    "geo_code_clean = geo_code_merge.dropna()\n",
    "geo_code_clean.head()"
   ]
  },
  {
   "cell_type": "code",
   "execution_count": 36,
   "metadata": {},
   "outputs": [
    {
     "data": {
      "application/vnd.jupyter.widget-view+json": {
       "model_id": "cfa0b4db7a0f4fdc9be6a1f615109625",
       "version_major": 2,
       "version_minor": 0
      },
      "text/plain": [
       "Figure(layout=FigureLayout(height='420px'))"
      ]
     },
     "metadata": {},
     "output_type": "display_data"
    }
   ],
   "source": [
    "figure = gmaps.figure()\n",
    "\n",
    "\n",
    "locations = geo_code_clean[[\"latitude\",\"longitude\"]]\n",
    "obesity_rate = geo_code_clean[\"% Adults with Obesity\"]\n",
    "\n",
    "# Create heat layer\n",
    "heat_layer = gmaps.heatmap_layer(locations, weights=obesity_rate, \n",
    "                                 dissipating=False, max_intensity=100,\n",
    "                                 point_radius=.6)\n",
    "\n",
    "\n",
    "# Add layer\n",
    "figure.add_layer(heat_layer)\n",
    "\n",
    "# Display figure\n",
    "figure"
   ]
  },
  {
   "cell_type": "markdown",
   "metadata": {},
   "source": [
    "# All States"
   ]
  },
  {
   "cell_type": "code",
   "execution_count": 37,
   "metadata": {},
   "outputs": [
    {
     "data": {
      "text/html": [
       "<div>\n",
       "<style scoped>\n",
       "    .dataframe tbody tr th:only-of-type {\n",
       "        vertical-align: middle;\n",
       "    }\n",
       "\n",
       "    .dataframe tbody tr th {\n",
       "        vertical-align: top;\n",
       "    }\n",
       "\n",
       "    .dataframe thead th {\n",
       "        text-align: right;\n",
       "    }\n",
       "</style>\n",
       "<table border=\"1\" class=\"dataframe\">\n",
       "  <thead>\n",
       "    <tr style=\"text-align: right;\">\n",
       "      <th></th>\n",
       "      <th>FIPS</th>\n",
       "      <th>% Adults with Obesity</th>\n",
       "      <th>% Physically Inactive</th>\n",
       "      <th>% With Access to Exercise Opportunities</th>\n",
       "      <th>Primary Care Physicians Rate</th>\n",
       "      <th>High School Graduation Rate</th>\n",
       "      <th>% Unemployed</th>\n",
       "    </tr>\n",
       "  </thead>\n",
       "  <tbody>\n",
       "    <tr>\n",
       "      <th>0</th>\n",
       "      <td>33000</td>\n",
       "      <td>28</td>\n",
       "      <td>21</td>\n",
       "      <td>88.0</td>\n",
       "      <td>91.0</td>\n",
       "      <td>89.0</td>\n",
       "      <td>2.5</td>\n",
       "    </tr>\n",
       "    <tr>\n",
       "      <th>1</th>\n",
       "      <td>33001</td>\n",
       "      <td>29</td>\n",
       "      <td>23</td>\n",
       "      <td>87.0</td>\n",
       "      <td>64.0</td>\n",
       "      <td>88.0</td>\n",
       "      <td>2.5</td>\n",
       "    </tr>\n",
       "    <tr>\n",
       "      <th>2</th>\n",
       "      <td>33003</td>\n",
       "      <td>27</td>\n",
       "      <td>22</td>\n",
       "      <td>81.0</td>\n",
       "      <td>92.0</td>\n",
       "      <td>94.0</td>\n",
       "      <td>2.5</td>\n",
       "    </tr>\n",
       "    <tr>\n",
       "      <th>3</th>\n",
       "      <td>33005</td>\n",
       "      <td>30</td>\n",
       "      <td>19</td>\n",
       "      <td>75.0</td>\n",
       "      <td>68.0</td>\n",
       "      <td>89.0</td>\n",
       "      <td>2.5</td>\n",
       "    </tr>\n",
       "    <tr>\n",
       "      <th>4</th>\n",
       "      <td>33007</td>\n",
       "      <td>34</td>\n",
       "      <td>26</td>\n",
       "      <td>74.0</td>\n",
       "      <td>114.0</td>\n",
       "      <td>92.0</td>\n",
       "      <td>3.2</td>\n",
       "    </tr>\n",
       "  </tbody>\n",
       "</table>\n",
       "</div>"
      ],
      "text/plain": [
       "    FIPS  % Adults with Obesity  % Physically Inactive  \\\n",
       "0  33000                     28                     21   \n",
       "1  33001                     29                     23   \n",
       "2  33003                     27                     22   \n",
       "3  33005                     30                     19   \n",
       "4  33007                     34                     26   \n",
       "\n",
       "   % With Access to Exercise Opportunities  Primary Care Physicians Rate  \\\n",
       "0                                     88.0                          91.0   \n",
       "1                                     87.0                          64.0   \n",
       "2                                     81.0                          92.0   \n",
       "3                                     75.0                          68.0   \n",
       "4                                     74.0                         114.0   \n",
       "\n",
       "   High School Graduation Rate  % Unemployed  \n",
       "0                         89.0           2.5  \n",
       "1                         88.0           2.5  \n",
       "2                         94.0           2.5  \n",
       "3                         89.0           2.5  \n",
       "4                         92.0           3.2  "
      ]
     },
     "execution_count": 37,
     "metadata": {},
     "output_type": "execute_result"
    }
   ],
   "source": [
    "import glob\n",
    "path = \"./CountyHealthRankings\"\n",
    "# path_1 = \"./CountyHealthRankings/2020 County Health Rankings Utah Data - v1_0.csv\"\n",
    "# read = pd.read_csv(path_1)\n",
    "# read.head()\n",
    "all_files = glob.glob(path + \"/*.csv\")\n",
    "\n",
    "all_states = []\n",
    "for filename in all_files:\n",
    "    df = pd.read_csv(filename, index_col=None, header=0)\n",
    "    all_states.append(df)\n",
    "frame = pd.concat(all_states, axis=0, ignore_index=True)\n",
    "frame.head()\n",
    "states_df = frame[[\"FIPS\",\"% Adults with Obesity\",\"% Physically Inactive\",\"% With Access to Exercise Opportunities\",\"Primary Care Physicians Rate\",\"High School Graduation Rate\",\"% Unemployed\"]]\n",
    "states_df.head()"
   ]
  },
  {
   "cell_type": "code",
   "execution_count": 38,
   "metadata": {},
   "outputs": [
    {
     "data": {
      "text/html": [
       "<div>\n",
       "<style scoped>\n",
       "    .dataframe tbody tr th:only-of-type {\n",
       "        vertical-align: middle;\n",
       "    }\n",
       "\n",
       "    .dataframe tbody tr th {\n",
       "        vertical-align: top;\n",
       "    }\n",
       "\n",
       "    .dataframe thead th {\n",
       "        text-align: right;\n",
       "    }\n",
       "</style>\n",
       "<table border=\"1\" class=\"dataframe\">\n",
       "  <thead>\n",
       "    <tr style=\"text-align: right;\">\n",
       "      <th></th>\n",
       "      <th>FIPS</th>\n",
       "      <th>% Adults with Obesity</th>\n",
       "      <th>% Physically Inactive</th>\n",
       "      <th>% With Access to Exercise Opportunities</th>\n",
       "      <th>Primary Care Physicians Rate</th>\n",
       "      <th>High School Graduation Rate</th>\n",
       "      <th>% Unemployed</th>\n",
       "    </tr>\n",
       "  </thead>\n",
       "  <tbody>\n",
       "    <tr>\n",
       "      <th>0</th>\n",
       "      <td>33000</td>\n",
       "      <td>28</td>\n",
       "      <td>21</td>\n",
       "      <td>88.0</td>\n",
       "      <td>91.0</td>\n",
       "      <td>89.0</td>\n",
       "      <td>2.5</td>\n",
       "    </tr>\n",
       "    <tr>\n",
       "      <th>1</th>\n",
       "      <td>33001</td>\n",
       "      <td>29</td>\n",
       "      <td>23</td>\n",
       "      <td>87.0</td>\n",
       "      <td>64.0</td>\n",
       "      <td>88.0</td>\n",
       "      <td>2.5</td>\n",
       "    </tr>\n",
       "    <tr>\n",
       "      <th>2</th>\n",
       "      <td>33003</td>\n",
       "      <td>27</td>\n",
       "      <td>22</td>\n",
       "      <td>81.0</td>\n",
       "      <td>92.0</td>\n",
       "      <td>94.0</td>\n",
       "      <td>2.5</td>\n",
       "    </tr>\n",
       "    <tr>\n",
       "      <th>3</th>\n",
       "      <td>33005</td>\n",
       "      <td>30</td>\n",
       "      <td>19</td>\n",
       "      <td>75.0</td>\n",
       "      <td>68.0</td>\n",
       "      <td>89.0</td>\n",
       "      <td>2.5</td>\n",
       "    </tr>\n",
       "    <tr>\n",
       "      <th>4</th>\n",
       "      <td>33007</td>\n",
       "      <td>34</td>\n",
       "      <td>26</td>\n",
       "      <td>74.0</td>\n",
       "      <td>114.0</td>\n",
       "      <td>92.0</td>\n",
       "      <td>3.2</td>\n",
       "    </tr>\n",
       "  </tbody>\n",
       "</table>\n",
       "</div>"
      ],
      "text/plain": [
       "    FIPS  % Adults with Obesity  % Physically Inactive  \\\n",
       "0  33000                     28                     21   \n",
       "1  33001                     29                     23   \n",
       "2  33003                     27                     22   \n",
       "3  33005                     30                     19   \n",
       "4  33007                     34                     26   \n",
       "\n",
       "   % With Access to Exercise Opportunities  Primary Care Physicians Rate  \\\n",
       "0                                     88.0                          91.0   \n",
       "1                                     87.0                          64.0   \n",
       "2                                     81.0                          92.0   \n",
       "3                                     75.0                          68.0   \n",
       "4                                     74.0                         114.0   \n",
       "\n",
       "   High School Graduation Rate  % Unemployed  \n",
       "0                         89.0           2.5  \n",
       "1                         88.0           2.5  \n",
       "2                         94.0           2.5  \n",
       "3                         89.0           2.5  \n",
       "4                         92.0           3.2  "
      ]
     },
     "execution_count": 38,
     "metadata": {},
     "output_type": "execute_result"
    }
   ],
   "source": [
    "states_df_copy = states_df.copy()\n",
    "reformat_fips = states_df_copy['FIPS'].apply('{:0>5}'.format)\n",
    "fips_df = pd.DataFrame(reformat_fips)\n",
    "states_df_copy[\"FIPS\"] = fips_df\n",
    "states_df_copy.head()\n"
   ]
  },
  {
   "cell_type": "code",
   "execution_count": 62,
   "metadata": {},
   "outputs": [],
   "source": [
    "\n",
    "all_states_merge = pd.merge(states_df_copy,clean_data,on=\"FIPS\",how=\"left\")\n",
    "clean_all_states = all_states_merge.dropna()\n",
    "clean_all_states.to_csv('./final_dataframe.csv', index=False)"
   ]
  },
  {
   "cell_type": "code",
   "execution_count": 63,
   "metadata": {},
   "outputs": [
    {
     "data": {
      "text/plain": [
       "2914"
      ]
     },
     "execution_count": 63,
     "metadata": {},
     "output_type": "execute_result"
    }
   ],
   "source": [
    "len(clean_all_states[\"% Physically Inactive\"])"
   ]
  },
  {
   "cell_type": "code",
   "execution_count": 41,
   "metadata": {},
   "outputs": [
    {
     "data": {
      "text/html": [
       "<div>\n",
       "<style scoped>\n",
       "    .dataframe tbody tr th:only-of-type {\n",
       "        vertical-align: middle;\n",
       "    }\n",
       "\n",
       "    .dataframe tbody tr th {\n",
       "        vertical-align: top;\n",
       "    }\n",
       "\n",
       "    .dataframe thead th {\n",
       "        text-align: right;\n",
       "    }\n",
       "</style>\n",
       "<table border=\"1\" class=\"dataframe\">\n",
       "  <thead>\n",
       "    <tr style=\"text-align: right;\">\n",
       "      <th></th>\n",
       "      <th>state</th>\n",
       "      <th>latitude</th>\n",
       "      <th>longitude</th>\n",
       "      <th>County</th>\n",
       "    </tr>\n",
       "  </thead>\n",
       "  <tbody>\n",
       "    <tr>\n",
       "      <th>0</th>\n",
       "      <td>NY</td>\n",
       "      <td>40.81</td>\n",
       "      <td>-73.04</td>\n",
       "      <td>Suffolk</td>\n",
       "    </tr>\n",
       "    <tr>\n",
       "      <th>1</th>\n",
       "      <td>NY</td>\n",
       "      <td>40.81</td>\n",
       "      <td>-73.04</td>\n",
       "      <td>Suffolk</td>\n",
       "    </tr>\n",
       "    <tr>\n",
       "      <th>2</th>\n",
       "      <td>PR</td>\n",
       "      <td>18.16</td>\n",
       "      <td>-66.72</td>\n",
       "      <td>Adjuntas</td>\n",
       "    </tr>\n",
       "    <tr>\n",
       "      <th>3</th>\n",
       "      <td>PR</td>\n",
       "      <td>18.38</td>\n",
       "      <td>-67.18</td>\n",
       "      <td>NaN</td>\n",
       "    </tr>\n",
       "    <tr>\n",
       "      <th>4</th>\n",
       "      <td>PR</td>\n",
       "      <td>18.43</td>\n",
       "      <td>-67.15</td>\n",
       "      <td>Aguadilla</td>\n",
       "    </tr>\n",
       "  </tbody>\n",
       "</table>\n",
       "</div>"
      ],
      "text/plain": [
       "  state  latitude  longitude     County\n",
       "0    NY     40.81     -73.04    Suffolk\n",
       "1    NY     40.81     -73.04    Suffolk\n",
       "2    PR     18.16     -66.72   Adjuntas\n",
       "3    PR     18.38     -67.18        NaN\n",
       "4    PR     18.43     -67.15  Aguadilla"
      ]
     },
     "execution_count": 41,
     "metadata": {},
     "output_type": "execute_result"
    }
   ],
   "source": [
    "all_states_lat_lng = lat_lng.iloc[:,[2,3,4,5]]\n",
    "rename_lat_lng = all_states_lat_lng.rename(columns = {\"county\":\"County\"})\n",
    "rename_lat_lng.head()"
   ]
  },
  {
   "cell_type": "code",
   "execution_count": 64,
   "metadata": {},
   "outputs": [
    {
     "data": {
      "text/plain": [
       "1          Belknap\n",
       "2          Carroll\n",
       "3         Cheshire\n",
       "4             Coos\n",
       "5          Grafton\n",
       "           ...    \n",
       "3188      Shoshone\n",
       "3189         Teton\n",
       "3190    Twin Falls\n",
       "3191        Valley\n",
       "3192    Washington\n",
       "Name: County, Length: 2914, dtype: object"
      ]
     },
     "execution_count": 64,
     "metadata": {},
     "output_type": "execute_result"
    }
   ],
   "source": [
    "series = clean_all_states[\"County\"]\n",
    "strip_all = series.str.rstrip('County')\n",
    "strips = strip_all.str.rstrip(' ')\n",
    "strips"
   ]
  },
  {
   "cell_type": "code",
   "execution_count": 65,
   "metadata": {},
   "outputs": [
    {
     "name": "stderr",
     "output_type": "stream",
     "text": [
      "/Users/sherman/opt/anaconda3/envs/PythonData/lib/python3.6/site-packages/ipykernel_launcher.py:1: SettingWithCopyWarning: \n",
      "A value is trying to be set on a copy of a slice from a DataFrame.\n",
      "Try using .loc[row_indexer,col_indexer] = value instead\n",
      "\n",
      "See the caveats in the documentation: https://pandas.pydata.org/pandas-docs/stable/user_guide/indexing.html#returning-a-view-versus-a-copy\n",
      "  \"\"\"Entry point for launching an IPython kernel.\n"
     ]
    }
   ],
   "source": [
    "clean_all_states[\"County\"] = strips"
   ]
  },
  {
   "cell_type": "code",
   "execution_count": 44,
   "metadata": {},
   "outputs": [],
   "source": [
    "data_merge = pd.merge(all_states_merge,rename_lat_lng,on=\"County\",how=\"left\")\n"
   ]
  },
  {
   "cell_type": "code",
   "execution_count": 45,
   "metadata": {},
   "outputs": [
    {
     "data": {
      "text/html": [
       "<div>\n",
       "<style scoped>\n",
       "    .dataframe tbody tr th:only-of-type {\n",
       "        vertical-align: middle;\n",
       "    }\n",
       "\n",
       "    .dataframe tbody tr th {\n",
       "        vertical-align: top;\n",
       "    }\n",
       "\n",
       "    .dataframe thead th {\n",
       "        text-align: right;\n",
       "    }\n",
       "</style>\n",
       "<table border=\"1\" class=\"dataframe\">\n",
       "  <thead>\n",
       "    <tr style=\"text-align: right;\">\n",
       "      <th></th>\n",
       "      <th>FIPS</th>\n",
       "      <th>% Adults with Obesity</th>\n",
       "      <th>% Physically Inactive</th>\n",
       "      <th>% With Access to Exercise Opportunities</th>\n",
       "      <th>Primary Care Physicians Rate</th>\n",
       "      <th>High School Graduation Rate</th>\n",
       "      <th>% Unemployed</th>\n",
       "      <th>County and State</th>\n",
       "      <th>Median Income</th>\n",
       "      <th>State</th>\n",
       "      <th>County</th>\n",
       "      <th>state</th>\n",
       "      <th>latitude</th>\n",
       "      <th>longitude</th>\n",
       "    </tr>\n",
       "  </thead>\n",
       "  <tbody>\n",
       "    <tr>\n",
       "      <th>850</th>\n",
       "      <td>33001</td>\n",
       "      <td>29</td>\n",
       "      <td>23</td>\n",
       "      <td>87.0</td>\n",
       "      <td>64.0</td>\n",
       "      <td>88.0</td>\n",
       "      <td>2.5</td>\n",
       "      <td>Belknap County, New Hampshire</td>\n",
       "      <td>68368</td>\n",
       "      <td>New Hampshire</td>\n",
       "      <td>Belknap</td>\n",
       "      <td>NH</td>\n",
       "      <td>43.33</td>\n",
       "      <td>-71.29</td>\n",
       "    </tr>\n",
       "    <tr>\n",
       "      <th>869</th>\n",
       "      <td>33003</td>\n",
       "      <td>27</td>\n",
       "      <td>22</td>\n",
       "      <td>81.0</td>\n",
       "      <td>92.0</td>\n",
       "      <td>94.0</td>\n",
       "      <td>2.5</td>\n",
       "      <td>Carroll County, New Hampshire</td>\n",
       "      <td>61116</td>\n",
       "      <td>New Hampshire</td>\n",
       "      <td>Carroll</td>\n",
       "      <td>NH</td>\n",
       "      <td>43.83</td>\n",
       "      <td>-71.47</td>\n",
       "    </tr>\n",
       "    <tr>\n",
       "      <th>1007</th>\n",
       "      <td>33005</td>\n",
       "      <td>30</td>\n",
       "      <td>19</td>\n",
       "      <td>75.0</td>\n",
       "      <td>68.0</td>\n",
       "      <td>89.0</td>\n",
       "      <td>2.5</td>\n",
       "      <td>Cheshire County, New Hampshire</td>\n",
       "      <td>63057</td>\n",
       "      <td>New Hampshire</td>\n",
       "      <td>Cheshire</td>\n",
       "      <td>NH</td>\n",
       "      <td>42.95</td>\n",
       "      <td>-72.29</td>\n",
       "    </tr>\n",
       "    <tr>\n",
       "      <th>1034</th>\n",
       "      <td>33007</td>\n",
       "      <td>34</td>\n",
       "      <td>26</td>\n",
       "      <td>74.0</td>\n",
       "      <td>114.0</td>\n",
       "      <td>92.0</td>\n",
       "      <td>3.2</td>\n",
       "      <td>Coos County, New Hampshire</td>\n",
       "      <td>45696</td>\n",
       "      <td>New Hampshire</td>\n",
       "      <td>Coos</td>\n",
       "      <td>NH</td>\n",
       "      <td>44.48</td>\n",
       "      <td>-71.25</td>\n",
       "    </tr>\n",
       "    <tr>\n",
       "      <th>1057</th>\n",
       "      <td>33009</td>\n",
       "      <td>24</td>\n",
       "      <td>19</td>\n",
       "      <td>90.0</td>\n",
       "      <td>197.0</td>\n",
       "      <td>95.0</td>\n",
       "      <td>2.1</td>\n",
       "      <td>Grafton County, New Hampshire</td>\n",
       "      <td>63153</td>\n",
       "      <td>New Hampshire</td>\n",
       "      <td>Grafton</td>\n",
       "      <td>NH</td>\n",
       "      <td>43.95</td>\n",
       "      <td>-71.50</td>\n",
       "    </tr>\n",
       "    <tr>\n",
       "      <th>...</th>\n",
       "      <td>...</td>\n",
       "      <td>...</td>\n",
       "      <td>...</td>\n",
       "      <td>...</td>\n",
       "      <td>...</td>\n",
       "      <td>...</td>\n",
       "      <td>...</td>\n",
       "      <td>...</td>\n",
       "      <td>...</td>\n",
       "      <td>...</td>\n",
       "      <td>...</td>\n",
       "      <td>...</td>\n",
       "      <td>...</td>\n",
       "      <td>...</td>\n",
       "    </tr>\n",
       "    <tr>\n",
       "      <th>228987</th>\n",
       "      <td>16073</td>\n",
       "      <td>39</td>\n",
       "      <td>26</td>\n",
       "      <td>67.0</td>\n",
       "      <td>9.0</td>\n",
       "      <td>94.0</td>\n",
       "      <td>3.6</td>\n",
       "      <td>Owyhee County, Idaho</td>\n",
       "      <td>40430</td>\n",
       "      <td>Idaho</td>\n",
       "      <td>Owyhee</td>\n",
       "      <td>ID</td>\n",
       "      <td>42.57</td>\n",
       "      <td>-115.85</td>\n",
       "    </tr>\n",
       "    <tr>\n",
       "      <th>228992</th>\n",
       "      <td>16075</td>\n",
       "      <td>35</td>\n",
       "      <td>30</td>\n",
       "      <td>67.0</td>\n",
       "      <td>43.0</td>\n",
       "      <td>87.0</td>\n",
       "      <td>3.6</td>\n",
       "      <td>Payette County, Idaho</td>\n",
       "      <td>50289</td>\n",
       "      <td>Idaho</td>\n",
       "      <td>Payette</td>\n",
       "      <td>ID</td>\n",
       "      <td>43.96</td>\n",
       "      <td>-116.91</td>\n",
       "    </tr>\n",
       "    <tr>\n",
       "      <th>228995</th>\n",
       "      <td>16077</td>\n",
       "      <td>36</td>\n",
       "      <td>24</td>\n",
       "      <td>69.0</td>\n",
       "      <td>26.0</td>\n",
       "      <td>87.0</td>\n",
       "      <td>2.9</td>\n",
       "      <td>Power County, Idaho</td>\n",
       "      <td>49985</td>\n",
       "      <td>Idaho</td>\n",
       "      <td>Power</td>\n",
       "      <td>ID</td>\n",
       "      <td>42.72</td>\n",
       "      <td>-112.99</td>\n",
       "    </tr>\n",
       "    <tr>\n",
       "      <th>228998</th>\n",
       "      <td>16079</td>\n",
       "      <td>35</td>\n",
       "      <td>22</td>\n",
       "      <td>93.0</td>\n",
       "      <td>48.0</td>\n",
       "      <td>94.0</td>\n",
       "      <td>5.7</td>\n",
       "      <td>Shoshone County, Idaho</td>\n",
       "      <td>39091</td>\n",
       "      <td>Idaho</td>\n",
       "      <td>Shoshone</td>\n",
       "      <td>ID</td>\n",
       "      <td>47.17</td>\n",
       "      <td>-115.80</td>\n",
       "    </tr>\n",
       "    <tr>\n",
       "      <th>229028</th>\n",
       "      <td>16083</td>\n",
       "      <td>33</td>\n",
       "      <td>24</td>\n",
       "      <td>76.0</td>\n",
       "      <td>69.0</td>\n",
       "      <td>80.0</td>\n",
       "      <td>2.7</td>\n",
       "      <td>Twin Falls County, Idaho</td>\n",
       "      <td>50778</td>\n",
       "      <td>Idaho</td>\n",
       "      <td>Twin Falls</td>\n",
       "      <td>ID</td>\n",
       "      <td>42.41</td>\n",
       "      <td>-114.59</td>\n",
       "    </tr>\n",
       "  </tbody>\n",
       "</table>\n",
       "<p>1692 rows × 14 columns</p>\n",
       "</div>"
      ],
      "text/plain": [
       "         FIPS  % Adults with Obesity  % Physically Inactive  \\\n",
       "850     33001                     29                     23   \n",
       "869     33003                     27                     22   \n",
       "1007    33005                     30                     19   \n",
       "1034    33007                     34                     26   \n",
       "1057    33009                     24                     19   \n",
       "...       ...                    ...                    ...   \n",
       "228987  16073                     39                     26   \n",
       "228992  16075                     35                     30   \n",
       "228995  16077                     36                     24   \n",
       "228998  16079                     35                     22   \n",
       "229028  16083                     33                     24   \n",
       "\n",
       "        % With Access to Exercise Opportunities  Primary Care Physicians Rate  \\\n",
       "850                                        87.0                          64.0   \n",
       "869                                        81.0                          92.0   \n",
       "1007                                       75.0                          68.0   \n",
       "1034                                       74.0                         114.0   \n",
       "1057                                       90.0                         197.0   \n",
       "...                                         ...                           ...   \n",
       "228987                                     67.0                           9.0   \n",
       "228992                                     67.0                          43.0   \n",
       "228995                                     69.0                          26.0   \n",
       "228998                                     93.0                          48.0   \n",
       "229028                                     76.0                          69.0   \n",
       "\n",
       "        High School Graduation Rate  % Unemployed  \\\n",
       "850                            88.0           2.5   \n",
       "869                            94.0           2.5   \n",
       "1007                           89.0           2.5   \n",
       "1034                           92.0           3.2   \n",
       "1057                           95.0           2.1   \n",
       "...                             ...           ...   \n",
       "228987                         94.0           3.6   \n",
       "228992                         87.0           3.6   \n",
       "228995                         87.0           2.9   \n",
       "228998                         94.0           5.7   \n",
       "229028                         80.0           2.7   \n",
       "\n",
       "                      County and State Median Income           State  \\\n",
       "850      Belknap County, New Hampshire         68368   New Hampshire   \n",
       "869      Carroll County, New Hampshire         61116   New Hampshire   \n",
       "1007    Cheshire County, New Hampshire         63057   New Hampshire   \n",
       "1034        Coos County, New Hampshire         45696   New Hampshire   \n",
       "1057     Grafton County, New Hampshire         63153   New Hampshire   \n",
       "...                                ...           ...             ...   \n",
       "228987            Owyhee County, Idaho         40430           Idaho   \n",
       "228992           Payette County, Idaho         50289           Idaho   \n",
       "228995             Power County, Idaho         49985           Idaho   \n",
       "228998          Shoshone County, Idaho         39091           Idaho   \n",
       "229028        Twin Falls County, Idaho         50778           Idaho   \n",
       "\n",
       "            County state  latitude  longitude  \n",
       "850        Belknap    NH     43.33     -71.29  \n",
       "869        Carroll    NH     43.83     -71.47  \n",
       "1007      Cheshire    NH     42.95     -72.29  \n",
       "1034          Coos    NH     44.48     -71.25  \n",
       "1057       Grafton    NH     43.95     -71.50  \n",
       "...            ...   ...       ...        ...  \n",
       "228987      Owyhee    ID     42.57    -115.85  \n",
       "228992     Payette    ID     43.96    -116.91  \n",
       "228995       Power    ID     42.72    -112.99  \n",
       "228998    Shoshone    ID     47.17    -115.80  \n",
       "229028  Twin Falls    ID     42.41    -114.59  \n",
       "\n",
       "[1692 rows x 14 columns]"
      ]
     },
     "execution_count": 45,
     "metadata": {},
     "output_type": "execute_result"
    }
   ],
   "source": [
    "clean_dataset = data_merge.dropna()\n",
    "drop_dups = clean_dataset.drop_duplicates(subset=\"County\")\n",
    "drop_dups"
   ]
  },
  {
   "cell_type": "code",
   "execution_count": 46,
   "metadata": {},
   "outputs": [
    {
     "data": {
      "application/vnd.jupyter.widget-view+json": {
       "model_id": "890cca6a6afb4006974caaf8b186740c",
       "version_major": 2,
       "version_minor": 0
      },
      "text/plain": [
       "Figure(layout=FigureLayout(height='420px'))"
      ]
     },
     "metadata": {},
     "output_type": "display_data"
    }
   ],
   "source": [
    "figure = gmaps.figure()\n",
    "\n",
    "\n",
    "lat_lng = drop_dups[[\"latitude\",\"longitude\"]]\n",
    "obesity = drop_dups[\"% Adults with Obesity\"]\n",
    "\n",
    "# Create heat layer\n",
    "heat_layer = gmaps.heatmap_layer(lat_lng, weights=obesity, \n",
    "                                 dissipating=False, max_intensity=100,\n",
    "                                 point_radius=.8)\n",
    "\n",
    "\n",
    "# Add layer\n",
    "figure.add_layer(heat_layer)\n",
    "\n",
    "# Display figure\n",
    "figure"
   ]
  },
  {
   "cell_type": "markdown",
   "metadata": {},
   "source": [
    "## Obesity vs. % Physically Inactive"
   ]
  },
  {
   "cell_type": "code",
   "execution_count": 47,
   "metadata": {},
   "outputs": [
    {
     "data": {
      "image/png": "[encoded data removed]",
      "text/plain": [
       "<Figure size 432x288 with 1 Axes>"
      ]
     },
     "metadata": {
      "needs_background": "light"
     },
     "output_type": "display_data"
    },
    {
     "name": "stdout",
     "output_type": "stream",
     "text": [
      "The r-squared value is: 0.5621279434298677\n"
     ]
    }
   ],
   "source": [
    "states_obesity_rate = all_states_merge[\"% Adults with Obesity\"]\n",
    "states_physical = all_states_merge[\"% Physically Inactive\"]\n",
    "\n",
    "(slope, intercept, rvalue, pvalue, stderr) = linregress(states_obesity_rate, states_physical)\n",
    "regress_values = states_obesity_rate * slope + intercept\n",
    "line_eq = \"y = \" + str(round(slope,2)) + \"x + \" + str(round(intercept,2))\n",
    "plt.scatter(states_obesity_rate,states_physical,color=\"c\",edgecolors=\"black\")\n",
    "plt.plot(states_obesity_rate,regress_values,\"r-\")\n",
    "plt.annotate(line_eq,(35,15),fontsize=15,color=\"red\")\n",
    "plt.xlabel(\"Obesity Rate\")\n",
    "plt.ylabel(\"% Physically Inactive\")\n",
    "plt.title(\"Obesity vs. % Physically Inactive\")\n",
    "plt.show()\n",
    "\n",
    "(print(f\"The r-squared value is: {rvalue}\"))"
   ]
  },
  {
   "cell_type": "code",
   "execution_count": 53,
   "metadata": {},
   "outputs": [
    {
     "data": {
      "image/png": "[encoded data removed]",
      "text/plain": [
       "<Figure size 432x288 with 1 Axes>"
      ]
     },
     "metadata": {
      "needs_background": "light"
     },
     "output_type": "display_data"
    },
    {
     "name": "stdout",
     "output_type": "stream",
     "text": [
      "The r-squared value is: nan\n"
     ]
    }
   ],
   "source": [
    "states_obesity_rate = all_states_merge[\"% Adults with Obesity\"]\n",
    "states_exercise = all_states_merge[\"% With Access to Exercise Opportunities\"]\n",
    "\n",
    "(slope, intercept, rvalue, pvalue, stderr) = linregress(states_obesity_rate, states_exercise)\n",
    "regress_values = states_obesity_rate * slope + intercept\n",
    "line_eq = \"y = \" + str(round(slope,2)) + \"x + \" + str(round(intercept,2))\n",
    "plt.scatter(states_obesity_rate,states_exercise,color=\"c\",edgecolors=\"black\")\n",
    "plt.plot(states_obesity_rate,regress_values,\"r-\")\n",
    "plt.annotate(line_eq,(20,30),fontsize=15,color=\"red\")\n",
    "plt.xlabel(\"Obesity Rate\")\n",
    "plt.ylabel(\"% With Access to Exercise Opportunities\")\n",
    "plt.title(\"Obesity vs. % With Access to Exercise Opportunities\")\n",
    "plt.show()\n",
    "\n",
    "(print(f\"The r-squared value is: {rvalue}\"))"
   ]
  },
  {
   "cell_type": "code",
   "execution_count": 54,
   "metadata": {},
   "outputs": [
    {
     "data": {
      "image/png": "[encoded data removed]",
      "text/plain": [
       "<Figure size 432x288 with 1 Axes>"
      ]
     },
     "metadata": {
      "needs_background": "light"
     },
     "output_type": "display_data"
    },
    {
     "name": "stdout",
     "output_type": "stream",
     "text": [
      "The r-squared value is: nan\n"
     ]
    }
   ],
   "source": [
    "states_obesity_rate = all_states_merge[\"% Adults with Obesity\"]\n",
    "states_physician = all_states_merge[\"Primary Care Physicians Rate\"]\n",
    "\n",
    "(slope, intercept, rvalue, pvalue, stderr) = linregress(states_obesity_rate, states_physician)\n",
    "regress_values = states_obesity_rate * slope + intercept\n",
    "line_eq = \"y = \" + str(round(slope,2)) + \"x + \" + str(round(intercept,2))\n",
    "plt.scatter(states_obesity_rate,states_physician,color=\"c\",edgecolors=\"black\")\n",
    "plt.plot(states_obesity_rate,regress_values,\"r-\")\n",
    "plt.annotate(line_eq,(30,20),fontsize=15,color=\"red\")\n",
    "plt.xlabel(\"Obesity Rate\")\n",
    "plt.ylabel(\"Primary Care Physicians Rate\")\n",
    "plt.title(\"Obesity vs. Primary Care Physicians Rate\")\n",
    "plt.show()\n",
    "\n",
    "(print(f\"The r-squared value is: {rvalue}\"))\n"
   ]
  },
  {
   "cell_type": "code",
   "execution_count": 61,
   "metadata": {},
   "outputs": [
    {
     "data": {
      "text/plain": [
       "1       68368\n",
       "2       61116\n",
       "3       63057\n",
       "4       45696\n",
       "5       63153\n",
       "        ...  \n",
       "3188    39091\n",
       "3189    68818\n",
       "3190    50778\n",
       "3191    55299\n",
       "3192    37206\n",
       "Name: Median Income, Length: 3141, dtype: object"
      ]
     },
     "execution_count": 61,
     "metadata": {},
     "output_type": "execute_result"
    }
   ],
   "source": []
  },
  {
   "cell_type": "code",
   "execution_count": 55,
   "metadata": {},
   "outputs": [
    {
     "ename": "TypeError",
     "evalue": "unsupported operand type(s) for +: 'float' and 'str'",
     "output_type": "error",
     "traceback": [
      "\u001b[0;31m---------------------------------------------------------------------------\u001b[0m",
      "\u001b[0;31mTypeError\u001b[0m                                 Traceback (most recent call last)",
      "\u001b[0;32m<ipython-input-55-08450e96ee7f>\u001b[0m in \u001b[0;36m<module>\u001b[0;34m\u001b[0m\n\u001b[1;32m      2\u001b[0m \u001b[0mmedian_income\u001b[0m \u001b[0;34m=\u001b[0m \u001b[0mall_states_merge\u001b[0m\u001b[0;34m[\u001b[0m\u001b[0;34m\"Median Income\"\u001b[0m\u001b[0;34m]\u001b[0m\u001b[0;34m\u001b[0m\u001b[0;34m\u001b[0m\u001b[0m\n\u001b[1;32m      3\u001b[0m \u001b[0;34m\u001b[0m\u001b[0m\n\u001b[0;32m----> 4\u001b[0;31m \u001b[0;34m(\u001b[0m\u001b[0mslope\u001b[0m\u001b[0;34m,\u001b[0m \u001b[0mintercept\u001b[0m\u001b[0;34m,\u001b[0m \u001b[0mrvalue\u001b[0m\u001b[0;34m,\u001b[0m \u001b[0mpvalue\u001b[0m\u001b[0;34m,\u001b[0m \u001b[0mstderr\u001b[0m\u001b[0;34m)\u001b[0m \u001b[0;34m=\u001b[0m \u001b[0mlinregress\u001b[0m\u001b[0;34m(\u001b[0m\u001b[0mstates_obesity_rate\u001b[0m\u001b[0;34m,\u001b[0m \u001b[0mmedian_income\u001b[0m\u001b[0;34m)\u001b[0m\u001b[0;34m\u001b[0m\u001b[0;34m\u001b[0m\u001b[0m\n\u001b[0m\u001b[1;32m      5\u001b[0m \u001b[0mregress_values\u001b[0m \u001b[0;34m=\u001b[0m \u001b[0mstates_obesity_rate\u001b[0m \u001b[0;34m*\u001b[0m \u001b[0mslope\u001b[0m \u001b[0;34m+\u001b[0m \u001b[0mintercept\u001b[0m\u001b[0;34m\u001b[0m\u001b[0;34m\u001b[0m\u001b[0m\n\u001b[1;32m      6\u001b[0m \u001b[0mline_eq\u001b[0m \u001b[0;34m=\u001b[0m \u001b[0;34m\"y = \"\u001b[0m \u001b[0;34m+\u001b[0m \u001b[0mstr\u001b[0m\u001b[0;34m(\u001b[0m\u001b[0mround\u001b[0m\u001b[0;34m(\u001b[0m\u001b[0mslope\u001b[0m\u001b[0;34m,\u001b[0m\u001b[0;36m2\u001b[0m\u001b[0;34m)\u001b[0m\u001b[0;34m)\u001b[0m \u001b[0;34m+\u001b[0m \u001b[0;34m\"x + \"\u001b[0m \u001b[0;34m+\u001b[0m \u001b[0mstr\u001b[0m\u001b[0;34m(\u001b[0m\u001b[0mround\u001b[0m\u001b[0;34m(\u001b[0m\u001b[0mintercept\u001b[0m\u001b[0;34m,\u001b[0m\u001b[0;36m2\u001b[0m\u001b[0;34m)\u001b[0m\u001b[0;34m)\u001b[0m\u001b[0;34m\u001b[0m\u001b[0;34m\u001b[0m\u001b[0m\n",
      "\u001b[0;32m~/opt/anaconda3/envs/PythonData/lib/python3.6/site-packages/scipy/stats/_stats_mstats_common.py\u001b[0m in \u001b[0;36mlinregress\u001b[0;34m(x, y)\u001b[0m\n\u001b[1;32m    111\u001b[0m     \u001b[0mn\u001b[0m \u001b[0;34m=\u001b[0m \u001b[0mlen\u001b[0m\u001b[0;34m(\u001b[0m\u001b[0mx\u001b[0m\u001b[0;34m)\u001b[0m\u001b[0;34m\u001b[0m\u001b[0;34m\u001b[0m\u001b[0m\n\u001b[1;32m    112\u001b[0m     \u001b[0mxmean\u001b[0m \u001b[0;34m=\u001b[0m \u001b[0mnp\u001b[0m\u001b[0;34m.\u001b[0m\u001b[0mmean\u001b[0m\u001b[0;34m(\u001b[0m\u001b[0mx\u001b[0m\u001b[0;34m,\u001b[0m \u001b[0;32mNone\u001b[0m\u001b[0;34m)\u001b[0m\u001b[0;34m\u001b[0m\u001b[0;34m\u001b[0m\u001b[0m\n\u001b[0;32m--> 113\u001b[0;31m     \u001b[0mymean\u001b[0m \u001b[0;34m=\u001b[0m \u001b[0mnp\u001b[0m\u001b[0;34m.\u001b[0m\u001b[0mmean\u001b[0m\u001b[0;34m(\u001b[0m\u001b[0my\u001b[0m\u001b[0;34m,\u001b[0m \u001b[0;32mNone\u001b[0m\u001b[0;34m)\u001b[0m\u001b[0;34m\u001b[0m\u001b[0;34m\u001b[0m\u001b[0m\n\u001b[0m\u001b[1;32m    114\u001b[0m \u001b[0;34m\u001b[0m\u001b[0m\n\u001b[1;32m    115\u001b[0m     \u001b[0;31m# average sum of squares:\u001b[0m\u001b[0;34m\u001b[0m\u001b[0;34m\u001b[0m\u001b[0;34m\u001b[0m\u001b[0m\n",
      "\u001b[0;32m<__array_function__ internals>\u001b[0m in \u001b[0;36mmean\u001b[0;34m(*args, **kwargs)\u001b[0m\n",
      "\u001b[0;32m~/opt/anaconda3/envs/PythonData/lib/python3.6/site-packages/numpy/core/fromnumeric.py\u001b[0m in \u001b[0;36mmean\u001b[0;34m(a, axis, dtype, out, keepdims)\u001b[0m\n\u001b[1;32m   3255\u001b[0m \u001b[0;34m\u001b[0m\u001b[0m\n\u001b[1;32m   3256\u001b[0m     return _methods._mean(a, axis=axis, dtype=dtype,\n\u001b[0;32m-> 3257\u001b[0;31m                           out=out, **kwargs)\n\u001b[0m\u001b[1;32m   3258\u001b[0m \u001b[0;34m\u001b[0m\u001b[0m\n\u001b[1;32m   3259\u001b[0m \u001b[0;34m\u001b[0m\u001b[0m\n",
      "\u001b[0;32m~/opt/anaconda3/envs/PythonData/lib/python3.6/site-packages/numpy/core/_methods.py\u001b[0m in \u001b[0;36m_mean\u001b[0;34m(a, axis, dtype, out, keepdims)\u001b[0m\n\u001b[1;32m    149\u001b[0m             \u001b[0mis_float16_result\u001b[0m \u001b[0;34m=\u001b[0m \u001b[0;32mTrue\u001b[0m\u001b[0;34m\u001b[0m\u001b[0;34m\u001b[0m\u001b[0m\n\u001b[1;32m    150\u001b[0m \u001b[0;34m\u001b[0m\u001b[0m\n\u001b[0;32m--> 151\u001b[0;31m     \u001b[0mret\u001b[0m \u001b[0;34m=\u001b[0m \u001b[0mumr_sum\u001b[0m\u001b[0;34m(\u001b[0m\u001b[0marr\u001b[0m\u001b[0;34m,\u001b[0m \u001b[0maxis\u001b[0m\u001b[0;34m,\u001b[0m \u001b[0mdtype\u001b[0m\u001b[0;34m,\u001b[0m \u001b[0mout\u001b[0m\u001b[0;34m,\u001b[0m \u001b[0mkeepdims\u001b[0m\u001b[0;34m)\u001b[0m\u001b[0;34m\u001b[0m\u001b[0;34m\u001b[0m\u001b[0m\n\u001b[0m\u001b[1;32m    152\u001b[0m     \u001b[0;32mif\u001b[0m \u001b[0misinstance\u001b[0m\u001b[0;34m(\u001b[0m\u001b[0mret\u001b[0m\u001b[0;34m,\u001b[0m \u001b[0mmu\u001b[0m\u001b[0;34m.\u001b[0m\u001b[0mndarray\u001b[0m\u001b[0;34m)\u001b[0m\u001b[0;34m:\u001b[0m\u001b[0;34m\u001b[0m\u001b[0;34m\u001b[0m\u001b[0m\n\u001b[1;32m    153\u001b[0m         ret = um.true_divide(\n",
      "\u001b[0;31mTypeError\u001b[0m: unsupported operand type(s) for +: 'float' and 'str'"
     ]
    }
   ],
   "source": [
    "states_obesity_rate = all_states_merge[\"% Adults with Obesity\"]\n",
    "median_income = all_states_merge[\"Median Income\"]\n",
    "\n",
    "(slope, intercept, rvalue, pvalue, stderr) = linregress(states_obesity_rate, median_income)\n",
    "regress_values = states_obesity_rate * slope + intercept\n",
    "line_eq = \"y = \" + str(round(slope,2)) + \"x + \" + str(round(intercept,2))\n",
    "plt.scatter(states_obesity_rate,median_income,color=\"c\",edgecolors=\"black\")\n",
    "plt.plot(states_obesity_rate,regress_values,\"r-\")\n",
    "plt.annotate(line_eq,(26,90000),fontsize=15,color=\"red\")\n",
    "plt.xlabel(\"Obesity Rate\")\n",
    "plt.ylabel(\"Median Income\")\n",
    "plt.title(\"Obesity vs. Median Income in Ohio\")\n",
    "plt.show()\n",
    "\n",
    "(print(f\"The r-squared value is: {rvalue}\"))"
   ]
  },
  {
   "cell_type": "code",
   "execution_count": null,
   "metadata": {},
   "outputs": [],
   "source": []
  }
 ],
 "metadata": {
  "kernelspec": {
   "display_name": "Python 3",
   "language": "python",
   "name": "python3"
  },
  "language_info": {
   "codemirror_mode": {
    "name": "ipython",
    "version": 3
   },
   "file_extension": ".py",
   "mimetype": "text/x-python",
   "name": "python",
   "nbconvert_exporter": "python",
   "pygments_lexer": "ipython3",
   "version": "3.6.10"
  }
 },
 "nbformat": 4,
 "nbformat_minor": 4
}
