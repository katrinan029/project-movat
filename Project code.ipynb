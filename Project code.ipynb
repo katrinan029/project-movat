{
 "cells": [
  {
   "cell_type": "markdown",
   "metadata": {},
   "source": [
    "# Obesity Rate Correlation Analysis\n",
    "\n",
    "* The analysis will encompass data from the states of California, Ohio, and South Carolina.\n",
    "* The objective is to find if there is correlation between obesity rate and the following measurements: \n",
    "    * Median household income\n",
    "    * % With access to exercise opportunities\n",
    "    * % of physically inactive\n",
    "    * Primary care physicians rate\n",
    "    * High School Unemployment rate\n",
    "    * Unemployed rate\n",
    "    "
   ]
  },
  {
   "cell_type": "code",
   "execution_count": 1,
   "metadata": {},
   "outputs": [],
   "source": [
    "import requests\n",
    "import pandas as pd\n",
    "import csv\n",
    "import matplotlib.pyplot as plt\n",
    "import numpy as np\n",
    "import time\n",
    "from scipy.stats import linregress\n",
    "from pprint import pprint\n",
    "from api_key import g_key \n",
    "import json\n",
    "import gmaps\n",
    "import glob\n"
   ]
  },
  {
   "cell_type": "code",
   "execution_count": 2,
   "metadata": {},
   "outputs": [
    {
     "data": {
      "text/html": [
       "<div>\n",
       "<style scoped>\n",
       "    .dataframe tbody tr th:only-of-type {\n",
       "        vertical-align: middle;\n",
       "    }\n",
       "\n",
       "    .dataframe tbody tr th {\n",
       "        vertical-align: top;\n",
       "    }\n",
       "\n",
       "    .dataframe thead th {\n",
       "        text-align: right;\n",
       "    }\n",
       "</style>\n",
       "<table border=\"1\" class=\"dataframe\">\n",
       "  <thead>\n",
       "    <tr style=\"text-align: right;\">\n",
       "      <th></th>\n",
       "      <th>FIPS</th>\n",
       "      <th>% Adults with Obesity</th>\n",
       "      <th>% Physically Inactive</th>\n",
       "      <th>% With Access to Exercise Opportunities</th>\n",
       "      <th>Primary Care Physicians Rate</th>\n",
       "      <th>High School Graduation Rate</th>\n",
       "      <th>% Unemployed</th>\n",
       "    </tr>\n",
       "  </thead>\n",
       "  <tbody>\n",
       "    <tr>\n",
       "      <th>0</th>\n",
       "      <td>33000</td>\n",
       "      <td>28</td>\n",
       "      <td>21</td>\n",
       "      <td>88.0</td>\n",
       "      <td>91.0</td>\n",
       "      <td>89.0</td>\n",
       "      <td>2.5</td>\n",
       "    </tr>\n",
       "    <tr>\n",
       "      <th>1</th>\n",
       "      <td>33001</td>\n",
       "      <td>29</td>\n",
       "      <td>23</td>\n",
       "      <td>87.0</td>\n",
       "      <td>64.0</td>\n",
       "      <td>88.0</td>\n",
       "      <td>2.5</td>\n",
       "    </tr>\n",
       "    <tr>\n",
       "      <th>2</th>\n",
       "      <td>33003</td>\n",
       "      <td>27</td>\n",
       "      <td>22</td>\n",
       "      <td>81.0</td>\n",
       "      <td>92.0</td>\n",
       "      <td>94.0</td>\n",
       "      <td>2.5</td>\n",
       "    </tr>\n",
       "    <tr>\n",
       "      <th>3</th>\n",
       "      <td>33005</td>\n",
       "      <td>30</td>\n",
       "      <td>19</td>\n",
       "      <td>75.0</td>\n",
       "      <td>68.0</td>\n",
       "      <td>89.0</td>\n",
       "      <td>2.5</td>\n",
       "    </tr>\n",
       "    <tr>\n",
       "      <th>4</th>\n",
       "      <td>33007</td>\n",
       "      <td>34</td>\n",
       "      <td>26</td>\n",
       "      <td>74.0</td>\n",
       "      <td>114.0</td>\n",
       "      <td>92.0</td>\n",
       "      <td>3.2</td>\n",
       "    </tr>\n",
       "  </tbody>\n",
       "</table>\n",
       "</div>"
      ],
      "text/plain": [
       "    FIPS  % Adults with Obesity  % Physically Inactive  \\\n",
       "0  33000                     28                     21   \n",
       "1  33001                     29                     23   \n",
       "2  33003                     27                     22   \n",
       "3  33005                     30                     19   \n",
       "4  33007                     34                     26   \n",
       "\n",
       "   % With Access to Exercise Opportunities  Primary Care Physicians Rate  \\\n",
       "0                                     88.0                          91.0   \n",
       "1                                     87.0                          64.0   \n",
       "2                                     81.0                          92.0   \n",
       "3                                     75.0                          68.0   \n",
       "4                                     74.0                         114.0   \n",
       "\n",
       "   High School Graduation Rate  % Unemployed  \n",
       "0                         89.0           2.5  \n",
       "1                         88.0           2.5  \n",
       "2                         94.0           2.5  \n",
       "3                         89.0           2.5  \n",
       "4                         92.0           3.2  "
      ]
     },
     "execution_count": 2,
     "metadata": {},
     "output_type": "execute_result"
    }
   ],
   "source": [
    "# Countyhealthrankings data for California, Ohio and South Carolina\n",
    "# source https://www.countyhealthrankings.org/\n",
    "\n",
    "path = \"./CountyHealthRankings\"\n",
    "all_files = glob.glob(path + \"/*.csv\")\n",
    "\n",
    "# Read all csv files in folder and append to create one dataframe\n",
    "\n",
    "all_states = []\n",
    "for filename in all_files:\n",
    "    df = pd.read_csv(filename, index_col=None, header=0)\n",
    "    all_states.append(df)\n",
    "frame = pd.concat(all_states, axis=0, ignore_index=True)\n",
    "frame.head()\n",
    "states_health_df = frame[[\"FIPS\",\"% Adults with Obesity\",\"% Physically Inactive\",\"% With Access to Exercise Opportunities\",\"Primary Care Physicians Rate\",\"High School Graduation Rate\",\"% Unemployed\"]]\n",
    "states_health_df.head()"
   ]
  },
  {
   "cell_type": "code",
   "execution_count": 3,
   "metadata": {},
   "outputs": [
    {
     "name": "stdout",
     "output_type": "stream",
     "text": [
      "https://api.census.gov/data/2018/acs/acs5?get=NAME,B19013_001E&for=county:*&in=state:*\n"
     ]
    }
   ],
   "source": [
    "# Census URL to collect median household income for 2018 for every state and county\n",
    "\n",
    "url = \"https://api.census.gov/data/2018/acs/acs5?get=NAME,B19013_001E&for=county:*&in=state:*\"\n",
    "print(url)"
   ]
  },
  {
   "cell_type": "markdown",
   "metadata": {},
   "source": [
    "## Data Cleaning\n",
    "* Cleaning Data from the US Census and countyhealthrankings for the following states:\n",
    "    * California \n",
    "    * Texas\n",
    "    * Florida"
   ]
  },
  {
   "cell_type": "code",
   "execution_count": 4,
   "metadata": {},
   "outputs": [
    {
     "data": {
      "text/html": [
       "<div>\n",
       "<style scoped>\n",
       "    .dataframe tbody tr th:only-of-type {\n",
       "        vertical-align: middle;\n",
       "    }\n",
       "\n",
       "    .dataframe tbody tr th {\n",
       "        vertical-align: top;\n",
       "    }\n",
       "\n",
       "    .dataframe thead th {\n",
       "        text-align: right;\n",
       "    }\n",
       "</style>\n",
       "<table border=\"1\" class=\"dataframe\">\n",
       "  <thead>\n",
       "    <tr style=\"text-align: right;\">\n",
       "      <th></th>\n",
       "      <th>0</th>\n",
       "      <th>1</th>\n",
       "      <th>2</th>\n",
       "      <th>3</th>\n",
       "    </tr>\n",
       "  </thead>\n",
       "  <tbody>\n",
       "    <tr>\n",
       "      <th>1</th>\n",
       "      <td>Washington County, Mississippi</td>\n",
       "      <td>30834</td>\n",
       "      <td>28</td>\n",
       "      <td>151</td>\n",
       "    </tr>\n",
       "    <tr>\n",
       "      <th>2</th>\n",
       "      <td>Perry County, Mississippi</td>\n",
       "      <td>39007</td>\n",
       "      <td>28</td>\n",
       "      <td>111</td>\n",
       "    </tr>\n",
       "    <tr>\n",
       "      <th>3</th>\n",
       "      <td>Choctaw County, Mississippi</td>\n",
       "      <td>37203</td>\n",
       "      <td>28</td>\n",
       "      <td>019</td>\n",
       "    </tr>\n",
       "    <tr>\n",
       "      <th>4</th>\n",
       "      <td>Itawamba County, Mississippi</td>\n",
       "      <td>40510</td>\n",
       "      <td>28</td>\n",
       "      <td>057</td>\n",
       "    </tr>\n",
       "    <tr>\n",
       "      <th>5</th>\n",
       "      <td>Carroll County, Mississippi</td>\n",
       "      <td>43060</td>\n",
       "      <td>28</td>\n",
       "      <td>015</td>\n",
       "    </tr>\n",
       "  </tbody>\n",
       "</table>\n",
       "</div>"
      ],
      "text/plain": [
       "                                0      1   2    3\n",
       "1  Washington County, Mississippi  30834  28  151\n",
       "2       Perry County, Mississippi  39007  28  111\n",
       "3     Choctaw County, Mississippi  37203  28  019\n",
       "4    Itawamba County, Mississippi  40510  28  057\n",
       "5     Carroll County, Mississippi  43060  28  015"
      ]
     },
     "execution_count": 4,
     "metadata": {},
     "output_type": "execute_result"
    }
   ],
   "source": [
    "# Converting census request into a DataFrame\n",
    "\n",
    "census_data = requests.get(url).json()\n",
    "census_df = pd.DataFrame(census_data).drop([0,])\n",
    "census_df.head()"
   ]
  },
  {
   "cell_type": "code",
   "execution_count": 5,
   "metadata": {},
   "outputs": [
    {
     "data": {
      "text/html": [
       "<div>\n",
       "<style scoped>\n",
       "    .dataframe tbody tr th:only-of-type {\n",
       "        vertical-align: middle;\n",
       "    }\n",
       "\n",
       "    .dataframe tbody tr th {\n",
       "        vertical-align: top;\n",
       "    }\n",
       "\n",
       "    .dataframe thead th {\n",
       "        text-align: right;\n",
       "    }\n",
       "</style>\n",
       "<table border=\"1\" class=\"dataframe\">\n",
       "  <thead>\n",
       "    <tr style=\"text-align: right;\">\n",
       "      <th></th>\n",
       "      <th>County and State</th>\n",
       "      <th>Median Income</th>\n",
       "      <th>State Code</th>\n",
       "      <th>County Code</th>\n",
       "    </tr>\n",
       "  </thead>\n",
       "  <tbody>\n",
       "    <tr>\n",
       "      <th>1</th>\n",
       "      <td>Washington County, Mississippi</td>\n",
       "      <td>30834</td>\n",
       "      <td>28</td>\n",
       "      <td>151</td>\n",
       "    </tr>\n",
       "    <tr>\n",
       "      <th>2</th>\n",
       "      <td>Perry County, Mississippi</td>\n",
       "      <td>39007</td>\n",
       "      <td>28</td>\n",
       "      <td>111</td>\n",
       "    </tr>\n",
       "    <tr>\n",
       "      <th>3</th>\n",
       "      <td>Choctaw County, Mississippi</td>\n",
       "      <td>37203</td>\n",
       "      <td>28</td>\n",
       "      <td>019</td>\n",
       "    </tr>\n",
       "    <tr>\n",
       "      <th>4</th>\n",
       "      <td>Itawamba County, Mississippi</td>\n",
       "      <td>40510</td>\n",
       "      <td>28</td>\n",
       "      <td>057</td>\n",
       "    </tr>\n",
       "    <tr>\n",
       "      <th>5</th>\n",
       "      <td>Carroll County, Mississippi</td>\n",
       "      <td>43060</td>\n",
       "      <td>28</td>\n",
       "      <td>015</td>\n",
       "    </tr>\n",
       "  </tbody>\n",
       "</table>\n",
       "</div>"
      ],
      "text/plain": [
       "                 County and State Median Income State Code County Code\n",
       "1  Washington County, Mississippi         30834         28         151\n",
       "2       Perry County, Mississippi         39007         28         111\n",
       "3     Choctaw County, Mississippi         37203         28         019\n",
       "4    Itawamba County, Mississippi         40510         28         057\n",
       "5     Carroll County, Mississippi         43060         28         015"
      ]
     },
     "execution_count": 5,
     "metadata": {},
     "output_type": "execute_result"
    }
   ],
   "source": [
    "# Renaming column headers from US Census data\n",
    "\n",
    "rename_census_df = census_df.rename(columns = {0:\"County and State\",\n",
    "                             1:\"Median Income\",\n",
    "                             2:\"State Code\",\n",
    "                             3: \"County Code\"})\n",
    "rename_census_df.head()"
   ]
  },
  {
   "cell_type": "code",
   "execution_count": 6,
   "metadata": {},
   "outputs": [
    {
     "data": {
      "text/html": [
       "<div>\n",
       "<style scoped>\n",
       "    .dataframe tbody tr th:only-of-type {\n",
       "        vertical-align: middle;\n",
       "    }\n",
       "\n",
       "    .dataframe tbody tr th {\n",
       "        vertical-align: top;\n",
       "    }\n",
       "\n",
       "    .dataframe thead th {\n",
       "        text-align: right;\n",
       "    }\n",
       "</style>\n",
       "<table border=\"1\" class=\"dataframe\">\n",
       "  <thead>\n",
       "    <tr style=\"text-align: right;\">\n",
       "      <th></th>\n",
       "      <th>County and State</th>\n",
       "      <th>Median Income</th>\n",
       "      <th>State Code</th>\n",
       "      <th>County Code</th>\n",
       "      <th>FIPS</th>\n",
       "    </tr>\n",
       "  </thead>\n",
       "  <tbody>\n",
       "    <tr>\n",
       "      <th>1</th>\n",
       "      <td>Washington County, Mississippi</td>\n",
       "      <td>30834</td>\n",
       "      <td>28</td>\n",
       "      <td>151</td>\n",
       "      <td>28151</td>\n",
       "    </tr>\n",
       "    <tr>\n",
       "      <th>2</th>\n",
       "      <td>Perry County, Mississippi</td>\n",
       "      <td>39007</td>\n",
       "      <td>28</td>\n",
       "      <td>111</td>\n",
       "      <td>28111</td>\n",
       "    </tr>\n",
       "    <tr>\n",
       "      <th>3</th>\n",
       "      <td>Choctaw County, Mississippi</td>\n",
       "      <td>37203</td>\n",
       "      <td>28</td>\n",
       "      <td>019</td>\n",
       "      <td>28019</td>\n",
       "    </tr>\n",
       "    <tr>\n",
       "      <th>4</th>\n",
       "      <td>Itawamba County, Mississippi</td>\n",
       "      <td>40510</td>\n",
       "      <td>28</td>\n",
       "      <td>057</td>\n",
       "      <td>28057</td>\n",
       "    </tr>\n",
       "    <tr>\n",
       "      <th>5</th>\n",
       "      <td>Carroll County, Mississippi</td>\n",
       "      <td>43060</td>\n",
       "      <td>28</td>\n",
       "      <td>015</td>\n",
       "      <td>28015</td>\n",
       "    </tr>\n",
       "  </tbody>\n",
       "</table>\n",
       "</div>"
      ],
      "text/plain": [
       "                 County and State Median Income State Code County Code   FIPS\n",
       "1  Washington County, Mississippi         30834         28         151  28151\n",
       "2       Perry County, Mississippi         39007         28         111  28111\n",
       "3     Choctaw County, Mississippi         37203         28         019  28019\n",
       "4    Itawamba County, Mississippi         40510         28         057  28057\n",
       "5     Carroll County, Mississippi         43060         28         015  28015"
      ]
     },
     "execution_count": 6,
     "metadata": {},
     "output_type": "execute_result"
    }
   ],
   "source": [
    "# Combining State and County Code in order to merge the DataFrame with the Countyhealthrankings\n",
    "# DataFrame\n",
    "\n",
    "rename_census_df[\"FIPS\"] = rename_census_df[\"State Code\"].astype(str) + rename_census_df[\"County Code\"].astype(str)\n",
    "rename_census_df.head()"
   ]
  },
  {
   "cell_type": "code",
   "execution_count": 7,
   "metadata": {},
   "outputs": [
    {
     "data": {
      "text/html": [
       "<div>\n",
       "<style scoped>\n",
       "    .dataframe tbody tr th:only-of-type {\n",
       "        vertical-align: middle;\n",
       "    }\n",
       "\n",
       "    .dataframe tbody tr th {\n",
       "        vertical-align: top;\n",
       "    }\n",
       "\n",
       "    .dataframe thead th {\n",
       "        text-align: right;\n",
       "    }\n",
       "</style>\n",
       "<table border=\"1\" class=\"dataframe\">\n",
       "  <thead>\n",
       "    <tr style=\"text-align: right;\">\n",
       "      <th></th>\n",
       "      <th>County and State</th>\n",
       "      <th>Median Income</th>\n",
       "      <th>State Code</th>\n",
       "      <th>County Code</th>\n",
       "      <th>FIPS</th>\n",
       "      <th>County</th>\n",
       "      <th>State</th>\n",
       "    </tr>\n",
       "  </thead>\n",
       "  <tbody>\n",
       "    <tr>\n",
       "      <th>1</th>\n",
       "      <td>Washington County, Mississippi</td>\n",
       "      <td>30834</td>\n",
       "      <td>28</td>\n",
       "      <td>151</td>\n",
       "      <td>28151</td>\n",
       "      <td>Washington County</td>\n",
       "      <td>Mississippi</td>\n",
       "    </tr>\n",
       "    <tr>\n",
       "      <th>2</th>\n",
       "      <td>Perry County, Mississippi</td>\n",
       "      <td>39007</td>\n",
       "      <td>28</td>\n",
       "      <td>111</td>\n",
       "      <td>28111</td>\n",
       "      <td>Perry County</td>\n",
       "      <td>Mississippi</td>\n",
       "    </tr>\n",
       "    <tr>\n",
       "      <th>3</th>\n",
       "      <td>Choctaw County, Mississippi</td>\n",
       "      <td>37203</td>\n",
       "      <td>28</td>\n",
       "      <td>019</td>\n",
       "      <td>28019</td>\n",
       "      <td>Choctaw County</td>\n",
       "      <td>Mississippi</td>\n",
       "    </tr>\n",
       "    <tr>\n",
       "      <th>4</th>\n",
       "      <td>Itawamba County, Mississippi</td>\n",
       "      <td>40510</td>\n",
       "      <td>28</td>\n",
       "      <td>057</td>\n",
       "      <td>28057</td>\n",
       "      <td>Itawamba County</td>\n",
       "      <td>Mississippi</td>\n",
       "    </tr>\n",
       "    <tr>\n",
       "      <th>5</th>\n",
       "      <td>Carroll County, Mississippi</td>\n",
       "      <td>43060</td>\n",
       "      <td>28</td>\n",
       "      <td>015</td>\n",
       "      <td>28015</td>\n",
       "      <td>Carroll County</td>\n",
       "      <td>Mississippi</td>\n",
       "    </tr>\n",
       "  </tbody>\n",
       "</table>\n",
       "</div>"
      ],
      "text/plain": [
       "                 County and State Median Income State Code County Code   FIPS  \\\n",
       "1  Washington County, Mississippi         30834         28         151  28151   \n",
       "2       Perry County, Mississippi         39007         28         111  28111   \n",
       "3     Choctaw County, Mississippi         37203         28         019  28019   \n",
       "4    Itawamba County, Mississippi         40510         28         057  28057   \n",
       "5     Carroll County, Mississippi         43060         28         015  28015   \n",
       "\n",
       "              County         State  \n",
       "1  Washington County   Mississippi  \n",
       "2       Perry County   Mississippi  \n",
       "3     Choctaw County   Mississippi  \n",
       "4    Itawamba County   Mississippi  \n",
       "5     Carroll County   Mississippi  "
      ]
     },
     "execution_count": 7,
     "metadata": {},
     "output_type": "execute_result"
    }
   ],
   "source": [
    "# Splitting the County and State column and creating two new columns for \"County\" and \"State\"\n",
    "# to filter by California, Ohio and South Carolina\n",
    "\n",
    "county_state = rename_census_df[\"County and State\"].str.split(\",\", n = 0, expand = True) \n",
    "rename_census_df[\"County\"]= county_state[0]\n",
    "rename_census_df[\"State\"] = county_state[1]\n",
    "rename_census_df.head()"
   ]
  },
  {
   "cell_type": "code",
   "execution_count": 8,
   "metadata": {},
   "outputs": [
    {
     "data": {
      "text/html": [
       "<div>\n",
       "<style scoped>\n",
       "    .dataframe tbody tr th:only-of-type {\n",
       "        vertical-align: middle;\n",
       "    }\n",
       "\n",
       "    .dataframe tbody tr th {\n",
       "        vertical-align: top;\n",
       "    }\n",
       "\n",
       "    .dataframe thead th {\n",
       "        text-align: right;\n",
       "    }\n",
       "</style>\n",
       "<table border=\"1\" class=\"dataframe\">\n",
       "  <thead>\n",
       "    <tr style=\"text-align: right;\">\n",
       "      <th></th>\n",
       "      <th>FIPS</th>\n",
       "      <th>% Adults with Obesity</th>\n",
       "      <th>% Physically Inactive</th>\n",
       "      <th>% With Access to Exercise Opportunities</th>\n",
       "      <th>Primary Care Physicians Rate</th>\n",
       "      <th>High School Graduation Rate</th>\n",
       "      <th>% Unemployed</th>\n",
       "    </tr>\n",
       "  </thead>\n",
       "  <tbody>\n",
       "    <tr>\n",
       "      <th>0</th>\n",
       "      <td>33000</td>\n",
       "      <td>28</td>\n",
       "      <td>21</td>\n",
       "      <td>88.0</td>\n",
       "      <td>91.0</td>\n",
       "      <td>89.0</td>\n",
       "      <td>2.5</td>\n",
       "    </tr>\n",
       "    <tr>\n",
       "      <th>1</th>\n",
       "      <td>33001</td>\n",
       "      <td>29</td>\n",
       "      <td>23</td>\n",
       "      <td>87.0</td>\n",
       "      <td>64.0</td>\n",
       "      <td>88.0</td>\n",
       "      <td>2.5</td>\n",
       "    </tr>\n",
       "    <tr>\n",
       "      <th>2</th>\n",
       "      <td>33003</td>\n",
       "      <td>27</td>\n",
       "      <td>22</td>\n",
       "      <td>81.0</td>\n",
       "      <td>92.0</td>\n",
       "      <td>94.0</td>\n",
       "      <td>2.5</td>\n",
       "    </tr>\n",
       "    <tr>\n",
       "      <th>3</th>\n",
       "      <td>33005</td>\n",
       "      <td>30</td>\n",
       "      <td>19</td>\n",
       "      <td>75.0</td>\n",
       "      <td>68.0</td>\n",
       "      <td>89.0</td>\n",
       "      <td>2.5</td>\n",
       "    </tr>\n",
       "    <tr>\n",
       "      <th>4</th>\n",
       "      <td>33007</td>\n",
       "      <td>34</td>\n",
       "      <td>26</td>\n",
       "      <td>74.0</td>\n",
       "      <td>114.0</td>\n",
       "      <td>92.0</td>\n",
       "      <td>3.2</td>\n",
       "    </tr>\n",
       "  </tbody>\n",
       "</table>\n",
       "</div>"
      ],
      "text/plain": [
       "    FIPS  % Adults with Obesity  % Physically Inactive  \\\n",
       "0  33000                     28                     21   \n",
       "1  33001                     29                     23   \n",
       "2  33003                     27                     22   \n",
       "3  33005                     30                     19   \n",
       "4  33007                     34                     26   \n",
       "\n",
       "   % With Access to Exercise Opportunities  Primary Care Physicians Rate  \\\n",
       "0                                     88.0                          91.0   \n",
       "1                                     87.0                          64.0   \n",
       "2                                     81.0                          92.0   \n",
       "3                                     75.0                          68.0   \n",
       "4                                     74.0                         114.0   \n",
       "\n",
       "   High School Graduation Rate  % Unemployed  \n",
       "0                         89.0           2.5  \n",
       "1                         88.0           2.5  \n",
       "2                         94.0           2.5  \n",
       "3                         89.0           2.5  \n",
       "4                         92.0           3.2  "
      ]
     },
     "execution_count": 8,
     "metadata": {},
     "output_type": "execute_result"
    }
   ],
   "source": [
    "# Create a copy of the states_df to format FIPS column\n",
    "\n",
    "states_health_df_copy = states_health_df.copy()\n",
    "reformat_fips = states_health_df_copy['FIPS'].apply('{:0>5}'.format)\n",
    "fips_df = pd.DataFrame(reformat_fips)\n",
    "states_health_df_copy[\"FIPS\"] = fips_df\n",
    "states_health_df_copy.head()\n"
   ]
  },
  {
   "cell_type": "code",
   "execution_count": 9,
   "metadata": {},
   "outputs": [
    {
     "data": {
      "text/html": [
       "<div>\n",
       "<style scoped>\n",
       "    .dataframe tbody tr th:only-of-type {\n",
       "        vertical-align: middle;\n",
       "    }\n",
       "\n",
       "    .dataframe tbody tr th {\n",
       "        vertical-align: top;\n",
       "    }\n",
       "\n",
       "    .dataframe thead th {\n",
       "        text-align: right;\n",
       "    }\n",
       "</style>\n",
       "<table border=\"1\" class=\"dataframe\">\n",
       "  <thead>\n",
       "    <tr style=\"text-align: right;\">\n",
       "      <th></th>\n",
       "      <th>FIPS</th>\n",
       "      <th>% Adults with Obesity</th>\n",
       "      <th>% Physically Inactive</th>\n",
       "      <th>% With Access to Exercise Opportunities</th>\n",
       "      <th>Primary Care Physicians Rate</th>\n",
       "      <th>High School Graduation Rate</th>\n",
       "      <th>% Unemployed</th>\n",
       "      <th>County and State</th>\n",
       "      <th>Median Income</th>\n",
       "      <th>State</th>\n",
       "      <th>County</th>\n",
       "    </tr>\n",
       "  </thead>\n",
       "  <tbody>\n",
       "    <tr>\n",
       "      <th>0</th>\n",
       "      <td>33000</td>\n",
       "      <td>28</td>\n",
       "      <td>21</td>\n",
       "      <td>88.0</td>\n",
       "      <td>91.0</td>\n",
       "      <td>89.0</td>\n",
       "      <td>2.5</td>\n",
       "      <td>NaN</td>\n",
       "      <td>NaN</td>\n",
       "      <td>NaN</td>\n",
       "      <td>NaN</td>\n",
       "    </tr>\n",
       "    <tr>\n",
       "      <th>1</th>\n",
       "      <td>33001</td>\n",
       "      <td>29</td>\n",
       "      <td>23</td>\n",
       "      <td>87.0</td>\n",
       "      <td>64.0</td>\n",
       "      <td>88.0</td>\n",
       "      <td>2.5</td>\n",
       "      <td>Belknap County, New Hampshire</td>\n",
       "      <td>68368</td>\n",
       "      <td>New Hampshire</td>\n",
       "      <td>Belknap County</td>\n",
       "    </tr>\n",
       "    <tr>\n",
       "      <th>2</th>\n",
       "      <td>33003</td>\n",
       "      <td>27</td>\n",
       "      <td>22</td>\n",
       "      <td>81.0</td>\n",
       "      <td>92.0</td>\n",
       "      <td>94.0</td>\n",
       "      <td>2.5</td>\n",
       "      <td>Carroll County, New Hampshire</td>\n",
       "      <td>61116</td>\n",
       "      <td>New Hampshire</td>\n",
       "      <td>Carroll County</td>\n",
       "    </tr>\n",
       "    <tr>\n",
       "      <th>3</th>\n",
       "      <td>33005</td>\n",
       "      <td>30</td>\n",
       "      <td>19</td>\n",
       "      <td>75.0</td>\n",
       "      <td>68.0</td>\n",
       "      <td>89.0</td>\n",
       "      <td>2.5</td>\n",
       "      <td>Cheshire County, New Hampshire</td>\n",
       "      <td>63057</td>\n",
       "      <td>New Hampshire</td>\n",
       "      <td>Cheshire County</td>\n",
       "    </tr>\n",
       "    <tr>\n",
       "      <th>4</th>\n",
       "      <td>33007</td>\n",
       "      <td>34</td>\n",
       "      <td>26</td>\n",
       "      <td>74.0</td>\n",
       "      <td>114.0</td>\n",
       "      <td>92.0</td>\n",
       "      <td>3.2</td>\n",
       "      <td>Coos County, New Hampshire</td>\n",
       "      <td>45696</td>\n",
       "      <td>New Hampshire</td>\n",
       "      <td>Coos County</td>\n",
       "    </tr>\n",
       "  </tbody>\n",
       "</table>\n",
       "</div>"
      ],
      "text/plain": [
       "    FIPS  % Adults with Obesity  % Physically Inactive  \\\n",
       "0  33000                     28                     21   \n",
       "1  33001                     29                     23   \n",
       "2  33003                     27                     22   \n",
       "3  33005                     30                     19   \n",
       "4  33007                     34                     26   \n",
       "\n",
       "   % With Access to Exercise Opportunities  Primary Care Physicians Rate  \\\n",
       "0                                     88.0                          91.0   \n",
       "1                                     87.0                          64.0   \n",
       "2                                     81.0                          92.0   \n",
       "3                                     75.0                          68.0   \n",
       "4                                     74.0                         114.0   \n",
       "\n",
       "   High School Graduation Rate  % Unemployed                County and State  \\\n",
       "0                         89.0           2.5                             NaN   \n",
       "1                         88.0           2.5   Belknap County, New Hampshire   \n",
       "2                         94.0           2.5   Carroll County, New Hampshire   \n",
       "3                         89.0           2.5  Cheshire County, New Hampshire   \n",
       "4                         92.0           3.2      Coos County, New Hampshire   \n",
       "\n",
       "  Median Income           State           County  \n",
       "0           NaN             NaN              NaN  \n",
       "1         68368   New Hampshire   Belknap County  \n",
       "2         61116   New Hampshire   Carroll County  \n",
       "3         63057   New Hampshire  Cheshire County  \n",
       "4         45696   New Hampshire      Coos County  "
      ]
     },
     "execution_count": 9,
     "metadata": {},
     "output_type": "execute_result"
    }
   ],
   "source": [
    "# Merge US Census data frame 'states_health_df_copy' with County Health Rankings Data 'indiciators_data' \n",
    "\n",
    "indicators_data = rename_census_df[[\"County and State\",\"Median Income\",\"FIPS\",\"State\",\"County\"]].sort_values(by=['FIPS'])\n",
    "all_states_merge = pd.merge(states_health_df_copy,indicators_data,on=\"FIPS\",how=\"left\")\n",
    "all_states_merge.head()"
   ]
  },
  {
   "cell_type": "code",
   "execution_count": 10,
   "metadata": {},
   "outputs": [],
   "source": [
    "# Export dataframe to CSV\n",
    "\n",
    "clean_all_states = all_states_merge.dropna()\n",
    "clean_all_states.to_csv('./final_dataframe.csv', index=False)"
   ]
  },
  {
   "cell_type": "markdown",
   "metadata": {},
   "source": [
    "# Correlation and Regression Analysis"
   ]
  },
  {
   "cell_type": "markdown",
   "metadata": {},
   "source": [
    "### Florida - Obesity Rate vs. % Physically Inactive"
   ]
  },
  {
   "cell_type": "code",
   "execution_count": 54,
   "metadata": {},
   "outputs": [
    {
     "data": {
      "image/png": "[encoded data removed]",
      "text/plain": [
       "<Figure size 432x288 with 1 Axes>"
      ]
     },
     "metadata": {
      "needs_background": "light"
     },
     "output_type": "display_data"
    },
    {
     "name": "stdout",
     "output_type": "stream",
     "text": [
      "The r-squared value is: 0.7628220794645032\n"
     ]
    }
   ],
   "source": [
    "fl_analysis = clean_all_states.loc[clean_all_states[\"State\"] == \" Florida\" ]\n",
    "fl_obesity_rate = fl_analysis[\"% Adults with Obesity\"]\n",
    "fl_physical = fl_analysis[\"% Physically Inactive\"]\n",
    "\n",
    "(slope, intercept, rvalue, pvalue, stderr) = linregress(fl_obesity_rate, fl_physical)\n",
    "regress_values = fl_obesity_rate * slope + intercept\n",
    "line_eq = \"y = \" + str(round(slope,2)) + \"x + \" + str(round(intercept,2))\n",
    "plt.scatter(fl_obesity_rate,fl_physical,color=\"c\",edgecolors=\"black\")\n",
    "plt.plot(fl_obesity_rate,regress_values,\"r-\")\n",
    "plt.annotate(line_eq,(30,20),fontsize=15,color=\"red\")\n",
    "plt.xlabel(\"Obesity Rate\")\n",
    "plt.ylabel(\"% Physically Inactive\")\n",
    "plt.title(\"Obesity vs. % Physically Inactive\")\n",
    "plt.savefig(\"output_diagrams/florida_obesity_physical_activity.png\")\n",
    "plt.show()\n",
    "\n",
    "(print(f\"The r-squared value is: {rvalue}\"))"
   ]
  },
  {
   "cell_type": "markdown",
   "metadata": {},
   "source": [
    "### Florida - Obesity Rate vs. % With Access to Exercise Opportunities"
   ]
  },
  {
   "cell_type": "code",
   "execution_count": 65,
   "metadata": {},
   "outputs": [
    {
     "data": {
      "image/png": "[encoded data removed]",
      "text/plain": [
       "<Figure size 432x288 with 1 Axes>"
      ]
     },
     "metadata": {
      "needs_background": "light"
     },
     "output_type": "display_data"
    },
    {
     "name": "stdout",
     "output_type": "stream",
     "text": [
      "The r-squared value is: -0.6827460730267716\n"
     ]
    }
   ],
   "source": [
    "fl_exercise = fl_analysis[\"% With Access to Exercise Opportunities\"]\n",
    "\n",
    "(slope, intercept, rvalue, pvalue, stderr) = linregress(fl_obesity_rate, fl_exercise)\n",
    "regress_values = fl_obesity_rate * slope + intercept\n",
    "line_eq = \"y = \" + str(round(slope,2)) + \"x + \" + str(round(intercept,2))\n",
    "plt.scatter(fl_obesity_rate,fl_exercise,color=\"c\",edgecolors=\"black\")\n",
    "plt.plot(fl_obesity_rate,regress_values,\"r-\")\n",
    "plt.annotate(line_eq,(20,20),fontsize=15,color=\"red\")\n",
    "plt.xlabel(\"Obesity Rate\")\n",
    "plt.ylabel(\"% With Access to Exercise Opportunities\")\n",
    "plt.title(\"Obesity vs. % With Access to Exercise Opportunities\")\n",
    "plt.savefig(\"output_diagrams/florida_obesity_exercise_opportunities.png\")\n",
    "plt.show()\n",
    "\n",
    "(print(f\"The r-squared value is: {rvalue}\"))"
   ]
  },
  {
   "cell_type": "markdown",
   "metadata": {},
   "source": [
    "### Florida - Obesity Rate vs. Primary Care Physicians Rate"
   ]
  },
  {
   "cell_type": "code",
   "execution_count": 76,
   "metadata": {},
   "outputs": [
    {
     "data": {
      "image/png": "[encoded data removed]",
      "text/plain": [
       "<Figure size 432x288 with 1 Axes>"
      ]
     },
     "metadata": {
      "needs_background": "light"
     },
     "output_type": "display_data"
    },
    {
     "name": "stdout",
     "output_type": "stream",
     "text": [
      "The r-squared value is: -0.7060608869434568\n"
     ]
    }
   ],
   "source": [
    "fl_physician = fl_analysis[\"Primary Care Physicians Rate\"]\n",
    "\n",
    "(slope, intercept, rvalue, pvalue, stderr) = linregress(fl_obesity_rate, fl_physician)\n",
    "regress_values = fl_obesity_rate * slope + intercept\n",
    "line_eq = \"y = \" + str(round(slope,2)) + \"x + \" + str(round(intercept,2))\n",
    "plt.scatter(fl_obesity_rate,fl_physician,color=\"c\",edgecolors=\"black\")\n",
    "plt.plot(fl_obesity_rate,regress_values,\"r-\")\n",
    "plt.annotate(line_eq,(30,120),fontsize=15,color=\"red\")\n",
    "plt.xlabel(\"Obesity Rate\")\n",
    "plt.ylabel(\"Primary Care Physicians Rate\")\n",
    "plt.title(\"Obesity vs. Primary Care Physicians Rate\")\n",
    "plt.savefig(\"output_diagrams/florida_obesity_primary_care.png\")\n",
    "plt.show()\n",
    "\n",
    "(print(f\"The r-squared value is: {rvalue}\"))"
   ]
  },
  {
   "cell_type": "markdown",
   "metadata": {},
   "source": [
    "### Florida - Obesity Rate vs. High School Graduation Rate"
   ]
  },
  {
   "cell_type": "code",
   "execution_count": 55,
   "metadata": {},
   "outputs": [
    {
     "data": {
      "image/png": "[encoded data removed]",
      "text/plain": [
       "<Figure size 432x288 with 1 Axes>"
      ]
     },
     "metadata": {
      "needs_background": "light"
     },
     "output_type": "display_data"
    },
    {
     "name": "stdout",
     "output_type": "stream",
     "text": [
      "The r-squared value is: -0.39257277154130893\n"
     ]
    }
   ],
   "source": [
    "fl_graduation = fl_analysis[\"High School Graduation Rate\"]\n",
    "\n",
    "(slope, intercept, rvalue, pvalue, stderr) = linregress(fl_obesity_rate, fl_graduation)\n",
    "regress_values = fl_obesity_rate * slope + intercept\n",
    "line_eq = \"y = \" + str(round(slope,2)) + \"x + \" + str(round(intercept,2))\n",
    "plt.scatter(fl_obesity_rate,fl_graduation,color=\"c\",edgecolors=\"black\")\n",
    "plt.plot(fl_obesity_rate,regress_values,\"r-\")\n",
    "plt.annotate(line_eq,(20,60),fontsize=15,color=\"red\")\n",
    "plt.xlabel(\"Obesity Rate\")\n",
    "plt.ylabel(\"High School Graduation Rate\")\n",
    "plt.title(\"Obesity vs. High School Graduation Rate\")\n",
    "plt.savefig(\"output_diagrams/florida_obesity_hs_graduation.png\")\n",
    "plt.show()\n",
    "\n",
    "(print(f\"The r-squared value is: {rvalue}\"))"
   ]
  },
  {
   "cell_type": "markdown",
   "metadata": {},
   "source": [
    "### Florida - Obesity Rate vs. % Unemployed"
   ]
  },
  {
   "cell_type": "code",
   "execution_count": 56,
   "metadata": {},
   "outputs": [
    {
     "data": {
      "image/png": "[encoded data removed]",
      "text/plain": [
       "<Figure size 432x288 with 1 Axes>"
      ]
     },
     "metadata": {
      "needs_background": "light"
     },
     "output_type": "display_data"
    },
    {
     "name": "stdout",
     "output_type": "stream",
     "text": [
      "The r-squared value is: 0.35124253540383915\n"
     ]
    }
   ],
   "source": [
    "fl_unemployed = fl_analysis[\"% Unemployed\"]\n",
    "\n",
    "(slope, intercept, rvalue, pvalue, stderr) = linregress(fl_obesity_rate, fl_unemployed)\n",
    "regress_values = fl_obesity_rate * slope + intercept\n",
    "line_eq = \"y = \" + str(round(slope,2)) + \"x + \" + str(round(intercept,2))\n",
    "plt.scatter(fl_obesity_rate,fl_unemployed,color=\"c\",edgecolors=\"black\")\n",
    "plt.plot(fl_obesity_rate,regress_values,\"r-\")\n",
    "plt.annotate(line_eq,(20,5.5),fontsize=15,color=\"red\")\n",
    "plt.xlabel(\"Obesity Rate\")\n",
    "plt.ylabel(\"% Unemployed\")\n",
    "plt.title(\"Obesity vs. % Unemployed\")\n",
    "plt.savefig(\"output_diagrams/florida_obesity_unemployed.png\")\n",
    "plt.show()\n",
    "\n",
    "(print(f\"The r-squared value is: {rvalue}\"))"
   ]
  },
  {
   "cell_type": "markdown",
   "metadata": {},
   "source": [
    "### Florida - Obesity Rate vs. Median Household Income"
   ]
  },
  {
   "cell_type": "code",
   "execution_count": 57,
   "metadata": {},
   "outputs": [
    {
     "data": {
      "image/png": "[encoded data removed]",
      "text/plain": [
       "<Figure size 432x288 with 1 Axes>"
      ]
     },
     "metadata": {
      "needs_background": "light"
     },
     "output_type": "display_data"
    },
    {
     "name": "stdout",
     "output_type": "stream",
     "text": [
      "The r-squared value is: -0.6267710288163144\n"
     ]
    }
   ],
   "source": [
    "fl_median_income = fl_analysis[\"Median Income\"].astype(int)\n",
    "\n",
    "(slope, intercept, rvalue, pvalue, stderr) = linregress(fl_obesity_rate, fl_median_income)\n",
    "regress_values = fl_obesity_rate * slope + intercept\n",
    "line_eq = \"y = \" + str(round(slope,2)) + \"x + \" + str(round(intercept,2))\n",
    "plt.scatter(fl_obesity_rate,fl_median_income,color=\"c\",edgecolors=\"black\")\n",
    "plt.plot(fl_obesity_rate,regress_values,\"r-\")\n",
    "plt.annotate(line_eq,(26,90000),fontsize=15,color=\"red\")\n",
    "plt.xlabel(\"Obesity Rate\")\n",
    "plt.ylabel(\"Median Income\")\n",
    "plt.title(\"Obesity vs. Median Income\")\n",
    "plt.savefig(\"output_diagrams/florida_obesity_median_income.png\")\n",
    "plt.show()\n",
    "\n",
    "(print(f\"The r-squared value is: {rvalue}\"))"
   ]
  },
  {
   "cell_type": "markdown",
   "metadata": {},
   "source": [
    "### Texas - Obesity Rate vs. % Physically Inactive"
   ]
  },
  {
   "cell_type": "code",
   "execution_count": 15,
   "metadata": {},
   "outputs": [],
   "source": [
    "texas_df = clean_all_states.loc[clean_all_states[\"State\"] == \" Texas\" ]"
   ]
  },
  {
   "cell_type": "code",
   "execution_count": 58,
   "metadata": {},
   "outputs": [
    {
     "data": {
      "image/png": "[encoded data removed]",
      "text/plain": [
       "<Figure size 432x288 with 1 Axes>"
      ]
     },
     "metadata": {
      "needs_background": "light"
     },
     "output_type": "display_data"
    },
    {
     "name": "stdout",
     "output_type": "stream",
     "text": [
      "The r-squared value is: 0.4492396454422658\n"
     ]
    }
   ],
   "source": [
    "texas_obesity_rate = texas_df[\"% Adults with Obesity\"]\n",
    "texas_physical = texas_df[\"% Physically Inactive\"]\n",
    "\n",
    "(slope, intercept, rvalue, pvalue, stderr) = linregress(texas_obesity_rate, texas_physical)\n",
    "regress_values = texas_obesity_rate * slope + intercept\n",
    "line_eq = \"y = \" + str(round(slope,2)) + \"x + \" + str(round(intercept,2))\n",
    "plt.scatter(texas_obesity_rate,texas_physical,color=\"c\",edgecolors=\"black\")\n",
    "plt.plot(texas_obesity_rate,regress_values,\"r-\")\n",
    "plt.annotate(line_eq,(35,20),fontsize=15,color=\"red\")\n",
    "plt.xlabel(\"Obesity Rate\")\n",
    "plt.ylabel(\"% Physically Inactive\")\n",
    "plt.title(\"Obesity vs. % Physically Inactive\")\n",
    "plt.savefig(\"output_diagrams/texas_obesity_physical_activity.png\")\n",
    "plt.show()\n",
    "\n",
    "(print(f\"The r-squared value is: {rvalue}\"))"
   ]
  },
  {
   "cell_type": "markdown",
   "metadata": {},
   "source": [
    "### Texas - Obesity Rate vs. % With Access to Exercise Opportunities"
   ]
  },
  {
   "cell_type": "code",
   "execution_count": 59,
   "metadata": {},
   "outputs": [
    {
     "data": {
      "image/png": "[encoded data removed]",
      "text/plain": [
       "<Figure size 432x288 with 1 Axes>"
      ]
     },
     "metadata": {
      "needs_background": "light"
     },
     "output_type": "display_data"
    },
    {
     "name": "stdout",
     "output_type": "stream",
     "text": [
      "The r-squared value is: 0.026004282262443435\n"
     ]
    }
   ],
   "source": [
    "texas_exercise = texas_df[\"% With Access to Exercise Opportunities\"]\n",
    "\n",
    "(slope, intercept, rvalue, pvalue, stderr) = linregress(texas_obesity_rate, texas_exercise)\n",
    "regress_values = texas_obesity_rate * slope + intercept\n",
    "line_eq = \"y = \" + str(round(slope,2)) + \"x + \" + str(round(intercept,2))\n",
    "plt.scatter(texas_obesity_rate,texas_exercise,color=\"c\",edgecolors=\"black\")\n",
    "plt.plot(texas_obesity_rate,regress_values,\"r-\")\n",
    "plt.annotate(line_eq,(30,20),fontsize=15,color=\"red\")\n",
    "plt.xlabel(\"Obesity Rate\")\n",
    "plt.ylabel(\"% With Access to Exercise Opportunities\")\n",
    "plt.title(\"Obesity vs. % With Access to Exercise Opportunities\")\n",
    "plt.savefig(\"output_diagrams/texas_obesity_exercise_opportunities.png\")\n",
    "plt.show()\n",
    "\n",
    "(print(f\"The r-squared value is: {rvalue}\"))"
   ]
  },
  {
   "cell_type": "markdown",
   "metadata": {},
   "source": [
    "### Texas - Obesity Rate vs. Primary Care Physicians Rate"
   ]
  },
  {
   "cell_type": "code",
   "execution_count": 66,
   "metadata": {},
   "outputs": [
    {
     "data": {
      "image/png": "[encoded data removed]",
      "text/plain": [
       "<Figure size 432x288 with 1 Axes>"
      ]
     },
     "metadata": {
      "needs_background": "light"
     },
     "output_type": "display_data"
    },
    {
     "name": "stdout",
     "output_type": "stream",
     "text": [
      "The r-squared value is: -0.038814626067330125\n"
     ]
    }
   ],
   "source": [
    "texas_physician = texas_df[\"Primary Care Physicians Rate\"]\n",
    "\n",
    "(slope, intercept, rvalue, pvalue, stderr) = linregress(texas_obesity_rate, texas_physician)\n",
    "regress_values = texas_obesity_rate * slope + intercept\n",
    "line_eq = \"y = \" + str(round(slope,2)) + \"x + \" + str(round(intercept,2))\n",
    "plt.scatter(texas_obesity_rate,texas_physician,color=\"c\",edgecolors=\"black\")\n",
    "plt.plot(texas_obesity_rate,regress_values,\"r-\")\n",
    "plt.annotate(line_eq,(30,120),fontsize=15,color=\"red\")\n",
    "plt.xlabel(\"Obesity Rate\")\n",
    "plt.ylabel(\"Primary Care Physicians Rate\")\n",
    "plt.title(\"Obesity vs. Primary Care Physicians Rate\")\n",
    "plt.savefig(\"output_diagrams/texas_obesity_primary_care.png\")\n",
    "plt.show()\n",
    "\n",
    "(print(f\"The r-squared value is: {rvalue}\"))"
   ]
  },
  {
   "cell_type": "markdown",
   "metadata": {},
   "source": [
    "### Texas - Obesity Rate vs. High School Graduation Rate"
   ]
  },
  {
   "cell_type": "code",
   "execution_count": 67,
   "metadata": {},
   "outputs": [
    {
     "data": {
      "image/png": "[encoded data removed]",
      "text/plain": [
       "<Figure size 432x288 with 1 Axes>"
      ]
     },
     "metadata": {
      "needs_background": "light"
     },
     "output_type": "display_data"
    },
    {
     "name": "stdout",
     "output_type": "stream",
     "text": [
      "The r-squared value is: -0.061271310454999346\n"
     ]
    }
   ],
   "source": [
    "texas_education = texas_df[\"High School Graduation Rate\"]\n",
    "\n",
    "(slope, intercept, rvalue, pvalue, stderr) = linregress(texas_obesity_rate, texas_education)\n",
    "regress_values = texas_obesity_rate * slope + intercept\n",
    "line_eq = \"y = \" + str(round(slope,2)) + \"x + \" + str(round(intercept,2))\n",
    "plt.scatter(texas_obesity_rate,texas_education,color=\"c\",edgecolors=\"black\")\n",
    "plt.plot(texas_obesity_rate,regress_values,\"r-\")\n",
    "plt.annotate(line_eq,(30,70),fontsize=15,color=\"red\")\n",
    "plt.xlabel(\"Obesity Rate\")\n",
    "plt.ylabel(\"High School Graduation Rate\")\n",
    "plt.title(\"Obesity vs. High School Graduation Rate\")\n",
    "plt.savefig(\"output_diagrams/texas_obesity_hs_graduation.png\")\n",
    "plt.show()\n",
    "\n",
    "(print(f\"The r-squared value is: {rvalue}\"))"
   ]
  },
  {
   "cell_type": "markdown",
   "metadata": {},
   "source": [
    "### Texas - Obesity Rate vs. % Unemployed"
   ]
  },
  {
   "cell_type": "code",
   "execution_count": 68,
   "metadata": {},
   "outputs": [
    {
     "data": {
      "image/png": "[encoded data removed]",
      "text/plain": [
       "<Figure size 432x288 with 1 Axes>"
      ]
     },
     "metadata": {
      "needs_background": "light"
     },
     "output_type": "display_data"
    },
    {
     "name": "stdout",
     "output_type": "stream",
     "text": [
      "The r-squared value is: 0.28119749582234616\n"
     ]
    }
   ],
   "source": [
    "texas_unemployed = texas_df[\"% Unemployed\"]\n",
    "\n",
    "(slope, intercept, rvalue, pvalue, stderr) = linregress(texas_obesity_rate, texas_unemployed)\n",
    "regress_values = texas_obesity_rate * slope + intercept\n",
    "line_eq = \"y = \" + str(round(slope,2)) + \"x + \" + str(round(intercept,2))\n",
    "plt.scatter(texas_obesity_rate,texas_unemployed,color=\"c\",edgecolors=\"black\")\n",
    "plt.plot(texas_obesity_rate,regress_values,\"r-\")\n",
    "plt.annotate(line_eq,(30,8),fontsize=15,color=\"red\")\n",
    "plt.xlabel(\"Obesity Rate\")\n",
    "plt.ylabel(\"% Unemployed\")\n",
    "plt.title(\"Obesity vs. % Unemployed\")\n",
    "plt.savefig(\"output_diagrams/texas_obesity_unemployed.png\")\n",
    "plt.show()\n",
    "\n",
    "(print(f\"The r-squared value is: {rvalue}\"))"
   ]
  },
  {
   "cell_type": "markdown",
   "metadata": {},
   "source": [
    "### Texas - Obesity Rate vs. Median Income"
   ]
  },
  {
   "cell_type": "code",
   "execution_count": 69,
   "metadata": {},
   "outputs": [
    {
     "data": {
      "image/png": "[encoded data removed]",
      "text/plain": [
       "<Figure size 432x288 with 1 Axes>"
      ]
     },
     "metadata": {
      "needs_background": "light"
     },
     "output_type": "display_data"
    },
    {
     "name": "stdout",
     "output_type": "stream",
     "text": [
      "The r-squared value is: -0.0858233192832307\n"
     ]
    }
   ],
   "source": [
    "texas_median_income = texas_df[\"Median Income\"].astype(int)\n",
    "\n",
    "(slope, intercept, rvalue, pvalue, stderr) = linregress(texas_obesity_rate, texas_median_income)\n",
    "regress_values = texas_obesity_rate * slope + intercept\n",
    "line_eq = \"y = \" + str(round(slope,2)) + \"x + \" + str(round(intercept,2))\n",
    "plt.scatter(texas_obesity_rate,texas_median_income,color=\"c\",edgecolors=\"black\")\n",
    "plt.plot(texas_obesity_rate,regress_values,\"r-\")\n",
    "plt.annotate(line_eq,(30,80000),fontsize=15,color=\"red\")\n",
    "plt.xlabel(\"Obesity Rate\")\n",
    "plt.ylabel(\"Median Income\")\n",
    "plt.title(\"Obesity vs. Median Income\")\n",
    "plt.savefig(\"output_diagrams/texas_obesity_median_income.png\")\n",
    "plt.show()\n",
    "\n",
    "(print(f\"The r-squared value is: {rvalue}\"))"
   ]
  },
  {
   "cell_type": "markdown",
   "metadata": {},
   "source": [
    "### California - Obesity Rate vs. % Physically Inactive"
   ]
  },
  {
   "cell_type": "code",
   "execution_count": 22,
   "metadata": {},
   "outputs": [],
   "source": [
    "california_df = clean_all_states.loc[clean_all_states[\"State\"] == \" California\" ].dropna()"
   ]
  },
  {
   "cell_type": "code",
   "execution_count": 70,
   "metadata": {},
   "outputs": [
    {
     "data": {
      "image/png": "[encoded data removed]",
      "text/plain": [
       "<Figure size 432x288 with 1 Axes>"
      ]
     },
     "metadata": {
      "needs_background": "light"
     },
     "output_type": "display_data"
    },
    {
     "name": "stdout",
     "output_type": "stream",
     "text": [
      "The r-squared value is: 0.800005240411173\n"
     ]
    }
   ],
   "source": [
    "california_obesity_rate = california_df[\"% Adults with Obesity\"]\n",
    "california_physical = california_df[\"% Physically Inactive\"]\n",
    "\n",
    "(slope, intercept, rvalue, pvalue, stderr) = linregress(california_obesity_rate, california_physical)\n",
    "regress_values = california_obesity_rate * slope + intercept\n",
    "line_eq = \"y = \" + str(round(slope,2)) + \"x + \" + str(round(intercept,2))\n",
    "plt.scatter(california_obesity_rate,california_physical,color=\"c\",edgecolors=\"black\")\n",
    "plt.plot(california_obesity_rate,regress_values,\"r-\")\n",
    "plt.annotate(line_eq,(30,15),fontsize=15,color=\"red\")\n",
    "plt.xlabel(\"Obesity Rate\")\n",
    "plt.ylabel(\"% Physically Inactive\")\n",
    "plt.title(\"Obesity vs. % Physically Inactive\")\n",
    "plt.savefig(\"output_diagrams/california_obesity_physical_activity.png\")\n",
    "plt.show()\n",
    "\n",
    "(print(f\"The r-squared value is: {rvalue}\"))"
   ]
  },
  {
   "cell_type": "markdown",
   "metadata": {},
   "source": [
    "### California - Obesity Rate vs. % With Access to Exercise Opportunities"
   ]
  },
  {
   "cell_type": "code",
   "execution_count": 71,
   "metadata": {},
   "outputs": [
    {
     "data": {
      "image/png": "[encoded data removed]",
      "text/plain": [
       "<Figure size 432x288 with 1 Axes>"
      ]
     },
     "metadata": {
      "needs_background": "light"
     },
     "output_type": "display_data"
    },
    {
     "name": "stdout",
     "output_type": "stream",
     "text": [
      "The r-squared value is: -0.5129692276214599\n"
     ]
    }
   ],
   "source": [
    "california_exercise = california_df[\"% With Access to Exercise Opportunities\"]\n",
    "\n",
    "(slope, intercept, rvalue, pvalue, stderr) = linregress(california_obesity_rate, california_exercise)\n",
    "regress_values = california_obesity_rate * slope + intercept\n",
    "line_eq = \"y = \" + str(round(slope,2)) + \"x + \" + str(round(intercept,2))\n",
    "plt.scatter(california_obesity_rate,california_exercise,color=\"c\",edgecolors=\"black\")\n",
    "plt.plot(california_obesity_rate,regress_values,\"r-\")\n",
    "plt.annotate(line_eq,(20,50),fontsize=15,color=\"red\")\n",
    "plt.xlabel(\"Obesity Rate\")\n",
    "plt.ylabel(\"% With Access to Exercise Opportunities\")\n",
    "plt.title(\"Obesity vs. % With Access to Exercise Opportunities\")\n",
    "plt.savefig(\"output_diagrams/california_obesity_exercise.png\")\n",
    "plt.show()\n",
    "\n",
    "(print(f\"The r-squared value is: {rvalue}\"))"
   ]
  },
  {
   "cell_type": "markdown",
   "metadata": {},
   "source": [
    "### California - Obesity Rate vs. % Primary Care Physicians Rate"
   ]
  },
  {
   "cell_type": "code",
   "execution_count": 72,
   "metadata": {},
   "outputs": [
    {
     "data": {
      "image/png": "[encoded data removed]",
      "text/plain": [
       "<Figure size 432x288 with 1 Axes>"
      ]
     },
     "metadata": {
      "needs_background": "light"
     },
     "output_type": "display_data"
    },
    {
     "name": "stdout",
     "output_type": "stream",
     "text": [
      "The r-squared value is: -0.6885447168207459\n"
     ]
    }
   ],
   "source": [
    "california_physician = california_df[\"Primary Care Physicians Rate\"]\n",
    "\n",
    "(slope, intercept, rvalue, pvalue, stderr) = linregress(california_obesity_rate, california_physician)\n",
    "regress_values = texas_obesity_rate * slope + intercept\n",
    "line_eq = \"y = \" + str(round(slope,2)) + \"x + \" + str(round(intercept,2))\n",
    "plt.scatter(california_obesity_rate,california_physician,color=\"c\",edgecolors=\"black\")\n",
    "plt.plot(texas_obesity_rate,regress_values,\"r-\")\n",
    "plt.annotate(line_eq,(30,120),fontsize=15,color=\"red\")\n",
    "plt.xlabel(\"Obesity Rate\")\n",
    "plt.ylabel(\"Primary Care Physicians Rate\")\n",
    "plt.title(\"Obesity vs. Primary Care Physicians Rate\")\n",
    "plt.savefig(\"output_diagrams/california_obesity_primary_care.png\")\n",
    "plt.show()\n",
    "\n",
    "(print(f\"The r-squared value is: {rvalue}\"))"
   ]
  },
  {
   "cell_type": "markdown",
   "metadata": {},
   "source": [
    "### California - Obesity Rate vs. % High School Graduation"
   ]
  },
  {
   "cell_type": "code",
   "execution_count": 73,
   "metadata": {},
   "outputs": [
    {
     "data": {
      "image/png": "[encoded data removed]",
      "text/plain": [
       "<Figure size 432x288 with 1 Axes>"
      ]
     },
     "metadata": {
      "needs_background": "light"
     },
     "output_type": "display_data"
    },
    {
     "name": "stdout",
     "output_type": "stream",
     "text": [
      "The r-squared value is: 0.044062706452217854\n"
     ]
    }
   ],
   "source": [
    "california_education = california_df[\"High School Graduation Rate\"].dropna()\n",
    "\n",
    "(slope, intercept, rvalue, pvalue, stderr) = linregress(california_obesity_rate, california_education)\n",
    "regress_values = california_obesity_rate * slope + intercept\n",
    "line_eq = \"y = \" + str(round(slope,2)) + \"x + \" + str(round(intercept,2))\n",
    "plt.scatter(california_obesity_rate,california_education,color=\"c\",edgecolors=\"black\")\n",
    "plt.plot(california_obesity_rate,regress_values,\"r-\")\n",
    "plt.annotate(line_eq,(30,70),fontsize=15,color=\"red\")\n",
    "plt.xlabel(\"Obesity Rate\")\n",
    "plt.ylabel(\"High School Graduation Rate\")\n",
    "plt.title(\"Obesity vs. High School Graduation Rate\")\n",
    "plt.savefig(\"output_diagrams/california_obesity_hs_graduation.png\")\n",
    "plt.show()\n",
    "\n",
    "(print(f\"The r-squared value is: {rvalue}\"))"
   ]
  },
  {
   "cell_type": "markdown",
   "metadata": {},
   "source": [
    "### California - Obesity Rate vs. % Unemployed"
   ]
  },
  {
   "cell_type": "code",
   "execution_count": 74,
   "metadata": {},
   "outputs": [
    {
     "data": {
      "image/png": "[encoded data removed]",
      "text/plain": [
       "<Figure size 432x288 with 1 Axes>"
      ]
     },
     "metadata": {
      "needs_background": "light"
     },
     "output_type": "display_data"
    },
    {
     "name": "stdout",
     "output_type": "stream",
     "text": [
      "The r-squared value is: 0.6228089181233846\n"
     ]
    }
   ],
   "source": [
    "california_unemployed = california_df[\"% Unemployed\"]\n",
    "\n",
    "(slope, intercept, rvalue, pvalue, stderr) = linregress(california_obesity_rate, california_unemployed)\n",
    "regress_values = california_obesity_rate * slope + intercept\n",
    "line_eq = \"y = \" + str(round(slope,2)) + \"x + \" + str(round(intercept,2))\n",
    "plt.scatter(california_obesity_rate,california_unemployed,color=\"c\",edgecolors=\"black\")\n",
    "plt.plot(california_obesity_rate,regress_values,\"r-\")\n",
    "plt.annotate(line_eq,(30,12),fontsize=15,color=\"red\")\n",
    "plt.xlabel(\"Obesity Rate\")\n",
    "plt.ylabel(\"% Unemployed\")\n",
    "plt.title(\"Obesity vs. % Unemployed\")\n",
    "plt.savefig(\"output_diagrams/california_obesity_unemployed.png\")\n",
    "plt.show()\n",
    "\n",
    "(print(f\"The r-squared value is: {rvalue}\"))"
   ]
  },
  {
   "cell_type": "markdown",
   "metadata": {},
   "source": [
    "### California - Obesity Rate vs. Median Income"
   ]
  },
  {
   "cell_type": "code",
   "execution_count": 75,
   "metadata": {},
   "outputs": [
    {
     "data": {
      "image/png": "[encoded data removed]",
      "text/plain": [
       "<Figure size 432x288 with 1 Axes>"
      ]
     },
     "metadata": {
      "needs_background": "light"
     },
     "output_type": "display_data"
    },
    {
     "name": "stdout",
     "output_type": "stream",
     "text": [
      "The r-squared value is: -0.6711330059279156\n"
     ]
    }
   ],
   "source": [
    "california_median_income = california_df[\"Median Income\"].astype(int)\n",
    "\n",
    "(slope, intercept, rvalue, pvalue, stderr) = linregress(california_obesity_rate, california_median_income)\n",
    "regress_values = california_obesity_rate * slope + intercept\n",
    "line_eq = \"y = \" + str(round(slope,2)) + \"x + \" + str(round(intercept,2))\n",
    "plt.scatter(california_obesity_rate,california_median_income,color=\"c\",edgecolors=\"black\")\n",
    "plt.plot(california_obesity_rate,regress_values,\"r-\")\n",
    "plt.annotate(line_eq,(25,90000),fontsize=15,color=\"red\")\n",
    "plt.xlabel(\"Obesity Rate\")\n",
    "plt.ylabel(\"Median Income\")\n",
    "plt.title(\"Obesity vs. Median Income\")\n",
    "plt.savefig(\"output_diagrams/california_obesity_median_income.png\")\n",
    "plt.show()\n",
    "\n",
    "(print(f\"The r-squared value is: {rvalue}\"))"
   ]
  },
  {
   "cell_type": "markdown",
   "metadata": {},
   "source": [
    "### Top 100 Counties with Highest Obesity Rate Analysis"
   ]
  },
  {
   "cell_type": "markdown",
   "metadata": {},
   "source": [
    "### Heatmap for Obesity Rate"
   ]
  },
  {
   "cell_type": "code",
   "execution_count": 29,
   "metadata": {},
   "outputs": [],
   "source": [
    "# Geocodes collected from Socrata\n",
    "geocode = pd.read_csv(\"./Geocodes_USA_with_Counties.csv\")\n",
    "\n",
    "# Creating a dataframe for the geocodes\n",
    "lat_lng = pd.DataFrame(geocode)"
   ]
  },
  {
   "cell_type": "code",
   "execution_count": 30,
   "metadata": {},
   "outputs": [
    {
     "data": {
      "text/html": [
       "<div>\n",
       "<style scoped>\n",
       "    .dataframe tbody tr th:only-of-type {\n",
       "        vertical-align: middle;\n",
       "    }\n",
       "\n",
       "    .dataframe tbody tr th {\n",
       "        vertical-align: top;\n",
       "    }\n",
       "\n",
       "    .dataframe thead th {\n",
       "        text-align: right;\n",
       "    }\n",
       "</style>\n",
       "<table border=\"1\" class=\"dataframe\">\n",
       "  <thead>\n",
       "    <tr style=\"text-align: right;\">\n",
       "      <th></th>\n",
       "      <th>state</th>\n",
       "      <th>latitude</th>\n",
       "      <th>longitude</th>\n",
       "      <th>County</th>\n",
       "    </tr>\n",
       "  </thead>\n",
       "  <tbody>\n",
       "    <tr>\n",
       "      <th>0</th>\n",
       "      <td>NY</td>\n",
       "      <td>40.81</td>\n",
       "      <td>-73.04</td>\n",
       "      <td>Suffolk</td>\n",
       "    </tr>\n",
       "    <tr>\n",
       "      <th>1</th>\n",
       "      <td>NY</td>\n",
       "      <td>40.81</td>\n",
       "      <td>-73.04</td>\n",
       "      <td>Suffolk</td>\n",
       "    </tr>\n",
       "    <tr>\n",
       "      <th>2</th>\n",
       "      <td>PR</td>\n",
       "      <td>18.16</td>\n",
       "      <td>-66.72</td>\n",
       "      <td>Adjuntas</td>\n",
       "    </tr>\n",
       "    <tr>\n",
       "      <th>3</th>\n",
       "      <td>PR</td>\n",
       "      <td>18.38</td>\n",
       "      <td>-67.18</td>\n",
       "      <td>NaN</td>\n",
       "    </tr>\n",
       "    <tr>\n",
       "      <th>4</th>\n",
       "      <td>PR</td>\n",
       "      <td>18.43</td>\n",
       "      <td>-67.15</td>\n",
       "      <td>Aguadilla</td>\n",
       "    </tr>\n",
       "  </tbody>\n",
       "</table>\n",
       "</div>"
      ],
      "text/plain": [
       "  state  latitude  longitude     County\n",
       "0    NY     40.81     -73.04    Suffolk\n",
       "1    NY     40.81     -73.04    Suffolk\n",
       "2    PR     18.16     -66.72   Adjuntas\n",
       "3    PR     18.38     -67.18        NaN\n",
       "4    PR     18.43     -67.15  Aguadilla"
      ]
     },
     "execution_count": 30,
     "metadata": {},
     "output_type": "execute_result"
    }
   ],
   "source": [
    "# Selecting only needed columns from the lat_lng dataframe 'state','latitude','longitude','county'\n",
    "all_states_lat_lng = lat_lng.iloc[:,[2,3,4,5]]\n",
    "\n",
    "# Renameing 'county' to 'County' in order to merge the dataframe with another dataframe\n",
    "rename_lat_lng = all_states_lat_lng.rename(columns = {\"county\":\"County\"})\n",
    "rename_lat_lng.head()"
   ]
  },
  {
   "cell_type": "code",
   "execution_count": 31,
   "metadata": {},
   "outputs": [
    {
     "data": {
      "text/plain": [
       "0         NaN\n",
       "1     Belknap\n",
       "2     Carroll\n",
       "3    Cheshire\n",
       "4        Coos\n",
       "Name: County, dtype: object"
      ]
     },
     "execution_count": 31,
     "metadata": {},
     "output_type": "execute_result"
    }
   ],
   "source": [
    "# Removing the word county from the County Health Rankings dataframe 'all_states_merge' in order to merge with geocodes from Socrata\n",
    "\n",
    "county_series = all_states_merge[\"County\"]\n",
    "strip_county = county_series.str.rstrip('County')\n",
    "county_name = strip_county.str.rstrip(' ')\n",
    "county_name.head()"
   ]
  },
  {
   "cell_type": "code",
   "execution_count": 32,
   "metadata": {},
   "outputs": [
    {
     "data": {
      "text/html": [
       "<div>\n",
       "<style scoped>\n",
       "    .dataframe tbody tr th:only-of-type {\n",
       "        vertical-align: middle;\n",
       "    }\n",
       "\n",
       "    .dataframe tbody tr th {\n",
       "        vertical-align: top;\n",
       "    }\n",
       "\n",
       "    .dataframe thead th {\n",
       "        text-align: right;\n",
       "    }\n",
       "</style>\n",
       "<table border=\"1\" class=\"dataframe\">\n",
       "  <thead>\n",
       "    <tr style=\"text-align: right;\">\n",
       "      <th></th>\n",
       "      <th>FIPS</th>\n",
       "      <th>% Adults with Obesity</th>\n",
       "      <th>% Physically Inactive</th>\n",
       "      <th>% With Access to Exercise Opportunities</th>\n",
       "      <th>Primary Care Physicians Rate</th>\n",
       "      <th>High School Graduation Rate</th>\n",
       "      <th>% Unemployed</th>\n",
       "      <th>County and State</th>\n",
       "      <th>Median Income</th>\n",
       "      <th>State</th>\n",
       "      <th>County</th>\n",
       "    </tr>\n",
       "  </thead>\n",
       "  <tbody>\n",
       "    <tr>\n",
       "      <th>1</th>\n",
       "      <td>33001</td>\n",
       "      <td>29</td>\n",
       "      <td>23</td>\n",
       "      <td>87.0</td>\n",
       "      <td>64.0</td>\n",
       "      <td>88.0</td>\n",
       "      <td>2.5</td>\n",
       "      <td>Belknap County, New Hampshire</td>\n",
       "      <td>68368</td>\n",
       "      <td>New Hampshire</td>\n",
       "      <td>Belknap</td>\n",
       "    </tr>\n",
       "    <tr>\n",
       "      <th>2</th>\n",
       "      <td>33003</td>\n",
       "      <td>27</td>\n",
       "      <td>22</td>\n",
       "      <td>81.0</td>\n",
       "      <td>92.0</td>\n",
       "      <td>94.0</td>\n",
       "      <td>2.5</td>\n",
       "      <td>Carroll County, New Hampshire</td>\n",
       "      <td>61116</td>\n",
       "      <td>New Hampshire</td>\n",
       "      <td>Carroll</td>\n",
       "    </tr>\n",
       "    <tr>\n",
       "      <th>3</th>\n",
       "      <td>33005</td>\n",
       "      <td>30</td>\n",
       "      <td>19</td>\n",
       "      <td>75.0</td>\n",
       "      <td>68.0</td>\n",
       "      <td>89.0</td>\n",
       "      <td>2.5</td>\n",
       "      <td>Cheshire County, New Hampshire</td>\n",
       "      <td>63057</td>\n",
       "      <td>New Hampshire</td>\n",
       "      <td>Cheshire</td>\n",
       "    </tr>\n",
       "    <tr>\n",
       "      <th>4</th>\n",
       "      <td>33007</td>\n",
       "      <td>34</td>\n",
       "      <td>26</td>\n",
       "      <td>74.0</td>\n",
       "      <td>114.0</td>\n",
       "      <td>92.0</td>\n",
       "      <td>3.2</td>\n",
       "      <td>Coos County, New Hampshire</td>\n",
       "      <td>45696</td>\n",
       "      <td>New Hampshire</td>\n",
       "      <td>Coos</td>\n",
       "    </tr>\n",
       "    <tr>\n",
       "      <th>5</th>\n",
       "      <td>33009</td>\n",
       "      <td>24</td>\n",
       "      <td>19</td>\n",
       "      <td>90.0</td>\n",
       "      <td>197.0</td>\n",
       "      <td>95.0</td>\n",
       "      <td>2.1</td>\n",
       "      <td>Grafton County, New Hampshire</td>\n",
       "      <td>63153</td>\n",
       "      <td>New Hampshire</td>\n",
       "      <td>Grafton</td>\n",
       "    </tr>\n",
       "  </tbody>\n",
       "</table>\n",
       "</div>"
      ],
      "text/plain": [
       "    FIPS  % Adults with Obesity  % Physically Inactive  \\\n",
       "1  33001                     29                     23   \n",
       "2  33003                     27                     22   \n",
       "3  33005                     30                     19   \n",
       "4  33007                     34                     26   \n",
       "5  33009                     24                     19   \n",
       "\n",
       "   % With Access to Exercise Opportunities  Primary Care Physicians Rate  \\\n",
       "1                                     87.0                          64.0   \n",
       "2                                     81.0                          92.0   \n",
       "3                                     75.0                          68.0   \n",
       "4                                     74.0                         114.0   \n",
       "5                                     90.0                         197.0   \n",
       "\n",
       "   High School Graduation Rate  % Unemployed                County and State  \\\n",
       "1                         88.0           2.5   Belknap County, New Hampshire   \n",
       "2                         94.0           2.5   Carroll County, New Hampshire   \n",
       "3                         89.0           2.5  Cheshire County, New Hampshire   \n",
       "4                         92.0           3.2      Coos County, New Hampshire   \n",
       "5                         95.0           2.1   Grafton County, New Hampshire   \n",
       "\n",
       "  Median Income           State    County  \n",
       "1         68368   New Hampshire   Belknap  \n",
       "2         61116   New Hampshire   Carroll  \n",
       "3         63057   New Hampshire  Cheshire  \n",
       "4         45696   New Hampshire      Coos  \n",
       "5         63153   New Hampshire   Grafton  "
      ]
     },
     "execution_count": 32,
     "metadata": {},
     "output_type": "execute_result"
    }
   ],
   "source": [
    "# Creating a copy of the dataframe in order to replace the \"County\" column with only the name of the County\n",
    "clean_all_states_copy = clean_all_states.copy()\n",
    "clean_all_states_copy[\"County\"] = county_name\n",
    "clean_all_states_copy.head()"
   ]
  },
  {
   "cell_type": "code",
   "execution_count": 33,
   "metadata": {},
   "outputs": [
    {
     "data": {
      "text/html": [
       "<div>\n",
       "<style scoped>\n",
       "    .dataframe tbody tr th:only-of-type {\n",
       "        vertical-align: middle;\n",
       "    }\n",
       "\n",
       "    .dataframe tbody tr th {\n",
       "        vertical-align: top;\n",
       "    }\n",
       "\n",
       "    .dataframe thead th {\n",
       "        text-align: right;\n",
       "    }\n",
       "</style>\n",
       "<table border=\"1\" class=\"dataframe\">\n",
       "  <thead>\n",
       "    <tr style=\"text-align: right;\">\n",
       "      <th></th>\n",
       "      <th>FIPS</th>\n",
       "      <th>% Adults with Obesity</th>\n",
       "      <th>% Physically Inactive</th>\n",
       "      <th>% With Access to Exercise Opportunities</th>\n",
       "      <th>Primary Care Physicians Rate</th>\n",
       "      <th>High School Graduation Rate</th>\n",
       "      <th>% Unemployed</th>\n",
       "      <th>County and State</th>\n",
       "      <th>Median Income</th>\n",
       "      <th>State</th>\n",
       "      <th>County</th>\n",
       "      <th>state</th>\n",
       "      <th>latitude</th>\n",
       "      <th>longitude</th>\n",
       "    </tr>\n",
       "  </thead>\n",
       "  <tbody>\n",
       "    <tr>\n",
       "      <th>0</th>\n",
       "      <td>33001</td>\n",
       "      <td>29</td>\n",
       "      <td>23</td>\n",
       "      <td>87.0</td>\n",
       "      <td>64.0</td>\n",
       "      <td>88.0</td>\n",
       "      <td>2.5</td>\n",
       "      <td>Belknap County, New Hampshire</td>\n",
       "      <td>68368</td>\n",
       "      <td>New Hampshire</td>\n",
       "      <td>Belknap</td>\n",
       "      <td>NH</td>\n",
       "      <td>43.33</td>\n",
       "      <td>-71.29</td>\n",
       "    </tr>\n",
       "    <tr>\n",
       "      <th>1</th>\n",
       "      <td>33001</td>\n",
       "      <td>29</td>\n",
       "      <td>23</td>\n",
       "      <td>87.0</td>\n",
       "      <td>64.0</td>\n",
       "      <td>88.0</td>\n",
       "      <td>2.5</td>\n",
       "      <td>Belknap County, New Hampshire</td>\n",
       "      <td>68368</td>\n",
       "      <td>New Hampshire</td>\n",
       "      <td>Belknap</td>\n",
       "      <td>NH</td>\n",
       "      <td>43.44</td>\n",
       "      <td>-71.47</td>\n",
       "    </tr>\n",
       "    <tr>\n",
       "      <th>2</th>\n",
       "      <td>33001</td>\n",
       "      <td>29</td>\n",
       "      <td>23</td>\n",
       "      <td>87.0</td>\n",
       "      <td>64.0</td>\n",
       "      <td>88.0</td>\n",
       "      <td>2.5</td>\n",
       "      <td>Belknap County, New Hampshire</td>\n",
       "      <td>68368</td>\n",
       "      <td>New Hampshire</td>\n",
       "      <td>Belknap</td>\n",
       "      <td>NH</td>\n",
       "      <td>43.33</td>\n",
       "      <td>-71.23</td>\n",
       "    </tr>\n",
       "  </tbody>\n",
       "</table>\n",
       "</div>"
      ],
      "text/plain": [
       "    FIPS  % Adults with Obesity  % Physically Inactive  \\\n",
       "0  33001                     29                     23   \n",
       "1  33001                     29                     23   \n",
       "2  33001                     29                     23   \n",
       "\n",
       "   % With Access to Exercise Opportunities  Primary Care Physicians Rate  \\\n",
       "0                                     87.0                          64.0   \n",
       "1                                     87.0                          64.0   \n",
       "2                                     87.0                          64.0   \n",
       "\n",
       "   High School Graduation Rate  % Unemployed               County and State  \\\n",
       "0                         88.0           2.5  Belknap County, New Hampshire   \n",
       "1                         88.0           2.5  Belknap County, New Hampshire   \n",
       "2                         88.0           2.5  Belknap County, New Hampshire   \n",
       "\n",
       "  Median Income           State   County state  latitude  longitude  \n",
       "0         68368   New Hampshire  Belknap    NH     43.33     -71.29  \n",
       "1         68368   New Hampshire  Belknap    NH     43.44     -71.47  \n",
       "2         68368   New Hampshire  Belknap    NH     43.33     -71.23  "
      ]
     },
     "execution_count": 33,
     "metadata": {},
     "output_type": "execute_result"
    }
   ],
   "source": [
    "# Merging all data from the US Census, County Health Rankings and Socrata\n",
    "\n",
    "data_merge = pd.merge(clean_all_states_copy,rename_lat_lng,on=\"County\",how=\"left\")\n",
    "data_merge.head(3)"
   ]
  },
  {
   "cell_type": "code",
   "execution_count": 34,
   "metadata": {},
   "outputs": [
    {
     "data": {
      "text/html": [
       "<div>\n",
       "<style scoped>\n",
       "    .dataframe tbody tr th:only-of-type {\n",
       "        vertical-align: middle;\n",
       "    }\n",
       "\n",
       "    .dataframe tbody tr th {\n",
       "        vertical-align: top;\n",
       "    }\n",
       "\n",
       "    .dataframe thead th {\n",
       "        text-align: right;\n",
       "    }\n",
       "</style>\n",
       "<table border=\"1\" class=\"dataframe\">\n",
       "  <thead>\n",
       "    <tr style=\"text-align: right;\">\n",
       "      <th></th>\n",
       "      <th>FIPS</th>\n",
       "      <th>% Adults with Obesity</th>\n",
       "      <th>% Physically Inactive</th>\n",
       "      <th>% With Access to Exercise Opportunities</th>\n",
       "      <th>Primary Care Physicians Rate</th>\n",
       "      <th>High School Graduation Rate</th>\n",
       "      <th>% Unemployed</th>\n",
       "      <th>County and State</th>\n",
       "      <th>Median Income</th>\n",
       "      <th>State</th>\n",
       "      <th>County</th>\n",
       "      <th>state</th>\n",
       "      <th>latitude</th>\n",
       "      <th>longitude</th>\n",
       "    </tr>\n",
       "  </thead>\n",
       "  <tbody>\n",
       "    <tr>\n",
       "      <th>0</th>\n",
       "      <td>33001</td>\n",
       "      <td>29</td>\n",
       "      <td>23</td>\n",
       "      <td>87.0</td>\n",
       "      <td>64.0</td>\n",
       "      <td>88.0</td>\n",
       "      <td>2.5</td>\n",
       "      <td>Belknap County, New Hampshire</td>\n",
       "      <td>68368</td>\n",
       "      <td>New Hampshire</td>\n",
       "      <td>Belknap</td>\n",
       "      <td>NH</td>\n",
       "      <td>43.33</td>\n",
       "      <td>-71.29</td>\n",
       "    </tr>\n",
       "    <tr>\n",
       "      <th>19</th>\n",
       "      <td>33003</td>\n",
       "      <td>27</td>\n",
       "      <td>22</td>\n",
       "      <td>81.0</td>\n",
       "      <td>92.0</td>\n",
       "      <td>94.0</td>\n",
       "      <td>2.5</td>\n",
       "      <td>Carroll County, New Hampshire</td>\n",
       "      <td>61116</td>\n",
       "      <td>New Hampshire</td>\n",
       "      <td>Carroll</td>\n",
       "      <td>NH</td>\n",
       "      <td>43.83</td>\n",
       "      <td>-71.47</td>\n",
       "    </tr>\n",
       "  </tbody>\n",
       "</table>\n",
       "</div>"
      ],
      "text/plain": [
       "     FIPS  % Adults with Obesity  % Physically Inactive  \\\n",
       "0   33001                     29                     23   \n",
       "19  33003                     27                     22   \n",
       "\n",
       "    % With Access to Exercise Opportunities  Primary Care Physicians Rate  \\\n",
       "0                                      87.0                          64.0   \n",
       "19                                     81.0                          92.0   \n",
       "\n",
       "    High School Graduation Rate  % Unemployed               County and State  \\\n",
       "0                          88.0           2.5  Belknap County, New Hampshire   \n",
       "19                         94.0           2.5  Carroll County, New Hampshire   \n",
       "\n",
       "   Median Income           State   County state  latitude  longitude  \n",
       "0          68368   New Hampshire  Belknap    NH     43.33     -71.29  \n",
       "19         61116   New Hampshire  Carroll    NH     43.83     -71.47  "
      ]
     },
     "execution_count": 34,
     "metadata": {},
     "output_type": "execute_result"
    }
   ],
   "source": [
    "# Dropping duplicates from the dataset\n",
    "\n",
    "clean_dataset = data_merge.dropna()\n",
    "drop_duplicates = clean_dataset.drop_duplicates(subset=\"County\")\n",
    "drop_duplicates.head(2)"
   ]
  },
  {
   "cell_type": "code",
   "execution_count": 35,
   "metadata": {},
   "outputs": [
    {
     "data": {
      "application/vnd.jupyter.widget-view+json": {
       "model_id": "3be667f732574607bd6ab99a9bed3115",
       "version_major": 2,
       "version_minor": 0
      },
      "text/plain": [
       "Figure(layout=FigureLayout(height='420px'))"
      ]
     },
     "metadata": {},
     "output_type": "display_data"
    }
   ],
   "source": [
    "figure = gmaps.figure()\n",
    "\n",
    "\n",
    "lat_lng = drop_duplicates[[\"latitude\",\"longitude\"]]\n",
    "obesity = drop_duplicates[\"% Adults with Obesity\"]\n",
    "\n",
    "# Create heat layer\n",
    "heat_layer = gmaps.heatmap_layer(lat_lng, weights=obesity, \n",
    "                                 dissipating=False, max_intensity=100,\n",
    "                                 point_radius=.8)\n",
    "\n",
    "\n",
    "# Add layer\n",
    "figure.add_layer(heat_layer)\n",
    "\n",
    "# Display figure\n",
    "figure"
   ]
  },
  {
   "cell_type": "markdown",
   "metadata": {},
   "source": [
    "### Top 100 Counties with the highest obesity rate analysis"
   ]
  },
  {
   "cell_type": "code",
   "execution_count": 99,
   "metadata": {},
   "outputs": [
    {
     "data": {
      "text/html": [
       "<div>\n",
       "<style scoped>\n",
       "    .dataframe tbody tr th:only-of-type {\n",
       "        vertical-align: middle;\n",
       "    }\n",
       "\n",
       "    .dataframe tbody tr th {\n",
       "        vertical-align: top;\n",
       "    }\n",
       "\n",
       "    .dataframe thead th {\n",
       "        text-align: right;\n",
       "    }\n",
       "</style>\n",
       "<table border=\"1\" class=\"dataframe\">\n",
       "  <thead>\n",
       "    <tr style=\"text-align: right;\">\n",
       "      <th></th>\n",
       "      <th>FIPS</th>\n",
       "      <th>% Adults with Obesity</th>\n",
       "      <th>% Physically Inactive</th>\n",
       "      <th>% With Access to Exercise Opportunities</th>\n",
       "      <th>Primary Care Physicians Rate</th>\n",
       "      <th>High School Graduation Rate</th>\n",
       "      <th>% Unemployed</th>\n",
       "      <th>County and State</th>\n",
       "      <th>Median Income</th>\n",
       "      <th>State</th>\n",
       "      <th>County</th>\n",
       "      <th>state</th>\n",
       "      <th>latitude</th>\n",
       "      <th>longitude</th>\n",
       "    </tr>\n",
       "  </thead>\n",
       "  <tbody>\n",
       "    <tr>\n",
       "      <th>0</th>\n",
       "      <td>13301</td>\n",
       "      <td>58</td>\n",
       "      <td>28</td>\n",
       "      <td>8.0</td>\n",
       "      <td>57.0</td>\n",
       "      <td>88.0</td>\n",
       "      <td>5.0</td>\n",
       "      <td>Warren County, Georgia</td>\n",
       "      <td>34730</td>\n",
       "      <td>Georgia</td>\n",
       "      <td>Warren</td>\n",
       "      <td>NJ</td>\n",
       "      <td>40.91</td>\n",
       "      <td>-74.83</td>\n",
       "    </tr>\n",
       "    <tr>\n",
       "      <th>143</th>\n",
       "      <td>28063</td>\n",
       "      <td>54</td>\n",
       "      <td>35</td>\n",
       "      <td>61.0</td>\n",
       "      <td>55.0</td>\n",
       "      <td>88.0</td>\n",
       "      <td>13.3</td>\n",
       "      <td>Jefferson County, Mississippi</td>\n",
       "      <td>20188</td>\n",
       "      <td>Mississippi</td>\n",
       "      <td>Jefferson</td>\n",
       "      <td>NY</td>\n",
       "      <td>43.97</td>\n",
       "      <td>-75.91</td>\n",
       "    </tr>\n",
       "  </tbody>\n",
       "</table>\n",
       "</div>"
      ],
      "text/plain": [
       "      FIPS  % Adults with Obesity  % Physically Inactive  \\\n",
       "0    13301                     58                     28   \n",
       "143  28063                     54                     35   \n",
       "\n",
       "     % With Access to Exercise Opportunities  Primary Care Physicians Rate  \\\n",
       "0                                        8.0                          57.0   \n",
       "143                                     61.0                          55.0   \n",
       "\n",
       "     High School Graduation Rate  % Unemployed               County and State  \\\n",
       "0                           88.0           5.0         Warren County, Georgia   \n",
       "143                         88.0          13.3  Jefferson County, Mississippi   \n",
       "\n",
       "    Median Income         State     County state  latitude  longitude  \n",
       "0           34730       Georgia     Warren    NJ     40.91     -74.83  \n",
       "143         20188   Mississippi  Jefferson    NY     43.97     -75.91  "
      ]
     },
     "execution_count": 99,
     "metadata": {},
     "output_type": "execute_result"
    }
   ],
   "source": [
    "sort_obesity = clean_all_states.sort_values(by=[\"% Adults with Obesity\"],ascending=False).reset_index()\n",
    "drop_index = sort_obesity.drop(['index'], axis=1)\n",
    "top_100_obesity = drop_index[:100]\n",
    "top_100_series = top_100_obesity[\"County\"]\n",
    "top_100_strip_county = top_100_series.str.rstrip('County')\n",
    "top_100_county_name = top_100_strip_county.str.rstrip(' ')\n",
    "top_100_obesity_copy = top_100_obesity.copy()\n",
    "top_100_obesity_copy[\"County\"] = top_100_county_name\n",
    "top_100_obesity_merge = pd.merge(top_100_obesity_copy,rename_lat_lng,on=\"County\",how=\"left\")\n",
    "clean_100 = top_100_obesity_merge.dropna()\n",
    "drop_100_duplicates = clean_100.drop_duplicates(subset=\"County\")\n",
    "drop_100_duplicates.head(2)"
   ]
  },
  {
   "cell_type": "code",
   "execution_count": 100,
   "metadata": {},
   "outputs": [
    {
     "data": {
      "application/vnd.jupyter.widget-view+json": {
       "model_id": "bccf0e364d9e4b91970d05221e6b1dd0",
       "version_major": 2,
       "version_minor": 0
      },
      "text/plain": [
       "Figure(layout=FigureLayout(height='420px'))"
      ]
     },
     "metadata": {},
     "output_type": "display_data"
    }
   ],
   "source": [
    "figure = gmaps.figure()\n",
    "\n",
    "\n",
    "lat_lng_100 = drop_100_duplicates[[\"latitude\",\"longitude\"]]\n",
    "obesity_100 = drop_100_duplicates[\"% Adults with Obesity\"]\n",
    "\n",
    "# Create heat layer\n",
    "heat_layer = gmaps.heatmap_layer(lat_lng_100, weights=obesity_100, \n",
    "                                 dissipating=False, max_intensity=100,\n",
    "                                 point_radius=.8)\n",
    "\n",
    "\n",
    "# Add layer\n",
    "figure.add_layer(heat_layer)\n",
    "\n",
    "# Display figure\n",
    "figure"
   ]
  },
  {
   "cell_type": "code",
   "execution_count": 101,
   "metadata": {},
   "outputs": [
    {
     "data": {
      "text/html": [
       "<div>\n",
       "<style scoped>\n",
       "    .dataframe tbody tr th:only-of-type {\n",
       "        vertical-align: middle;\n",
       "    }\n",
       "\n",
       "    .dataframe tbody tr th {\n",
       "        vertical-align: top;\n",
       "    }\n",
       "\n",
       "    .dataframe thead th {\n",
       "        text-align: right;\n",
       "    }\n",
       "</style>\n",
       "<table border=\"1\" class=\"dataframe\">\n",
       "  <thead>\n",
       "    <tr style=\"text-align: right;\">\n",
       "      <th></th>\n",
       "      <th>% Adults with Obesity</th>\n",
       "      <th>% Physically Inactive</th>\n",
       "      <th>% With Access to Exercise Opportunities</th>\n",
       "      <th>Primary Care Physicians Rate</th>\n",
       "      <th>High School Graduation Rate</th>\n",
       "      <th>% Unemployed</th>\n",
       "    </tr>\n",
       "  </thead>\n",
       "  <tbody>\n",
       "    <tr>\n",
       "      <th>count</th>\n",
       "      <td>100.00000</td>\n",
       "      <td>100.000000</td>\n",
       "      <td>100.000000</td>\n",
       "      <td>100.00000</td>\n",
       "      <td>100.000000</td>\n",
       "      <td>100.000000</td>\n",
       "    </tr>\n",
       "    <tr>\n",
       "      <th>mean</th>\n",
       "      <td>44.94000</td>\n",
       "      <td>33.480000</td>\n",
       "      <td>46.510000</td>\n",
       "      <td>36.41000</td>\n",
       "      <td>86.020000</td>\n",
       "      <td>5.307000</td>\n",
       "    </tr>\n",
       "    <tr>\n",
       "      <th>std</th>\n",
       "      <td>2.82421</td>\n",
       "      <td>6.015938</td>\n",
       "      <td>22.472652</td>\n",
       "      <td>19.75358</td>\n",
       "      <td>7.441326</td>\n",
       "      <td>1.796532</td>\n",
       "    </tr>\n",
       "    <tr>\n",
       "      <th>min</th>\n",
       "      <td>42.00000</td>\n",
       "      <td>19.000000</td>\n",
       "      <td>2.000000</td>\n",
       "      <td>8.00000</td>\n",
       "      <td>53.000000</td>\n",
       "      <td>2.100000</td>\n",
       "    </tr>\n",
       "    <tr>\n",
       "      <th>25%</th>\n",
       "      <td>43.00000</td>\n",
       "      <td>30.000000</td>\n",
       "      <td>31.000000</td>\n",
       "      <td>21.75000</td>\n",
       "      <td>82.000000</td>\n",
       "      <td>4.175000</td>\n",
       "    </tr>\n",
       "    <tr>\n",
       "      <th>50%</th>\n",
       "      <td>44.00000</td>\n",
       "      <td>33.000000</td>\n",
       "      <td>48.500000</td>\n",
       "      <td>35.00000</td>\n",
       "      <td>86.000000</td>\n",
       "      <td>5.100000</td>\n",
       "    </tr>\n",
       "    <tr>\n",
       "      <th>75%</th>\n",
       "      <td>46.00000</td>\n",
       "      <td>37.250000</td>\n",
       "      <td>64.000000</td>\n",
       "      <td>45.25000</td>\n",
       "      <td>91.000000</td>\n",
       "      <td>5.825000</td>\n",
       "    </tr>\n",
       "    <tr>\n",
       "      <th>max</th>\n",
       "      <td>58.00000</td>\n",
       "      <td>50.000000</td>\n",
       "      <td>100.000000</td>\n",
       "      <td>122.00000</td>\n",
       "      <td>99.000000</td>\n",
       "      <td>13.300000</td>\n",
       "    </tr>\n",
       "  </tbody>\n",
       "</table>\n",
       "</div>"
      ],
      "text/plain": [
       "       % Adults with Obesity  % Physically Inactive  \\\n",
       "count              100.00000             100.000000   \n",
       "mean                44.94000              33.480000   \n",
       "std                  2.82421               6.015938   \n",
       "min                 42.00000              19.000000   \n",
       "25%                 43.00000              30.000000   \n",
       "50%                 44.00000              33.000000   \n",
       "75%                 46.00000              37.250000   \n",
       "max                 58.00000              50.000000   \n",
       "\n",
       "       % With Access to Exercise Opportunities  Primary Care Physicians Rate  \\\n",
       "count                               100.000000                     100.00000   \n",
       "mean                                 46.510000                      36.41000   \n",
       "std                                  22.472652                      19.75358   \n",
       "min                                   2.000000                       8.00000   \n",
       "25%                                  31.000000                      21.75000   \n",
       "50%                                  48.500000                      35.00000   \n",
       "75%                                  64.000000                      45.25000   \n",
       "max                                 100.000000                     122.00000   \n",
       "\n",
       "       High School Graduation Rate  % Unemployed  \n",
       "count                   100.000000    100.000000  \n",
       "mean                     86.020000      5.307000  \n",
       "std                       7.441326      1.796532  \n",
       "min                      53.000000      2.100000  \n",
       "25%                      82.000000      4.175000  \n",
       "50%                      86.000000      5.100000  \n",
       "75%                      91.000000      5.825000  \n",
       "max                      99.000000     13.300000  "
      ]
     },
     "execution_count": 101,
     "metadata": {},
     "output_type": "execute_result"
    }
   ],
   "source": [
    "top_100_obesity.describe()"
   ]
  },
  {
   "cell_type": "code",
   "execution_count": 103,
   "metadata": {},
   "outputs": [
    {
     "data": {
      "text/plain": [
       " Mississippi       15\n",
       " Arkansas          10\n",
       " Alabama           10\n",
       " Georgia           10\n",
       " Louisiana          9\n",
       " North Carolina     8\n",
       " Texas              6\n",
       " Virginia           4\n",
       " Wisconsin          3\n",
       " Tennessee          3\n",
       " Kentucky           3\n",
       " South Carolina     3\n",
       " West Virginia      2\n",
       " Iowa               2\n",
       " Oklahoma           2\n",
       " Florida            1\n",
       " Missouri           1\n",
       " Indiana            1\n",
       " Alaska             1\n",
       " Maryland           1\n",
       " Kansas             1\n",
       " North Dakota       1\n",
       " Oregon             1\n",
       " Nebraska           1\n",
       " Michigan           1\n",
       "Name: State, dtype: int64"
      ]
     },
     "execution_count": 103,
     "metadata": {},
     "output_type": "execute_result"
    }
   ],
   "source": [
    "top_100_obesity[\"State\"].value_counts()"
   ]
  },
  {
   "cell_type": "markdown",
   "metadata": {},
   "source": [
    "# IGNORE CODES BELOW THIS CELL"
   ]
  },
  {
   "cell_type": "code",
   "execution_count": 36,
   "metadata": {},
   "outputs": [],
   "source": [
    "# selected_counties = lat_lng.loc[(lat_lng[\"state\"]==\"OH\") | (lat_lng[\"state\"]==\"CA\") | (lat_lng[\"state\"]==\"SC\")]\n",
    "# counties_df = selected_counties.iloc[:,[2,3,4,5,10]]"
   ]
  },
  {
   "cell_type": "code",
   "execution_count": 37,
   "metadata": {},
   "outputs": [],
   "source": [
    "# Filtering data for the states of California, Ohio and South Carolina\n",
    "# Selecting only needed columns for \"County and State\",\"Median Income\",\"State and County Code\", and \"State\"\n",
    "# selected_states = []\n",
    "# clean_data = new_df[[\"County and State\",\"Median Income\",\"FIPS\",\"State\",\"County\"]].sort_values(by=['FIPS'])\n",
    "# states = [\" California\",\" Texas\",\" Florida\"]\n",
    "# selected_states = clean_data.loc[(clean_data[\"State\"]==\" California\") | (clean_data[\"State\"]==\" Texas\") | (clean_data[\"State\"]==\" Florida\") ]\n",
    "# selected_states.head()"
   ]
  },
  {
   "cell_type": "code",
   "execution_count": 38,
   "metadata": {},
   "outputs": [],
   "source": [
    "# create a copy of the selected_states DataFrame in order to cast the FIPS and Median Income columns as integer\n",
    "\n",
    "# selected_states_copy = selected_states.copy()\n",
    "# selected_states_copy[\"FIPS\"] = selected_states[\"FIPS\"].astype(int)\n",
    "# selected_states_copy[\"Median Income\"] = selected_states[\"Median Income\"].astype(int)\n",
    "# selected_states_copy.dtypes"
   ]
  },
  {
   "cell_type": "code",
   "execution_count": 39,
   "metadata": {},
   "outputs": [],
   "source": [
    "# Read all csv files for California, Ohio and South Carolina.\n",
    "# Extract only columns needed for analysis\n",
    "\n",
    "# california_df = pd.read_csv(csvpath_california)\n",
    "# ohio_df = pd.read_csv(csvpath_ohio)\n",
    "# south_carolina_df = pd.read_csv(csvpath_south_carolina)\n",
    "\n",
    "# ca_health_df = california_df[[\"FIPS\",\"% Adults with Obesity\",\"% Physically Inactive\",\"% With Access to Exercise Opportunities\",\"Primary Care Physicians Rate\",\"High School Graduation Rate\",\"% Unemployed\"]]\n",
    "# ohio_health_df = ohio_df[[\"FIPS\",\"% Adults with Obesity\",\"% Physically Inactive\",\"% With Access to Exercise Opportunities\",\"Primary Care Physicians Rate\",\"High School Graduation Rate\",\"% Unemployed\"]]\n",
    "# south_carolina_health_df = south_carolina_df[[\"FIPS\",\"% Adults with Obesity\",\"% Physically Inactive\",\"% With Access to Exercise Opportunities\",\"Primary Care Physicians Rate\",\"High School Graduation Rate\",\"% Unemployed\"]]\n"
   ]
  },
  {
   "cell_type": "code",
   "execution_count": 40,
   "metadata": {},
   "outputs": [],
   "source": [
    "# Concatenating all health data from countyhealth rankings for the three states into one DataFrame\n",
    "\n",
    "# all_states = [ca_health_df,ohio_health_df,south_carolina_health_df]\n",
    "# state_health_df = pd.concat(all_states)\n",
    "# state_health_df.head()"
   ]
  },
  {
   "cell_type": "code",
   "execution_count": 41,
   "metadata": {},
   "outputs": [],
   "source": [
    "# state_health_df.astype({'FIPS': 'str'}).dtypes"
   ]
  },
  {
   "cell_type": "code",
   "execution_count": 42,
   "metadata": {},
   "outputs": [],
   "source": [
    "# Add 0 to the front of State/County code\n",
    "# Used apply function along with format. Apply passes a function and applies it to every value in the series. \n",
    "# {:0>5}'.format | padding and aligning strings. :0 refers to the character we want to use to pad, in this case 0. \n",
    "# > tells it to align to the right. The 5 is the length of the returned character/digit. \n",
    "# In this case since the FIPS is only 4 digits this will apply one 0 to the front, making it a total of 5 digits\n",
    "# https://www.w3resource.com/python/python-format.php\n",
    "# https://www.geeksforgeeks.org/python-pandas-apply/\n",
    "\n",
    "# format_FIPS = state_health_df['FIPS'].apply('{:0>5}'.format)"
   ]
  },
  {
   "cell_type": "code",
   "execution_count": 43,
   "metadata": {},
   "outputs": [],
   "source": [
    "# Converting the formated FIPS to a DataFrame\n",
    "\n",
    "# FIPS_df = pd.DataFrame(format_FIPS)"
   ]
  },
  {
   "cell_type": "code",
   "execution_count": 44,
   "metadata": {},
   "outputs": [],
   "source": [
    "# Replacing the formatted FIPS column to the DataFrame\n",
    "\n",
    "# state_health_df[\"FIPS\"] = FIPS_df\n",
    "# state_health_df.head()"
   ]
  },
  {
   "cell_type": "code",
   "execution_count": 45,
   "metadata": {},
   "outputs": [],
   "source": [
    "# state_health_df.dtypes\n",
    "# state_health_df_copy = state_health_df.copy()\n",
    "# state_health_df_copy[\"FIPS\"] = state_health_df[\"FIPS\"].astype(int)\n",
    "# state_health_df_copy.dtypes\n"
   ]
  },
  {
   "cell_type": "code",
   "execution_count": 46,
   "metadata": {},
   "outputs": [],
   "source": [
    "# Merge data from the US census and countyhealthrankings into one DataFrame and drop NA\n",
    "\n",
    "# merged_df = pd.merge(state_health_df_copy,selected_states_copy,on=\"FIPS\",how=\"left\")\n",
    "# merged_df.dropna()"
   ]
  },
  {
   "cell_type": "code",
   "execution_count": 47,
   "metadata": {},
   "outputs": [],
   "source": [
    "# group_counties = counties_df.groupby(\"county\").max().reset_index().dropna()\n",
    "# group_counties.head()"
   ]
  },
  {
   "cell_type": "code",
   "execution_count": 48,
   "metadata": {},
   "outputs": [],
   "source": [
    "# merged_df_copy = merged_df.copy()\n",
    "# selected_states_series = merged_df_copy[\"County\"]\n",
    "# strip_county = selected_states_series.str.rstrip('County')\n",
    "# strip_space = strip_county.str.rstrip(' ')\n",
    "# strip_space"
   ]
  },
  {
   "cell_type": "code",
   "execution_count": 49,
   "metadata": {},
   "outputs": [],
   "source": [
    "# merged_df_copy[\"County\"] = strip_space\n",
    "# merged_df_copy.dropna().head()"
   ]
  },
  {
   "cell_type": "code",
   "execution_count": 50,
   "metadata": {},
   "outputs": [],
   "source": [
    "# group_counties_rename = group_counties.rename(columns = {\"county\":\"County\"})\n",
    "# group_counties_rename.head()"
   ]
  },
  {
   "cell_type": "code",
   "execution_count": 51,
   "metadata": {},
   "outputs": [],
   "source": [
    "# group_counties_rename_copy = group_counties_rename.copy()\n",
    "# group_counties_rename_copy[\"County\"] = group_counties_rename[\"County\"].astype(str)\n",
    "# # group_counties_rename_copy[\"Median Income\"] = group_counties_rename[\"Median Income\"].astype(int)\n",
    "# group_counties_rename_copy.dtypes"
   ]
  },
  {
   "cell_type": "markdown",
   "metadata": {},
   "source": [
    "# All States"
   ]
  },
  {
   "cell_type": "markdown",
   "metadata": {},
   "source": [
    "## Obesity vs. % Physically Inactive"
   ]
  },
  {
   "cell_type": "code",
   "execution_count": null,
   "metadata": {},
   "outputs": [],
   "source": [
    "# states_obesity_rate = all_states_merge[\"% Adults with Obesity\"]\n",
    "# states_physical = all_states_merge[\"% Physically Inactive\"]\n",
    "\n",
    "# (slope, intercept, rvalue, pvalue, stderr) = linregress(states_obesity_rate, states_physical)\n",
    "# regress_values = states_obesity_rate * slope + intercept\n",
    "# line_eq = \"y = \" + str(round(slope,2)) + \"x + \" + str(round(intercept,2))\n",
    "# plt.scatter(states_obesity_rate,states_physical,color=\"c\",edgecolors=\"black\")\n",
    "# plt.plot(states_obesity_rate,regress_values,\"r-\")\n",
    "# plt.annotate(line_eq,(35,15),fontsize=15,color=\"red\")\n",
    "# plt.xlabel(\"Obesity Rate\")\n",
    "# plt.ylabel(\"% Physically Inactive\")\n",
    "# plt.title(\"Obesity vs. % Physically Inactive\")\n",
    "# plt.show()\n",
    "\n",
    "# (print(f\"The r-squared value is: {rvalue}\"))"
   ]
  },
  {
   "cell_type": "code",
   "execution_count": null,
   "metadata": {},
   "outputs": [],
   "source": [
    "# states_obesity_rate = all_states_merge[\"% Adults with Obesity\"]\n",
    "# states_exercise = all_states_merge[\"% With Access to Exercise Opportunities\"]\n",
    "\n",
    "# (slope, intercept, rvalue, pvalue, stderr) = linregress(states_obesity_rate, states_exercise)\n",
    "# regress_values = states_obesity_rate * slope + intercept\n",
    "# line_eq = \"y = \" + str(round(slope,2)) + \"x + \" + str(round(intercept,2))\n",
    "# plt.scatter(states_obesity_rate,states_exercise,color=\"c\",edgecolors=\"black\")\n",
    "# plt.plot(states_obesity_rate,regress_values,\"r-\")\n",
    "# plt.annotate(line_eq,(20,30),fontsize=15,color=\"red\")\n",
    "# plt.xlabel(\"Obesity Rate\")\n",
    "# plt.ylabel(\"% With Access to Exercise Opportunities\")\n",
    "# plt.title(\"Obesity vs. % With Access to Exercise Opportunities\")\n",
    "# plt.show()\n",
    "\n",
    "# (print(f\"The r-squared value is: {rvalue}\"))"
   ]
  },
  {
   "cell_type": "code",
   "execution_count": null,
   "metadata": {},
   "outputs": [],
   "source": [
    "# states_obesity_rate = all_states_merge[\"% Adults with Obesity\"]\n",
    "# states_physician = all_states_merge[\"Primary Care Physicians Rate\"]\n",
    "\n",
    "# (slope, intercept, rvalue, pvalue, stderr) = linregress(states_obesity_rate, states_physician)\n",
    "# regress_values = states_obesity_rate * slope + intercept\n",
    "# line_eq = \"y = \" + str(round(slope,2)) + \"x + \" + str(round(intercept,2))\n",
    "# plt.scatter(states_obesity_rate,states_physician,color=\"c\",edgecolors=\"black\")\n",
    "# plt.plot(states_obesity_rate,regress_values,\"r-\")\n",
    "# plt.annotate(line_eq,(30,20),fontsize=15,color=\"red\")\n",
    "# plt.xlabel(\"Obesity Rate\")\n",
    "# plt.ylabel(\"Primary Care Physicians Rate\")\n",
    "# plt.title(\"Obesity vs. Primary Care Physicians Rate\")\n",
    "# plt.show()\n",
    "\n",
    "# (print(f\"The r-squared value is: {rvalue}\"))\n"
   ]
  },
  {
   "cell_type": "code",
   "execution_count": null,
   "metadata": {},
   "outputs": [],
   "source": []
  },
  {
   "cell_type": "code",
   "execution_count": null,
   "metadata": {},
   "outputs": [],
   "source": [
    "# states_obesity_rate = all_states_merge[\"% Adults with Obesity\"]\n",
    "# median_income = all_states_merge[\"Median Income\"]\n",
    "\n",
    "# (slope, intercept, rvalue, pvalue, stderr) = linregress(states_obesity_rate, median_income)\n",
    "# regress_values = states_obesity_rate * slope + intercept\n",
    "# line_eq = \"y = \" + str(round(slope,2)) + \"x + \" + str(round(intercept,2))\n",
    "# plt.scatter(states_obesity_rate,median_income,color=\"c\",edgecolors=\"black\")\n",
    "# plt.plot(states_obesity_rate,regress_values,\"r-\")\n",
    "# plt.annotate(line_eq,(26,90000),fontsize=15,color=\"red\")\n",
    "# plt.xlabel(\"Obesity Rate\")\n",
    "# plt.ylabel(\"Median Income\")\n",
    "# plt.title(\"Obesity vs. Median Income in Ohio\")\n",
    "# plt.show()\n",
    "\n",
    "# (print(f\"The r-squared value is: {rvalue}\"))"
   ]
  },
  {
   "cell_type": "code",
   "execution_count": null,
   "metadata": {},
   "outputs": [],
   "source": []
  }
 ],
 "metadata": {
  "kernelspec": {
   "display_name": "Python 3",
   "language": "python",
   "name": "python3"
  },
  "language_info": {
   "codemirror_mode": {
    "name": "ipython",
    "version": 3
   },
   "file_extension": ".py",
   "mimetype": "text/x-python",
   "name": "python",
   "nbconvert_exporter": "python",
   "pygments_lexer": "ipython3",
   "version": "3.6.12"
  }
 },
 "nbformat": 4,
 "nbformat_minor": 4
}
