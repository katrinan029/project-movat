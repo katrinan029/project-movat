{
 "cells": [
  {
   "cell_type": "markdown",
   "metadata": {},
   "source": [
    "# Obesity Rate Correlation Analysis\n",
    "\n",
    "* The analysis will encompass data from the states of California, Ohio, and South Carolina.\n",
    "* The objective is to find if there is correlation between obesity rate and the following measurements: \n",
    "    * Median household income\n",
    "    * % With access to exercise opportunities\n",
    "    * % of physically inactive\n",
    "    * Primary care physicians rate\n",
    "    * High School Unemployment rate\n",
    "    * Unemployed rate\n",
    "    "
   ]
  },
  {
   "cell_type": "code",
   "execution_count": 85,
   "metadata": {},
   "outputs": [],
   "source": [
    "import requests\n",
    "import pandas as pd\n",
    "import csv\n",
    "import matplotlib.pyplot as plt\n",
    "import numpy as np\n",
    "import time\n",
    "from scipy.stats import linregress\n",
    "from pprint import pprint"
   ]
  },
  {
   "cell_type": "code",
   "execution_count": 2,
   "metadata": {},
   "outputs": [],
   "source": [
    "# Countyhealthrankings data for California, Ohio and South Carolina\n",
    "# source https://www.countyhealthrankings.org/\n",
    "\n",
    "csvpath_california = \"./2020 County Health Rankings California Data - v1_0.csv\"\n",
    "csvpath_ohio = \"./2020 County Health Rankings Ohio Data - v1_0.csv\"\n",
    "csvpath_south_carolina = \"./2020 County Health Rankings South Carolina Data - v1_0.csv\""
   ]
  },
  {
   "cell_type": "code",
   "execution_count": 3,
   "metadata": {},
   "outputs": [
    {
     "name": "stdout",
     "output_type": "stream",
     "text": [
      "https://api.census.gov/data/2018/acs/acs5?get=NAME,B19013_001E&for=county:*&in=state:*\n"
     ]
    }
   ],
   "source": [
    "# Census URL to collect median household income for 2018 for every state and county\n",
    "\n",
    "url = \"https://api.census.gov/data/2018/acs/acs5?get=NAME,B19013_001E&for=county:*&in=state:*\"\n",
    "print(url)"
   ]
  },
  {
   "cell_type": "markdown",
   "metadata": {},
   "source": [
    "## Data Cleaning\n",
    "* Cleaning Data from the US Census and countyhealthrankings for the following states:\n",
    "    * California \n",
    "    * Ohio\n",
    "    * South Carolina"
   ]
  },
  {
   "cell_type": "code",
   "execution_count": 4,
   "metadata": {},
   "outputs": [
    {
     "data": {
      "text/html": [
       "<div>\n",
       "<style scoped>\n",
       "    .dataframe tbody tr th:only-of-type {\n",
       "        vertical-align: middle;\n",
       "    }\n",
       "\n",
       "    .dataframe tbody tr th {\n",
       "        vertical-align: top;\n",
       "    }\n",
       "\n",
       "    .dataframe thead th {\n",
       "        text-align: right;\n",
       "    }\n",
       "</style>\n",
       "<table border=\"1\" class=\"dataframe\">\n",
       "  <thead>\n",
       "    <tr style=\"text-align: right;\">\n",
       "      <th></th>\n",
       "      <th>0</th>\n",
       "      <th>1</th>\n",
       "      <th>2</th>\n",
       "      <th>3</th>\n",
       "    </tr>\n",
       "  </thead>\n",
       "  <tbody>\n",
       "    <tr>\n",
       "      <th>1</th>\n",
       "      <td>Washington County, Mississippi</td>\n",
       "      <td>30834</td>\n",
       "      <td>28</td>\n",
       "      <td>151</td>\n",
       "    </tr>\n",
       "    <tr>\n",
       "      <th>2</th>\n",
       "      <td>Perry County, Mississippi</td>\n",
       "      <td>39007</td>\n",
       "      <td>28</td>\n",
       "      <td>111</td>\n",
       "    </tr>\n",
       "    <tr>\n",
       "      <th>3</th>\n",
       "      <td>Choctaw County, Mississippi</td>\n",
       "      <td>37203</td>\n",
       "      <td>28</td>\n",
       "      <td>019</td>\n",
       "    </tr>\n",
       "    <tr>\n",
       "      <th>4</th>\n",
       "      <td>Itawamba County, Mississippi</td>\n",
       "      <td>40510</td>\n",
       "      <td>28</td>\n",
       "      <td>057</td>\n",
       "    </tr>\n",
       "    <tr>\n",
       "      <th>5</th>\n",
       "      <td>Carroll County, Mississippi</td>\n",
       "      <td>43060</td>\n",
       "      <td>28</td>\n",
       "      <td>015</td>\n",
       "    </tr>\n",
       "  </tbody>\n",
       "</table>\n",
       "</div>"
      ],
      "text/plain": [
       "                                0      1   2    3\n",
       "1  Washington County, Mississippi  30834  28  151\n",
       "2       Perry County, Mississippi  39007  28  111\n",
       "3     Choctaw County, Mississippi  37203  28  019\n",
       "4    Itawamba County, Mississippi  40510  28  057\n",
       "5     Carroll County, Mississippi  43060  28  015"
      ]
     },
     "execution_count": 4,
     "metadata": {},
     "output_type": "execute_result"
    }
   ],
   "source": [
    "# Converting census request into a DataFrame\n",
    "\n",
    "census_data = requests.get(url).json()\n",
    "df = pd.DataFrame(census_data).drop([0,])\n",
    "df.head()"
   ]
  },
  {
   "cell_type": "code",
   "execution_count": 5,
   "metadata": {},
   "outputs": [
    {
     "data": {
      "text/html": [
       "<div>\n",
       "<style scoped>\n",
       "    .dataframe tbody tr th:only-of-type {\n",
       "        vertical-align: middle;\n",
       "    }\n",
       "\n",
       "    .dataframe tbody tr th {\n",
       "        vertical-align: top;\n",
       "    }\n",
       "\n",
       "    .dataframe thead th {\n",
       "        text-align: right;\n",
       "    }\n",
       "</style>\n",
       "<table border=\"1\" class=\"dataframe\">\n",
       "  <thead>\n",
       "    <tr style=\"text-align: right;\">\n",
       "      <th></th>\n",
       "      <th>County and State</th>\n",
       "      <th>Median Income</th>\n",
       "      <th>State Code</th>\n",
       "      <th>County Code</th>\n",
       "    </tr>\n",
       "  </thead>\n",
       "  <tbody>\n",
       "    <tr>\n",
       "      <th>1</th>\n",
       "      <td>Washington County, Mississippi</td>\n",
       "      <td>30834</td>\n",
       "      <td>28</td>\n",
       "      <td>151</td>\n",
       "    </tr>\n",
       "    <tr>\n",
       "      <th>2</th>\n",
       "      <td>Perry County, Mississippi</td>\n",
       "      <td>39007</td>\n",
       "      <td>28</td>\n",
       "      <td>111</td>\n",
       "    </tr>\n",
       "    <tr>\n",
       "      <th>3</th>\n",
       "      <td>Choctaw County, Mississippi</td>\n",
       "      <td>37203</td>\n",
       "      <td>28</td>\n",
       "      <td>019</td>\n",
       "    </tr>\n",
       "    <tr>\n",
       "      <th>4</th>\n",
       "      <td>Itawamba County, Mississippi</td>\n",
       "      <td>40510</td>\n",
       "      <td>28</td>\n",
       "      <td>057</td>\n",
       "    </tr>\n",
       "    <tr>\n",
       "      <th>5</th>\n",
       "      <td>Carroll County, Mississippi</td>\n",
       "      <td>43060</td>\n",
       "      <td>28</td>\n",
       "      <td>015</td>\n",
       "    </tr>\n",
       "  </tbody>\n",
       "</table>\n",
       "</div>"
      ],
      "text/plain": [
       "                 County and State Median Income State Code County Code\n",
       "1  Washington County, Mississippi         30834         28         151\n",
       "2       Perry County, Mississippi         39007         28         111\n",
       "3     Choctaw County, Mississippi         37203         28         019\n",
       "4    Itawamba County, Mississippi         40510         28         057\n",
       "5     Carroll County, Mississippi         43060         28         015"
      ]
     },
     "execution_count": 5,
     "metadata": {},
     "output_type": "execute_result"
    }
   ],
   "source": [
    "# Renaming column headers from US Census data\n",
    "\n",
    "new_df = df.rename(columns = {0:\"County and State\",\n",
    "                             1:\"Median Income\",\n",
    "                             2:\"State Code\",\n",
    "                             3: \"County Code\"})\n",
    "new_df.head()"
   ]
  },
  {
   "cell_type": "code",
   "execution_count": 6,
   "metadata": {},
   "outputs": [
    {
     "data": {
      "text/html": [
       "<div>\n",
       "<style scoped>\n",
       "    .dataframe tbody tr th:only-of-type {\n",
       "        vertical-align: middle;\n",
       "    }\n",
       "\n",
       "    .dataframe tbody tr th {\n",
       "        vertical-align: top;\n",
       "    }\n",
       "\n",
       "    .dataframe thead th {\n",
       "        text-align: right;\n",
       "    }\n",
       "</style>\n",
       "<table border=\"1\" class=\"dataframe\">\n",
       "  <thead>\n",
       "    <tr style=\"text-align: right;\">\n",
       "      <th></th>\n",
       "      <th>County and State</th>\n",
       "      <th>Median Income</th>\n",
       "      <th>State Code</th>\n",
       "      <th>County Code</th>\n",
       "      <th>FIPS</th>\n",
       "    </tr>\n",
       "  </thead>\n",
       "  <tbody>\n",
       "    <tr>\n",
       "      <th>1</th>\n",
       "      <td>Washington County, Mississippi</td>\n",
       "      <td>30834</td>\n",
       "      <td>28</td>\n",
       "      <td>151</td>\n",
       "      <td>28151</td>\n",
       "    </tr>\n",
       "    <tr>\n",
       "      <th>2</th>\n",
       "      <td>Perry County, Mississippi</td>\n",
       "      <td>39007</td>\n",
       "      <td>28</td>\n",
       "      <td>111</td>\n",
       "      <td>28111</td>\n",
       "    </tr>\n",
       "    <tr>\n",
       "      <th>3</th>\n",
       "      <td>Choctaw County, Mississippi</td>\n",
       "      <td>37203</td>\n",
       "      <td>28</td>\n",
       "      <td>019</td>\n",
       "      <td>28019</td>\n",
       "    </tr>\n",
       "    <tr>\n",
       "      <th>4</th>\n",
       "      <td>Itawamba County, Mississippi</td>\n",
       "      <td>40510</td>\n",
       "      <td>28</td>\n",
       "      <td>057</td>\n",
       "      <td>28057</td>\n",
       "    </tr>\n",
       "    <tr>\n",
       "      <th>5</th>\n",
       "      <td>Carroll County, Mississippi</td>\n",
       "      <td>43060</td>\n",
       "      <td>28</td>\n",
       "      <td>015</td>\n",
       "      <td>28015</td>\n",
       "    </tr>\n",
       "  </tbody>\n",
       "</table>\n",
       "</div>"
      ],
      "text/plain": [
       "                 County and State Median Income State Code County Code   FIPS\n",
       "1  Washington County, Mississippi         30834         28         151  28151\n",
       "2       Perry County, Mississippi         39007         28         111  28111\n",
       "3     Choctaw County, Mississippi         37203         28         019  28019\n",
       "4    Itawamba County, Mississippi         40510         28         057  28057\n",
       "5     Carroll County, Mississippi         43060         28         015  28015"
      ]
     },
     "execution_count": 6,
     "metadata": {},
     "output_type": "execute_result"
    }
   ],
   "source": [
    "# Combining State and County Code in order to merge the DataFrame with the Countyhealthrankings\n",
    "# DataFrame\n",
    "\n",
    "new_df[\"FIPS\"] = new_df[\"State Code\"].astype(str) + new_df[\"County Code\"].astype(str)\n",
    "new_df.head()"
   ]
  },
  {
   "cell_type": "code",
   "execution_count": 7,
   "metadata": {},
   "outputs": [
    {
     "data": {
      "text/html": [
       "<div>\n",
       "<style scoped>\n",
       "    .dataframe tbody tr th:only-of-type {\n",
       "        vertical-align: middle;\n",
       "    }\n",
       "\n",
       "    .dataframe tbody tr th {\n",
       "        vertical-align: top;\n",
       "    }\n",
       "\n",
       "    .dataframe thead th {\n",
       "        text-align: right;\n",
       "    }\n",
       "</style>\n",
       "<table border=\"1\" class=\"dataframe\">\n",
       "  <thead>\n",
       "    <tr style=\"text-align: right;\">\n",
       "      <th></th>\n",
       "      <th>County and State</th>\n",
       "      <th>Median Income</th>\n",
       "      <th>State Code</th>\n",
       "      <th>County Code</th>\n",
       "      <th>FIPS</th>\n",
       "      <th>County</th>\n",
       "      <th>State</th>\n",
       "    </tr>\n",
       "  </thead>\n",
       "  <tbody>\n",
       "    <tr>\n",
       "      <th>1</th>\n",
       "      <td>Washington County, Mississippi</td>\n",
       "      <td>30834</td>\n",
       "      <td>28</td>\n",
       "      <td>151</td>\n",
       "      <td>28151</td>\n",
       "      <td>Washington County</td>\n",
       "      <td>Mississippi</td>\n",
       "    </tr>\n",
       "    <tr>\n",
       "      <th>2</th>\n",
       "      <td>Perry County, Mississippi</td>\n",
       "      <td>39007</td>\n",
       "      <td>28</td>\n",
       "      <td>111</td>\n",
       "      <td>28111</td>\n",
       "      <td>Perry County</td>\n",
       "      <td>Mississippi</td>\n",
       "    </tr>\n",
       "    <tr>\n",
       "      <th>3</th>\n",
       "      <td>Choctaw County, Mississippi</td>\n",
       "      <td>37203</td>\n",
       "      <td>28</td>\n",
       "      <td>019</td>\n",
       "      <td>28019</td>\n",
       "      <td>Choctaw County</td>\n",
       "      <td>Mississippi</td>\n",
       "    </tr>\n",
       "    <tr>\n",
       "      <th>4</th>\n",
       "      <td>Itawamba County, Mississippi</td>\n",
       "      <td>40510</td>\n",
       "      <td>28</td>\n",
       "      <td>057</td>\n",
       "      <td>28057</td>\n",
       "      <td>Itawamba County</td>\n",
       "      <td>Mississippi</td>\n",
       "    </tr>\n",
       "    <tr>\n",
       "      <th>5</th>\n",
       "      <td>Carroll County, Mississippi</td>\n",
       "      <td>43060</td>\n",
       "      <td>28</td>\n",
       "      <td>015</td>\n",
       "      <td>28015</td>\n",
       "      <td>Carroll County</td>\n",
       "      <td>Mississippi</td>\n",
       "    </tr>\n",
       "  </tbody>\n",
       "</table>\n",
       "</div>"
      ],
      "text/plain": [
       "                 County and State Median Income State Code County Code   FIPS  \\\n",
       "1  Washington County, Mississippi         30834         28         151  28151   \n",
       "2       Perry County, Mississippi         39007         28         111  28111   \n",
       "3     Choctaw County, Mississippi         37203         28         019  28019   \n",
       "4    Itawamba County, Mississippi         40510         28         057  28057   \n",
       "5     Carroll County, Mississippi         43060         28         015  28015   \n",
       "\n",
       "              County         State  \n",
       "1  Washington County   Mississippi  \n",
       "2       Perry County   Mississippi  \n",
       "3     Choctaw County   Mississippi  \n",
       "4    Itawamba County   Mississippi  \n",
       "5     Carroll County   Mississippi  "
      ]
     },
     "execution_count": 7,
     "metadata": {},
     "output_type": "execute_result"
    }
   ],
   "source": [
    "# Splitting the County and State column and creating two new columns for \"County\" and \"State\"\n",
    "# to filter by California, Ohio and South Carolina\n",
    "\n",
    "split_county_state = new_df[\"County and State\"].str.split(\",\", n = 0, expand = True) \n",
    "new_df[\"County\"]= split_county_state[0]\n",
    "new_df[\"State\"] = split_county_state[1]\n",
    "new_df.head()"
   ]
  },
  {
   "cell_type": "code",
   "execution_count": null,
   "metadata": {},
   "outputs": [],
   "source": []
  },
  {
   "cell_type": "code",
   "execution_count": 64,
   "metadata": {},
   "outputs": [
    {
     "data": {
      "text/html": [
       "<div>\n",
       "<style scoped>\n",
       "    .dataframe tbody tr th:only-of-type {\n",
       "        vertical-align: middle;\n",
       "    }\n",
       "\n",
       "    .dataframe tbody tr th {\n",
       "        vertical-align: top;\n",
       "    }\n",
       "\n",
       "    .dataframe thead th {\n",
       "        text-align: right;\n",
       "    }\n",
       "</style>\n",
       "<table border=\"1\" class=\"dataframe\">\n",
       "  <thead>\n",
       "    <tr style=\"text-align: right;\">\n",
       "      <th></th>\n",
       "      <th>County and State</th>\n",
       "      <th>Median Income</th>\n",
       "      <th>FIPS</th>\n",
       "      <th>State</th>\n",
       "    </tr>\n",
       "  </thead>\n",
       "  <tbody>\n",
       "    <tr>\n",
       "      <th>1864</th>\n",
       "      <td>Alameda County, California</td>\n",
       "      <td>92574</td>\n",
       "      <td>06001</td>\n",
       "      <td>California</td>\n",
       "    </tr>\n",
       "    <tr>\n",
       "      <th>1872</th>\n",
       "      <td>Alpine County, California</td>\n",
       "      <td>64688</td>\n",
       "      <td>06003</td>\n",
       "      <td>California</td>\n",
       "    </tr>\n",
       "    <tr>\n",
       "      <th>1893</th>\n",
       "      <td>Amador County, California</td>\n",
       "      <td>61198</td>\n",
       "      <td>06005</td>\n",
       "      <td>California</td>\n",
       "    </tr>\n",
       "    <tr>\n",
       "      <th>1884</th>\n",
       "      <td>Butte County, California</td>\n",
       "      <td>48443</td>\n",
       "      <td>06007</td>\n",
       "      <td>California</td>\n",
       "    </tr>\n",
       "    <tr>\n",
       "      <th>1888</th>\n",
       "      <td>Calaveras County, California</td>\n",
       "      <td>58151</td>\n",
       "      <td>06009</td>\n",
       "      <td>California</td>\n",
       "    </tr>\n",
       "  </tbody>\n",
       "</table>\n",
       "</div>"
      ],
      "text/plain": [
       "                  County and State Median Income   FIPS        State\n",
       "1864    Alameda County, California         92574  06001   California\n",
       "1872     Alpine County, California         64688  06003   California\n",
       "1893     Amador County, California         61198  06005   California\n",
       "1884      Butte County, California         48443  06007   California\n",
       "1888  Calaveras County, California         58151  06009   California"
      ]
     },
     "execution_count": 64,
     "metadata": {},
     "output_type": "execute_result"
    }
   ],
   "source": [
    "# Filtering data for the states of California, Ohio and South Carolina\n",
    "# Selecting only needed columns for \"County and State\",\"Median Income\",\"State and County Code\", and \"State\"\n",
    "selected_states = []\n",
    "clean_data = new_df[[\"County and State\",\"Median Income\",\"FIPS\",\"State\"]].sort_values(by=['FIPS'])\n",
    "states = [\" California\",\" Ohio\",\" South Carolina\"]\n",
    "selected_states = clean_data.loc[(clean_data[\"State\"]==\" California\") | (clean_data[\"State\"]==\" Ohio\") | (clean_data[\"State\"]==\" South Carolina\") ]\n",
    "selected_states.head()"
   ]
  },
  {
   "cell_type": "code",
   "execution_count": 129,
   "metadata": {},
   "outputs": [
    {
     "data": {
      "text/plain": [
       "County and State    object\n",
       "Median Income        int64\n",
       "FIPS                 int64\n",
       "State               object\n",
       "dtype: object"
      ]
     },
     "execution_count": 129,
     "metadata": {},
     "output_type": "execute_result"
    }
   ],
   "source": [
    "# create a copy of the selected_states DataFrame in order to cast the FIPS column as integer\n",
    "\n",
    "selected_states_copy = selected_states.copy()\n",
    "selected_states_copy[\"FIPS\"] = selected_states[\"FIPS\"].astype(int)\n",
    "selected_states_copy[\"Median Income\"] = selected_states[\"Median Income\"].astype(int)\n",
    "selected_states_copy.dtypes"
   ]
  },
  {
   "cell_type": "code",
   "execution_count": 130,
   "metadata": {},
   "outputs": [],
   "source": [
    "# Read all csv files for California, Ohio and South Carolina.\n",
    "# Extract only columns needed for analysis\n",
    "\n",
    "california_df = pd.read_csv(csvpath_california)\n",
    "ohio_df = pd.read_csv(csvpath_ohio)\n",
    "south_carolina_df = pd.read_csv(csvpath_south_carolina)\n",
    "\n",
    "ca_health_df = california_df[[\"FIPS\",\"% Adults with Obesity\",\"% Physically Inactive\",\"% With Access to Exercise Opportunities\",\"Primary Care Physicians Rate\",\"High School Graduation Rate\",\"% Unemployed\"]]\n",
    "ohio_health_df = ohio_df[[\"FIPS\",\"% Adults with Obesity\",\"% Physically Inactive\",\"% With Access to Exercise Opportunities\",\"Primary Care Physicians Rate\",\"High School Graduation Rate\",\"% Unemployed\"]]\n",
    "south_carolina_health_df = south_carolina_df[[\"FIPS\",\"% Adults with Obesity\",\"% Physically Inactive\",\"% With Access to Exercise Opportunities\",\"Primary Care Physicians Rate\",\"High School Graduation Rate\",\"% Unemployed\"]]\n"
   ]
  },
  {
   "cell_type": "code",
   "execution_count": 131,
   "metadata": {},
   "outputs": [
    {
     "data": {
      "text/html": [
       "<div>\n",
       "<style scoped>\n",
       "    .dataframe tbody tr th:only-of-type {\n",
       "        vertical-align: middle;\n",
       "    }\n",
       "\n",
       "    .dataframe tbody tr th {\n",
       "        vertical-align: top;\n",
       "    }\n",
       "\n",
       "    .dataframe thead th {\n",
       "        text-align: right;\n",
       "    }\n",
       "</style>\n",
       "<table border=\"1\" class=\"dataframe\">\n",
       "  <thead>\n",
       "    <tr style=\"text-align: right;\">\n",
       "      <th></th>\n",
       "      <th>FIPS</th>\n",
       "      <th>% Adults with Obesity</th>\n",
       "      <th>% Physically Inactive</th>\n",
       "      <th>% With Access to Exercise Opportunities</th>\n",
       "      <th>Primary Care Physicians Rate</th>\n",
       "      <th>High School Graduation Rate</th>\n",
       "      <th>% Unemployed</th>\n",
       "    </tr>\n",
       "  </thead>\n",
       "  <tbody>\n",
       "    <tr>\n",
       "      <th>0</th>\n",
       "      <td>6000</td>\n",
       "      <td>24</td>\n",
       "      <td>18</td>\n",
       "      <td>93</td>\n",
       "      <td>79</td>\n",
       "      <td>83.0</td>\n",
       "      <td>4.2</td>\n",
       "    </tr>\n",
       "    <tr>\n",
       "      <th>1</th>\n",
       "      <td>6001</td>\n",
       "      <td>19</td>\n",
       "      <td>15</td>\n",
       "      <td>100</td>\n",
       "      <td>110</td>\n",
       "      <td>87.0</td>\n",
       "      <td>3.0</td>\n",
       "    </tr>\n",
       "    <tr>\n",
       "      <th>2</th>\n",
       "      <td>6003</td>\n",
       "      <td>23</td>\n",
       "      <td>21</td>\n",
       "      <td>100</td>\n",
       "      <td>0</td>\n",
       "      <td>NaN</td>\n",
       "      <td>4.6</td>\n",
       "    </tr>\n",
       "    <tr>\n",
       "      <th>3</th>\n",
       "      <td>6005</td>\n",
       "      <td>30</td>\n",
       "      <td>25</td>\n",
       "      <td>76</td>\n",
       "      <td>67</td>\n",
       "      <td>88.0</td>\n",
       "      <td>4.0</td>\n",
       "    </tr>\n",
       "    <tr>\n",
       "      <th>4</th>\n",
       "      <td>6007</td>\n",
       "      <td>27</td>\n",
       "      <td>22</td>\n",
       "      <td>84</td>\n",
       "      <td>61</td>\n",
       "      <td>85.0</td>\n",
       "      <td>5.0</td>\n",
       "    </tr>\n",
       "    <tr>\n",
       "      <th>...</th>\n",
       "      <td>...</td>\n",
       "      <td>...</td>\n",
       "      <td>...</td>\n",
       "      <td>...</td>\n",
       "      <td>...</td>\n",
       "      <td>...</td>\n",
       "      <td>...</td>\n",
       "    </tr>\n",
       "    <tr>\n",
       "      <th>42</th>\n",
       "      <td>45083</td>\n",
       "      <td>32</td>\n",
       "      <td>28</td>\n",
       "      <td>77</td>\n",
       "      <td>68</td>\n",
       "      <td>88.0</td>\n",
       "      <td>3.1</td>\n",
       "    </tr>\n",
       "    <tr>\n",
       "      <th>43</th>\n",
       "      <td>45085</td>\n",
       "      <td>38</td>\n",
       "      <td>28</td>\n",
       "      <td>69</td>\n",
       "      <td>51</td>\n",
       "      <td>84.0</td>\n",
       "      <td>4.0</td>\n",
       "    </tr>\n",
       "    <tr>\n",
       "      <th>44</th>\n",
       "      <td>45087</td>\n",
       "      <td>39</td>\n",
       "      <td>30</td>\n",
       "      <td>65</td>\n",
       "      <td>40</td>\n",
       "      <td>76.0</td>\n",
       "      <td>4.1</td>\n",
       "    </tr>\n",
       "    <tr>\n",
       "      <th>45</th>\n",
       "      <td>45089</td>\n",
       "      <td>42</td>\n",
       "      <td>34</td>\n",
       "      <td>20</td>\n",
       "      <td>16</td>\n",
       "      <td>86.0</td>\n",
       "      <td>5.4</td>\n",
       "    </tr>\n",
       "    <tr>\n",
       "      <th>46</th>\n",
       "      <td>45091</td>\n",
       "      <td>32</td>\n",
       "      <td>24</td>\n",
       "      <td>73</td>\n",
       "      <td>44</td>\n",
       "      <td>89.0</td>\n",
       "      <td>3.3</td>\n",
       "    </tr>\n",
       "  </tbody>\n",
       "</table>\n",
       "<p>195 rows × 7 columns</p>\n",
       "</div>"
      ],
      "text/plain": [
       "     FIPS  % Adults with Obesity  % Physically Inactive  \\\n",
       "0    6000                     24                     18   \n",
       "1    6001                     19                     15   \n",
       "2    6003                     23                     21   \n",
       "3    6005                     30                     25   \n",
       "4    6007                     27                     22   \n",
       "..    ...                    ...                    ...   \n",
       "42  45083                     32                     28   \n",
       "43  45085                     38                     28   \n",
       "44  45087                     39                     30   \n",
       "45  45089                     42                     34   \n",
       "46  45091                     32                     24   \n",
       "\n",
       "    % With Access to Exercise Opportunities  Primary Care Physicians Rate  \\\n",
       "0                                        93                            79   \n",
       "1                                       100                           110   \n",
       "2                                       100                             0   \n",
       "3                                        76                            67   \n",
       "4                                        84                            61   \n",
       "..                                      ...                           ...   \n",
       "42                                       77                            68   \n",
       "43                                       69                            51   \n",
       "44                                       65                            40   \n",
       "45                                       20                            16   \n",
       "46                                       73                            44   \n",
       "\n",
       "    High School Graduation Rate  % Unemployed  \n",
       "0                          83.0           4.2  \n",
       "1                          87.0           3.0  \n",
       "2                           NaN           4.6  \n",
       "3                          88.0           4.0  \n",
       "4                          85.0           5.0  \n",
       "..                          ...           ...  \n",
       "42                         88.0           3.1  \n",
       "43                         84.0           4.0  \n",
       "44                         76.0           4.1  \n",
       "45                         86.0           5.4  \n",
       "46                         89.0           3.3  \n",
       "\n",
       "[195 rows x 7 columns]"
      ]
     },
     "execution_count": 131,
     "metadata": {},
     "output_type": "execute_result"
    }
   ],
   "source": [
    "# Concatenating all health data from countyhealth rankings for the three states into one DataFrame\n",
    "\n",
    "all_states = [ca_health_df,ohio_health_df,south_carolina_health_df]\n",
    "state_health_df = pd.concat(all_states)\n",
    "state_health_df"
   ]
  },
  {
   "cell_type": "code",
   "execution_count": 132,
   "metadata": {},
   "outputs": [
    {
     "data": {
      "text/plain": [
       "FIPS                                        object\n",
       "% Adults with Obesity                        int64\n",
       "% Physically Inactive                        int64\n",
       "% With Access to Exercise Opportunities      int64\n",
       "Primary Care Physicians Rate                 int64\n",
       "High School Graduation Rate                float64\n",
       "% Unemployed                               float64\n",
       "dtype: object"
      ]
     },
     "execution_count": 132,
     "metadata": {},
     "output_type": "execute_result"
    }
   ],
   "source": [
    "state_health_df.astype({'FIPS': 'str'}).dtypes"
   ]
  },
  {
   "cell_type": "code",
   "execution_count": 133,
   "metadata": {},
   "outputs": [],
   "source": [
    "# Add 0 to the front of State/County code\n",
    "# Used apply function along with format. Apply passes a function and applies it to every value in the series. \n",
    "# {:0>5}'.format | padding and aligning strings. :0 refers to the character we want to use to pad, in this case 0. \n",
    "# > tells it to align to the right. The 5 is the length of the returned character/digit. \n",
    "# In this case since the FIPS is only 4 digits this will apply one 0 to the front, making it a total of 5 digits\n",
    "# https://www.w3resource.com/python/python-format.php\n",
    "# https://www.geeksforgeeks.org/python-pandas-apply/\n",
    "\n",
    "format_FIPS = state_health_df['FIPS'].apply('{:0>5}'.format).head()"
   ]
  },
  {
   "cell_type": "code",
   "execution_count": 134,
   "metadata": {},
   "outputs": [],
   "source": [
    "# Converting the formated FIPS to a DataFrame\n",
    "\n",
    "FIPS_df = pd.DataFrame(format_FIPS)"
   ]
  },
  {
   "cell_type": "code",
   "execution_count": 135,
   "metadata": {},
   "outputs": [
    {
     "data": {
      "text/html": [
       "<div>\n",
       "<style scoped>\n",
       "    .dataframe tbody tr th:only-of-type {\n",
       "        vertical-align: middle;\n",
       "    }\n",
       "\n",
       "    .dataframe tbody tr th {\n",
       "        vertical-align: top;\n",
       "    }\n",
       "\n",
       "    .dataframe thead th {\n",
       "        text-align: right;\n",
       "    }\n",
       "</style>\n",
       "<table border=\"1\" class=\"dataframe\">\n",
       "  <thead>\n",
       "    <tr style=\"text-align: right;\">\n",
       "      <th></th>\n",
       "      <th>FIPS</th>\n",
       "      <th>% Adults with Obesity</th>\n",
       "      <th>% Physically Inactive</th>\n",
       "      <th>% With Access to Exercise Opportunities</th>\n",
       "      <th>Primary Care Physicians Rate</th>\n",
       "      <th>High School Graduation Rate</th>\n",
       "      <th>% Unemployed</th>\n",
       "    </tr>\n",
       "  </thead>\n",
       "  <tbody>\n",
       "    <tr>\n",
       "      <th>0</th>\n",
       "      <td>06000</td>\n",
       "      <td>24</td>\n",
       "      <td>18</td>\n",
       "      <td>93</td>\n",
       "      <td>79</td>\n",
       "      <td>83.0</td>\n",
       "      <td>4.2</td>\n",
       "    </tr>\n",
       "    <tr>\n",
       "      <th>1</th>\n",
       "      <td>06001</td>\n",
       "      <td>19</td>\n",
       "      <td>15</td>\n",
       "      <td>100</td>\n",
       "      <td>110</td>\n",
       "      <td>87.0</td>\n",
       "      <td>3.0</td>\n",
       "    </tr>\n",
       "    <tr>\n",
       "      <th>2</th>\n",
       "      <td>06003</td>\n",
       "      <td>23</td>\n",
       "      <td>21</td>\n",
       "      <td>100</td>\n",
       "      <td>0</td>\n",
       "      <td>NaN</td>\n",
       "      <td>4.6</td>\n",
       "    </tr>\n",
       "    <tr>\n",
       "      <th>3</th>\n",
       "      <td>06005</td>\n",
       "      <td>30</td>\n",
       "      <td>25</td>\n",
       "      <td>76</td>\n",
       "      <td>67</td>\n",
       "      <td>88.0</td>\n",
       "      <td>4.0</td>\n",
       "    </tr>\n",
       "    <tr>\n",
       "      <th>4</th>\n",
       "      <td>06007</td>\n",
       "      <td>27</td>\n",
       "      <td>22</td>\n",
       "      <td>84</td>\n",
       "      <td>61</td>\n",
       "      <td>85.0</td>\n",
       "      <td>5.0</td>\n",
       "    </tr>\n",
       "  </tbody>\n",
       "</table>\n",
       "</div>"
      ],
      "text/plain": [
       "    FIPS  % Adults with Obesity  % Physically Inactive  \\\n",
       "0  06000                     24                     18   \n",
       "1  06001                     19                     15   \n",
       "2  06003                     23                     21   \n",
       "3  06005                     30                     25   \n",
       "4  06007                     27                     22   \n",
       "\n",
       "   % With Access to Exercise Opportunities  Primary Care Physicians Rate  \\\n",
       "0                                       93                            79   \n",
       "1                                      100                           110   \n",
       "2                                      100                             0   \n",
       "3                                       76                            67   \n",
       "4                                       84                            61   \n",
       "\n",
       "   High School Graduation Rate  % Unemployed  \n",
       "0                         83.0           4.2  \n",
       "1                         87.0           3.0  \n",
       "2                          NaN           4.6  \n",
       "3                         88.0           4.0  \n",
       "4                         85.0           5.0  "
      ]
     },
     "execution_count": 135,
     "metadata": {},
     "output_type": "execute_result"
    }
   ],
   "source": [
    "# Replacing the formatted FIPS column to the DataFrame\n",
    "\n",
    "state_health_df[\"FIPS\"] = FIPS_df\n",
    "state_health_df.head()"
   ]
  },
  {
   "cell_type": "code",
   "execution_count": 136,
   "metadata": {},
   "outputs": [
    {
     "ename": "ValueError",
     "evalue": "You are trying to merge on object and int64 columns. If you wish to proceed you should use pd.concat",
     "output_type": "error",
     "traceback": [
      "\u001b[0;31m---------------------------------------------------------------------------\u001b[0m",
      "\u001b[0;31mValueError\u001b[0m                                Traceback (most recent call last)",
      "\u001b[0;32m<ipython-input-136-51b6acd4a132>\u001b[0m in \u001b[0;36m<module>\u001b[0;34m\u001b[0m\n\u001b[1;32m      1\u001b[0m \u001b[0;31m# Merge data from the US census and countyhealthrankings into one DataFrame and drop NA\u001b[0m\u001b[0;34m\u001b[0m\u001b[0;34m\u001b[0m\u001b[0;34m\u001b[0m\u001b[0m\n\u001b[1;32m      2\u001b[0m \u001b[0;34m\u001b[0m\u001b[0m\n\u001b[0;32m----> 3\u001b[0;31m \u001b[0mmerged_df\u001b[0m \u001b[0;34m=\u001b[0m \u001b[0mpd\u001b[0m\u001b[0;34m.\u001b[0m\u001b[0mmerge\u001b[0m\u001b[0;34m(\u001b[0m\u001b[0mstate_health_df\u001b[0m\u001b[0;34m,\u001b[0m\u001b[0mselected_states_copy\u001b[0m\u001b[0;34m,\u001b[0m\u001b[0mon\u001b[0m\u001b[0;34m=\u001b[0m\u001b[0;34m\"FIPS\"\u001b[0m\u001b[0;34m,\u001b[0m\u001b[0mhow\u001b[0m\u001b[0;34m=\u001b[0m\u001b[0;34m\"left\"\u001b[0m\u001b[0;34m)\u001b[0m\u001b[0;34m\u001b[0m\u001b[0;34m\u001b[0m\u001b[0m\n\u001b[0m\u001b[1;32m      4\u001b[0m \u001b[0mmerged_df\u001b[0m\u001b[0;34m.\u001b[0m\u001b[0mdropna\u001b[0m\u001b[0;34m(\u001b[0m\u001b[0;34m)\u001b[0m\u001b[0;34m\u001b[0m\u001b[0;34m\u001b[0m\u001b[0m\n",
      "\u001b[0;32m~/opt/anaconda3/envs/PythonData/lib/python3.6/site-packages/pandas/core/reshape/merge.py\u001b[0m in \u001b[0;36mmerge\u001b[0;34m(left, right, how, on, left_on, right_on, left_index, right_index, sort, suffixes, copy, indicator, validate)\u001b[0m\n\u001b[1;32m     84\u001b[0m         \u001b[0mcopy\u001b[0m\u001b[0;34m=\u001b[0m\u001b[0mcopy\u001b[0m\u001b[0;34m,\u001b[0m\u001b[0;34m\u001b[0m\u001b[0;34m\u001b[0m\u001b[0m\n\u001b[1;32m     85\u001b[0m         \u001b[0mindicator\u001b[0m\u001b[0;34m=\u001b[0m\u001b[0mindicator\u001b[0m\u001b[0;34m,\u001b[0m\u001b[0;34m\u001b[0m\u001b[0;34m\u001b[0m\u001b[0m\n\u001b[0;32m---> 86\u001b[0;31m         \u001b[0mvalidate\u001b[0m\u001b[0;34m=\u001b[0m\u001b[0mvalidate\u001b[0m\u001b[0;34m,\u001b[0m\u001b[0;34m\u001b[0m\u001b[0;34m\u001b[0m\u001b[0m\n\u001b[0m\u001b[1;32m     87\u001b[0m     )\n\u001b[1;32m     88\u001b[0m     \u001b[0;32mreturn\u001b[0m \u001b[0mop\u001b[0m\u001b[0;34m.\u001b[0m\u001b[0mget_result\u001b[0m\u001b[0;34m(\u001b[0m\u001b[0;34m)\u001b[0m\u001b[0;34m\u001b[0m\u001b[0;34m\u001b[0m\u001b[0m\n",
      "\u001b[0;32m~/opt/anaconda3/envs/PythonData/lib/python3.6/site-packages/pandas/core/reshape/merge.py\u001b[0m in \u001b[0;36m__init__\u001b[0;34m(self, left, right, how, on, left_on, right_on, axis, left_index, right_index, sort, suffixes, copy, indicator, validate)\u001b[0m\n\u001b[1;32m    629\u001b[0m         \u001b[0;31m# validate the merge keys dtypes. We may need to coerce\u001b[0m\u001b[0;34m\u001b[0m\u001b[0;34m\u001b[0m\u001b[0;34m\u001b[0m\u001b[0m\n\u001b[1;32m    630\u001b[0m         \u001b[0;31m# to avoid incompat dtypes\u001b[0m\u001b[0;34m\u001b[0m\u001b[0;34m\u001b[0m\u001b[0;34m\u001b[0m\u001b[0m\n\u001b[0;32m--> 631\u001b[0;31m         \u001b[0mself\u001b[0m\u001b[0;34m.\u001b[0m\u001b[0m_maybe_coerce_merge_keys\u001b[0m\u001b[0;34m(\u001b[0m\u001b[0;34m)\u001b[0m\u001b[0;34m\u001b[0m\u001b[0;34m\u001b[0m\u001b[0m\n\u001b[0m\u001b[1;32m    632\u001b[0m \u001b[0;34m\u001b[0m\u001b[0m\n\u001b[1;32m    633\u001b[0m         \u001b[0;31m# If argument passed to validate,\u001b[0m\u001b[0;34m\u001b[0m\u001b[0;34m\u001b[0m\u001b[0;34m\u001b[0m\u001b[0m\n",
      "\u001b[0;32m~/opt/anaconda3/envs/PythonData/lib/python3.6/site-packages/pandas/core/reshape/merge.py\u001b[0m in \u001b[0;36m_maybe_coerce_merge_keys\u001b[0;34m(self)\u001b[0m\n\u001b[1;32m   1144\u001b[0m                     \u001b[0minferred_right\u001b[0m \u001b[0;32min\u001b[0m \u001b[0mstring_types\u001b[0m \u001b[0;32mand\u001b[0m \u001b[0minferred_left\u001b[0m \u001b[0;32mnot\u001b[0m \u001b[0;32min\u001b[0m \u001b[0mstring_types\u001b[0m\u001b[0;34m\u001b[0m\u001b[0;34m\u001b[0m\u001b[0m\n\u001b[1;32m   1145\u001b[0m                 ):\n\u001b[0;32m-> 1146\u001b[0;31m                     \u001b[0;32mraise\u001b[0m \u001b[0mValueError\u001b[0m\u001b[0;34m(\u001b[0m\u001b[0mmsg\u001b[0m\u001b[0;34m)\u001b[0m\u001b[0;34m\u001b[0m\u001b[0;34m\u001b[0m\u001b[0m\n\u001b[0m\u001b[1;32m   1147\u001b[0m \u001b[0;34m\u001b[0m\u001b[0m\n\u001b[1;32m   1148\u001b[0m             \u001b[0;31m# datetimelikes must match exactly\u001b[0m\u001b[0;34m\u001b[0m\u001b[0;34m\u001b[0m\u001b[0;34m\u001b[0m\u001b[0m\n",
      "\u001b[0;31mValueError\u001b[0m: You are trying to merge on object and int64 columns. If you wish to proceed you should use pd.concat"
     ]
    }
   ],
   "source": [
    "# Merge data from the US census and countyhealthrankings into one DataFrame and drop NA\n",
    "\n",
    "merged_df = pd.merge(state_health_df,selected_states_copy,on=\"FIPS\",how=\"left\")\n",
    "merged_df.dropna()"
   ]
  },
  {
   "cell_type": "markdown",
   "metadata": {},
   "source": [
    "# Correlation and Regression Analysis"
   ]
  },
  {
   "cell_type": "markdown",
   "metadata": {},
   "source": [
    "## State of Ohio"
   ]
  },
  {
   "cell_type": "markdown",
   "metadata": {},
   "source": [
    "#### Obesity vs. % Physically Inactive"
   ]
  },
  {
   "cell_type": "code",
   "execution_count": 114,
   "metadata": {},
   "outputs": [
    {
     "data": {
      "image/png": "[encoded data removed]",
      "text/plain": [
       "<Figure size 432x288 with 1 Axes>"
      ]
     },
     "metadata": {
      "needs_background": "light"
     },
     "output_type": "display_data"
    },
    {
     "name": "stdout",
     "output_type": "stream",
     "text": [
      "The r-squared value is: 0.5885488413368728\n"
     ]
    }
   ],
   "source": [
    "ohio_analysis = merged_df.loc[merged_df[\"State\"] == \" Ohio\" ]\n",
    "ohio_obesity_rate = ohio_analysis[\"% Adults with Obesity\"]\n",
    "ohio_physical = ohio_analysis[\"% Physically Inactive\"]\n",
    "\n",
    "(slope, intercept, rvalue, pvalue, stderr) = linregress(ohio_obesity_rate, ohio_physical)\n",
    "regress_values = ohio_obesity_rate * slope + intercept\n",
    "line_eq = \"y = \" + str(round(slope,2)) + \"x + \" + str(round(intercept,2))\n",
    "plt.scatter(ohio_obesity_rate,ohio_physical,color=\"c\",edgecolors=\"black\")\n",
    "plt.plot(ohio_obesity_rate,regress_values,\"r-\")\n",
    "plt.annotate(line_eq,(30,20),fontsize=15,color=\"red\")\n",
    "plt.xlabel(\"Obesity Rate\")\n",
    "plt.ylabel(\"% Physically Inactive\")\n",
    "plt.title(\"Obesity vs. % Physically Inactive\")\n",
    "plt.show()\n",
    "\n",
    "(print(f\"The r-squared value is: {rvalue}\"))"
   ]
  },
  {
   "cell_type": "markdown",
   "metadata": {},
   "source": [
    "#### Obesity vs. % With Access to Exercise Opportunities"
   ]
  },
  {
   "cell_type": "code",
   "execution_count": 115,
   "metadata": {},
   "outputs": [
    {
     "data": {
      "image/png": "[encoded data removed]",
      "text/plain": [
       "<Figure size 432x288 with 1 Axes>"
      ]
     },
     "metadata": {
      "needs_background": "light"
     },
     "output_type": "display_data"
    },
    {
     "name": "stdout",
     "output_type": "stream",
     "text": [
      "The r-squared value is: -0.3300541775387202\n"
     ]
    }
   ],
   "source": [
    "ohio_analysis = merged_df.loc[merged_df[\"State\"] == \" Ohio\" ]\n",
    "ohio_obesity_rate = ohio_analysis[\"% Adults with Obesity\"]\n",
    "ohio_exercise = ohio_analysis[\"% With Access to Exercise Opportunities\"]\n",
    "\n",
    "(slope, intercept, rvalue, pvalue, stderr) = linregress(ohio_obesity_rate, ohio_exercise)\n",
    "regress_values = ohio_obesity_rate * slope + intercept\n",
    "line_eq = \"y = \" + str(round(slope,2)) + \"x + \" + str(round(intercept,2))\n",
    "plt.scatter(ohio_obesity_rate,ohio_exercise,color=\"c\",edgecolors=\"black\")\n",
    "plt.plot(ohio_obesity_rate,regress_values,\"r-\")\n",
    "plt.annotate(line_eq,(30,20),fontsize=15,color=\"red\")\n",
    "plt.xlabel(\"Obesity Rate\")\n",
    "plt.ylabel(\"% With Access to Exercise Opportunities\")\n",
    "plt.title(\"Obesity vs. % With Access to Exercise Opportunities\")\n",
    "plt.show()\n",
    "\n",
    "(print(f\"The r-squared value is: {rvalue}\"))"
   ]
  },
  {
   "cell_type": "markdown",
   "metadata": {},
   "source": [
    "#### Obesity vs. Primary Care Physicians Rate"
   ]
  },
  {
   "cell_type": "code",
   "execution_count": 116,
   "metadata": {},
   "outputs": [
    {
     "data": {
      "image/png": "[encoded data removed]",
      "text/plain": [
       "<Figure size 432x288 with 1 Axes>"
      ]
     },
     "metadata": {
      "needs_background": "light"
     },
     "output_type": "display_data"
    },
    {
     "name": "stdout",
     "output_type": "stream",
     "text": [
      "The r-squared value is: -0.38667593029688896\n"
     ]
    }
   ],
   "source": [
    "ohio_analysis = merged_df.loc[merged_df[\"State\"] == \" Ohio\" ]\n",
    "ohio_obesity_rate = ohio_analysis[\"% Adults with Obesity\"]\n",
    "ohio_physician = ohio_analysis[\"Primary Care Physicians Rate\"]\n",
    "\n",
    "(slope, intercept, rvalue, pvalue, stderr) = linregress(ohio_obesity_rate, ohio_physician)\n",
    "regress_values = ohio_obesity_rate * slope + intercept\n",
    "line_eq = \"y = \" + str(round(slope,2)) + \"x + \" + str(round(intercept,2))\n",
    "plt.scatter(ohio_obesity_rate,ohio_physician,color=\"c\",edgecolors=\"black\")\n",
    "plt.plot(ohio_obesity_rate,regress_values,\"r-\")\n",
    "plt.annotate(line_eq,(30,20),fontsize=15,color=\"red\")\n",
    "plt.xlabel(\"Obesity Rate\")\n",
    "plt.ylabel(\"Primary Care Physicians Rate\")\n",
    "plt.title(\"Obesity vs. Primary Care Physicians Rate\")\n",
    "plt.show()\n",
    "\n",
    "(print(f\"The r-squared value is: {rvalue}\"))\n"
   ]
  },
  {
   "cell_type": "markdown",
   "metadata": {},
   "source": [
    "#### Obesity vs. High School Graduation Rate"
   ]
  },
  {
   "cell_type": "code",
   "execution_count": 123,
   "metadata": {},
   "outputs": [
    {
     "data": {
      "image/png": "[encoded data removed]",
      "text/plain": [
       "<Figure size 432x288 with 1 Axes>"
      ]
     },
     "metadata": {
      "needs_background": "light"
     },
     "output_type": "display_data"
    },
    {
     "name": "stdout",
     "output_type": "stream",
     "text": [
      "The r-squared value is: 0.04068527727508829\n"
     ]
    }
   ],
   "source": [
    "ohio_analysis = merged_df.loc[merged_df[\"State\"] == \" Ohio\" ]\n",
    "ohio_obesity_rate = ohio_analysis[\"% Adults with Obesity\"]\n",
    "ohio_graduation = ohio_analysis[\"High School Graduation Rate\"]\n",
    "\n",
    "(slope, intercept, rvalue, pvalue, stderr) = linregress(ohio_obesity_rate, ohio_graduation)\n",
    "regress_values = ohio_obesity_rate * slope + intercept\n",
    "line_eq = \"y = \" + str(round(slope,2)) + \"x + \" + str(round(intercept,2))\n",
    "plt.scatter(ohio_obesity_rate,ohio_graduation,color=\"c\",edgecolors=\"black\")\n",
    "plt.plot(ohio_obesity_rate,regress_values,\"r-\")\n",
    "plt.annotate(line_eq,(26,86),fontsize=15,color=\"red\")\n",
    "plt.xlabel(\"Obesity Rate\")\n",
    "plt.ylabel(\"High School Graduation Rate\")\n",
    "plt.title(\"Obesity vs. High School Graduation Rate\")\n",
    "plt.show()\n",
    "\n",
    "(print(f\"The r-squared value is: {rvalue}\"))"
   ]
  },
  {
   "cell_type": "markdown",
   "metadata": {},
   "source": [
    "#### Obesity rate vs. % Unemployed"
   ]
  },
  {
   "cell_type": "code",
   "execution_count": 124,
   "metadata": {},
   "outputs": [
    {
     "data": {
      "image/png": "[encoded data removed]",
      "text/plain": [
       "<Figure size 432x288 with 1 Axes>"
      ]
     },
     "metadata": {
      "needs_background": "light"
     },
     "output_type": "display_data"
    },
    {
     "name": "stdout",
     "output_type": "stream",
     "text": [
      "The r-squared value is: 0.3041473291712161\n"
     ]
    }
   ],
   "source": [
    "ohio_analysis = merged_df.loc[merged_df[\"State\"] == \" Ohio\" ]\n",
    "ohio_obesity_rate = ohio_analysis[\"% Adults with Obesity\"]\n",
    "ohio_unemployed = ohio_analysis[\"% Unemployed\"]\n",
    "\n",
    "(slope, intercept, rvalue, pvalue, stderr) = linregress(ohio_obesity_rate, ohio_unemployed)\n",
    "regress_values = ohio_obesity_rate * slope + intercept\n",
    "line_eq = \"y = \" + str(round(slope,2)) + \"x + \" + str(round(intercept,2))\n",
    "plt.scatter(ohio_obesity_rate,ohio_unemployed,color=\"c\",edgecolors=\"black\")\n",
    "plt.plot(ohio_obesity_rate,regress_values,\"r-\")\n",
    "plt.annotate(line_eq,(26,3),fontsize=15,color=\"red\")\n",
    "plt.xlabel(\"Obesity Rate\")\n",
    "plt.ylabel(\"% Unemployed\")\n",
    "plt.title(\"Obesity vs. % Unemployed\")\n",
    "plt.show()\n",
    "\n",
    "(print(f\"The r-squared value is: {rvalue}\"))"
   ]
  },
  {
   "cell_type": "code",
   "execution_count": 128,
   "metadata": {},
   "outputs": [
    {
     "data": {
      "text/plain": [
       "FIPS                                         int64\n",
       "% Adults with Obesity                        int64\n",
       "% Physically Inactive                        int64\n",
       "% With Access to Exercise Opportunities      int64\n",
       "Primary Care Physicians Rate                 int64\n",
       "High School Graduation Rate                float64\n",
       "% Unemployed                               float64\n",
       "County and State                            object\n",
       "Median Income                               object\n",
       "State                                       object\n",
       "dtype: object"
      ]
     },
     "execution_count": 128,
     "metadata": {},
     "output_type": "execute_result"
    }
   ],
   "source": [
    "ohio_analysis.dtypes"
   ]
  },
  {
   "cell_type": "code",
   "execution_count": 127,
   "metadata": {},
   "outputs": [
    {
     "ename": "TypeError",
     "evalue": "unsupported operand type(s) for /: 'str' and 'int'",
     "output_type": "error",
     "traceback": [
      "\u001b[0;31m---------------------------------------------------------------------------\u001b[0m",
      "\u001b[0;31mTypeError\u001b[0m                                 Traceback (most recent call last)",
      "\u001b[0;32m<ipython-input-127-c6f393c44312>\u001b[0m in \u001b[0;36m<module>\u001b[0;34m\u001b[0m\n\u001b[1;32m      3\u001b[0m \u001b[0mohio_median_income\u001b[0m \u001b[0;34m=\u001b[0m \u001b[0mohio_analysis\u001b[0m\u001b[0;34m[\u001b[0m\u001b[0;34m\"Median Income\"\u001b[0m\u001b[0;34m]\u001b[0m\u001b[0;34m\u001b[0m\u001b[0;34m\u001b[0m\u001b[0m\n\u001b[1;32m      4\u001b[0m \u001b[0;34m\u001b[0m\u001b[0m\n\u001b[0;32m----> 5\u001b[0;31m \u001b[0;34m(\u001b[0m\u001b[0mslope\u001b[0m\u001b[0;34m,\u001b[0m \u001b[0mintercept\u001b[0m\u001b[0;34m,\u001b[0m \u001b[0mrvalue\u001b[0m\u001b[0;34m,\u001b[0m \u001b[0mpvalue\u001b[0m\u001b[0;34m,\u001b[0m \u001b[0mstderr\u001b[0m\u001b[0;34m)\u001b[0m \u001b[0;34m=\u001b[0m \u001b[0mlinregress\u001b[0m\u001b[0;34m(\u001b[0m\u001b[0mohio_obesity_rate\u001b[0m\u001b[0;34m,\u001b[0m \u001b[0mohio_median_income\u001b[0m\u001b[0;34m)\u001b[0m\u001b[0;34m\u001b[0m\u001b[0;34m\u001b[0m\u001b[0m\n\u001b[0m\u001b[1;32m      6\u001b[0m \u001b[0mregress_values\u001b[0m \u001b[0;34m=\u001b[0m \u001b[0mohio_obesity_rate\u001b[0m \u001b[0;34m*\u001b[0m \u001b[0mslope\u001b[0m \u001b[0;34m+\u001b[0m \u001b[0mintercept\u001b[0m\u001b[0;34m\u001b[0m\u001b[0;34m\u001b[0m\u001b[0m\n\u001b[1;32m      7\u001b[0m \u001b[0mline_eq\u001b[0m \u001b[0;34m=\u001b[0m \u001b[0;34m\"y = \"\u001b[0m \u001b[0;34m+\u001b[0m \u001b[0mstr\u001b[0m\u001b[0;34m(\u001b[0m\u001b[0mround\u001b[0m\u001b[0;34m(\u001b[0m\u001b[0mslope\u001b[0m\u001b[0;34m,\u001b[0m\u001b[0;36m2\u001b[0m\u001b[0;34m)\u001b[0m\u001b[0;34m)\u001b[0m \u001b[0;34m+\u001b[0m \u001b[0;34m\"x + \"\u001b[0m \u001b[0;34m+\u001b[0m \u001b[0mstr\u001b[0m\u001b[0;34m(\u001b[0m\u001b[0mround\u001b[0m\u001b[0;34m(\u001b[0m\u001b[0mintercept\u001b[0m\u001b[0;34m,\u001b[0m\u001b[0;36m2\u001b[0m\u001b[0;34m)\u001b[0m\u001b[0;34m)\u001b[0m\u001b[0;34m\u001b[0m\u001b[0;34m\u001b[0m\u001b[0m\n",
      "\u001b[0;32m~/opt/anaconda3/envs/PythonData/lib/python3.6/site-packages/scipy/stats/_stats_mstats_common.py\u001b[0m in \u001b[0;36mlinregress\u001b[0;34m(x, y)\u001b[0m\n\u001b[1;32m    111\u001b[0m     \u001b[0mn\u001b[0m \u001b[0;34m=\u001b[0m \u001b[0mlen\u001b[0m\u001b[0;34m(\u001b[0m\u001b[0mx\u001b[0m\u001b[0;34m)\u001b[0m\u001b[0;34m\u001b[0m\u001b[0;34m\u001b[0m\u001b[0m\n\u001b[1;32m    112\u001b[0m     \u001b[0mxmean\u001b[0m \u001b[0;34m=\u001b[0m \u001b[0mnp\u001b[0m\u001b[0;34m.\u001b[0m\u001b[0mmean\u001b[0m\u001b[0;34m(\u001b[0m\u001b[0mx\u001b[0m\u001b[0;34m,\u001b[0m \u001b[0;32mNone\u001b[0m\u001b[0;34m)\u001b[0m\u001b[0;34m\u001b[0m\u001b[0;34m\u001b[0m\u001b[0m\n\u001b[0;32m--> 113\u001b[0;31m     \u001b[0mymean\u001b[0m \u001b[0;34m=\u001b[0m \u001b[0mnp\u001b[0m\u001b[0;34m.\u001b[0m\u001b[0mmean\u001b[0m\u001b[0;34m(\u001b[0m\u001b[0my\u001b[0m\u001b[0;34m,\u001b[0m \u001b[0;32mNone\u001b[0m\u001b[0;34m)\u001b[0m\u001b[0;34m\u001b[0m\u001b[0;34m\u001b[0m\u001b[0m\n\u001b[0m\u001b[1;32m    114\u001b[0m \u001b[0;34m\u001b[0m\u001b[0m\n\u001b[1;32m    115\u001b[0m     \u001b[0;31m# average sum of squares:\u001b[0m\u001b[0;34m\u001b[0m\u001b[0;34m\u001b[0m\u001b[0;34m\u001b[0m\u001b[0m\n",
      "\u001b[0;32m<__array_function__ internals>\u001b[0m in \u001b[0;36mmean\u001b[0;34m(*args, **kwargs)\u001b[0m\n",
      "\u001b[0;32m~/opt/anaconda3/envs/PythonData/lib/python3.6/site-packages/numpy/core/fromnumeric.py\u001b[0m in \u001b[0;36mmean\u001b[0;34m(a, axis, dtype, out, keepdims)\u001b[0m\n\u001b[1;32m   3255\u001b[0m \u001b[0;34m\u001b[0m\u001b[0m\n\u001b[1;32m   3256\u001b[0m     return _methods._mean(a, axis=axis, dtype=dtype,\n\u001b[0;32m-> 3257\u001b[0;31m                           out=out, **kwargs)\n\u001b[0m\u001b[1;32m   3258\u001b[0m \u001b[0;34m\u001b[0m\u001b[0m\n\u001b[1;32m   3259\u001b[0m \u001b[0;34m\u001b[0m\u001b[0m\n",
      "\u001b[0;32m~/opt/anaconda3/envs/PythonData/lib/python3.6/site-packages/numpy/core/_methods.py\u001b[0m in \u001b[0;36m_mean\u001b[0;34m(a, axis, dtype, out, keepdims)\u001b[0m\n\u001b[1;32m    161\u001b[0m             \u001b[0mret\u001b[0m \u001b[0;34m=\u001b[0m \u001b[0mret\u001b[0m\u001b[0;34m.\u001b[0m\u001b[0mdtype\u001b[0m\u001b[0;34m.\u001b[0m\u001b[0mtype\u001b[0m\u001b[0;34m(\u001b[0m\u001b[0mret\u001b[0m \u001b[0;34m/\u001b[0m \u001b[0mrcount\u001b[0m\u001b[0;34m)\u001b[0m\u001b[0;34m\u001b[0m\u001b[0;34m\u001b[0m\u001b[0m\n\u001b[1;32m    162\u001b[0m     \u001b[0;32melse\u001b[0m\u001b[0;34m:\u001b[0m\u001b[0;34m\u001b[0m\u001b[0;34m\u001b[0m\u001b[0m\n\u001b[0;32m--> 163\u001b[0;31m         \u001b[0mret\u001b[0m \u001b[0;34m=\u001b[0m \u001b[0mret\u001b[0m \u001b[0;34m/\u001b[0m \u001b[0mrcount\u001b[0m\u001b[0;34m\u001b[0m\u001b[0;34m\u001b[0m\u001b[0m\n\u001b[0m\u001b[1;32m    164\u001b[0m \u001b[0;34m\u001b[0m\u001b[0m\n\u001b[1;32m    165\u001b[0m     \u001b[0;32mreturn\u001b[0m \u001b[0mret\u001b[0m\u001b[0;34m\u001b[0m\u001b[0;34m\u001b[0m\u001b[0m\n",
      "\u001b[0;31mTypeError\u001b[0m: unsupported operand type(s) for /: 'str' and 'int'"
     ]
    }
   ],
   "source": [
    "ohio_analysis = merged_df.loc[merged_df[\"State\"] == \" Ohio\" ]\n",
    "ohio_obesity_rate = ohio_analysis[\"% Adults with Obesity\"]\n",
    "ohio_median_income = ohio_analysis[\"Median Income\"]\n",
    "\n",
    "(slope, intercept, rvalue, pvalue, stderr) = linregress(ohio_obesity_rate, ohio_median_income)\n",
    "regress_values = ohio_obesity_rate * slope + intercept\n",
    "line_eq = \"y = \" + str(round(slope,2)) + \"x + \" + str(round(intercept,2))\n",
    "plt.scatter(ohio_obesity_rate,ohio_median_income,color=\"c\",edgecolors=\"black\")\n",
    "plt.plot(ohio_obesity_rate,regress_values,\"r-\")\n",
    "plt.xlabel(\"Obesity Rate\")\n",
    "plt.ylabel(\"Median Income\")\n",
    "plt.title(\"Obesity vs. Median Income in Ohio\")\n",
    "plt.show()\n",
    "\n",
    "(print(f\"The r-squared value is: {rvalue}\"))"
   ]
  },
  {
   "cell_type": "code",
   "execution_count": null,
   "metadata": {},
   "outputs": [],
   "source": []
  }
 ],
 "metadata": {
  "kernelspec": {
   "display_name": "Python 3",
   "language": "python",
   "name": "python3"
  },
  "language_info": {
   "codemirror_mode": {
    "name": "ipython",
    "version": 3
   },
   "file_extension": ".py",
   "mimetype": "text/x-python",
   "name": "python",
   "nbconvert_exporter": "python",
   "pygments_lexer": "ipython3",
   "version": "3.6.10"
  }
 },
 "nbformat": 4,
 "nbformat_minor": 4
}
